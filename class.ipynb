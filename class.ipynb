{
  "nbformat": 4,
  "nbformat_minor": 0,
  "metadata": {
    "colab": {
      "name": "class.ipynb",
      "provenance": [],
      "authorship_tag": "ABX9TyOQWRl0JbvO+6l5kEk7umQY",
      "include_colab_link": true
    },
    "kernelspec": {
      "name": "python3",
      "display_name": "Python 3"
    }
  },
  "cells": [
    {
      "cell_type": "markdown",
      "metadata": {
        "id": "view-in-github",
        "colab_type": "text"
      },
      "source": [
        "<a href=\"https://colab.research.google.com/github/jimaguere/Electiva_1/blob/main/class.ipynb\" target=\"_parent\"><img src=\"https://colab.research.google.com/assets/colab-badge.svg\" alt=\"Open In Colab\"/></a>"
      ]
    },
    {
      "cell_type": "code",
      "metadata": {
        "colab": {
          "base_uri": "https://localhost:8080/"
        },
        "id": "9ol7FPI4w__9",
        "outputId": "0ab614d0-aee5-45da-80ec-fc02ca0c86fd"
      },
      "source": [
        "\r\n",
        "from google.colab import drive\r\n",
        "drive.mount('/content/drive')"
      ],
      "execution_count": 14,
      "outputs": [
        {
          "output_type": "stream",
          "text": [
            "Drive already mounted at /content/drive; to attempt to forcibly remount, call drive.mount(\"/content/drive\", force_remount=True).\n"
          ],
          "name": "stdout"
        }
      ]
    },
    {
      "cell_type": "code",
      "metadata": {
        "id": "LH-3AyfNx2eX"
      },
      "source": [
        "import joblib \r\n",
        "\r\n",
        "#cargo modelo\r\n",
        "\r\n",
        "modelo=joblib.load(\"/content/drive/MyDrive/ELECTIVA 1/modelo_arbol.dat\")\r\n",
        "columnas=joblib.load(\"/content/drive/MyDrive/ELECTIVA 1/columnas.dat\")"
      ],
      "execution_count": 15,
      "outputs": []
    },
    {
      "cell_type": "code",
      "metadata": {
        "colab": {
          "base_uri": "https://localhost:8080/",
          "height": 224
        },
        "id": "4fB8jXlxyIzw",
        "outputId": "91e906e5-19c6-4b66-9f21-95e3b1c983ec"
      },
      "source": [
        "import pandas as pd\r\n",
        "import numpy as np\r\n",
        "\r\n",
        "datos=pd.read_csv(\"/content/drive/MyDrive/ELECTIVA 1/evaluacion.csv\",sep=\"|\")\r\n",
        "datos.head()"
      ],
      "execution_count": 16,
      "outputs": [
        {
          "output_type": "execute_result",
          "data": {
            "text/html": [
              "<div>\n",
              "<style scoped>\n",
              "    .dataframe tbody tr th:only-of-type {\n",
              "        vertical-align: middle;\n",
              "    }\n",
              "\n",
              "    .dataframe tbody tr th {\n",
              "        vertical-align: top;\n",
              "    }\n",
              "\n",
              "    .dataframe thead th {\n",
              "        text-align: right;\n",
              "    }\n",
              "</style>\n",
              "<table border=\"1\" class=\"dataframe\">\n",
              "  <thead>\n",
              "    <tr style=\"text-align: right;\">\n",
              "      <th></th>\n",
              "      <th>cod_alumno</th>\n",
              "      <th>sexo_f</th>\n",
              "      <th>puntaje_ingreso</th>\n",
              "      <th>promedio_notas</th>\n",
              "      <th>total_creditos_logrados</th>\n",
              "      <th>biologia</th>\n",
              "      <th>matematicas</th>\n",
              "      <th>filosofia</th>\n",
              "      <th>fisica</th>\n",
              "      <th>historia</th>\n",
              "      <th>quimica</th>\n",
              "      <th>lenguaje</th>\n",
              "      <th>geografia</th>\n",
              "      <th>idiomas</th>\n",
              "      <th>sociales</th>\n",
              "      <th>lecturacritica</th>\n",
              "      <th>ciencias</th>\n",
              "      <th>razonamiento</th>\n",
              "      <th>competenciaciud</th>\n",
              "      <th>valor_matricula</th>\n",
              "      <th>valor_servicios</th>\n",
              "      <th>ingresos</th>\n",
              "      <th>vive_familia</th>\n",
              "      <th>estrato</th>\n",
              "      <th>estrato_vivira</th>\n",
              "      <th>actualmente_trabaja</th>\n",
              "      <th>valor_matric_colegio</th>\n",
              "      <th>ano_pago_colegio</th>\n",
              "      <th>ingresos_familiares</th>\n",
              "      <th>ano_ingresos</th>\n",
              "      <th>numero_aportantes</th>\n",
              "      <th>numero_hermanos</th>\n",
              "      <th>numero_hermanos_est_superior</th>\n",
              "      <th>edad_reporte</th>\n",
              "      <th>anio_reporte</th>\n",
              "      <th>clase</th>\n",
              "    </tr>\n",
              "  </thead>\n",
              "  <tbody>\n",
              "    <tr>\n",
              "      <th>0</th>\n",
              "      <td>7644</td>\n",
              "      <td>0</td>\n",
              "      <td>63.14</td>\n",
              "      <td>2.610870</td>\n",
              "      <td>0.0</td>\n",
              "      <td>NaN</td>\n",
              "      <td>NaN</td>\n",
              "      <td>NaN</td>\n",
              "      <td>NaN</td>\n",
              "      <td>NaN</td>\n",
              "      <td>NaN</td>\n",
              "      <td>NaN</td>\n",
              "      <td>NaN</td>\n",
              "      <td>NaN</td>\n",
              "      <td>NaN</td>\n",
              "      <td>NaN</td>\n",
              "      <td>NaN</td>\n",
              "      <td>NaN</td>\n",
              "      <td>NaN</td>\n",
              "      <td>NaN</td>\n",
              "      <td>NaN</td>\n",
              "      <td>NaN</td>\n",
              "      <td>0</td>\n",
              "      <td>NaN</td>\n",
              "      <td>NaN</td>\n",
              "      <td>NaN</td>\n",
              "      <td>NaN</td>\n",
              "      <td>NaN</td>\n",
              "      <td>NaN</td>\n",
              "      <td>NaN</td>\n",
              "      <td>NaN</td>\n",
              "      <td>NaN</td>\n",
              "      <td>NaN</td>\n",
              "      <td>48.0</td>\n",
              "      <td>2018.0</td>\n",
              "      <td>NaN</td>\n",
              "    </tr>\n",
              "    <tr>\n",
              "      <th>1</th>\n",
              "      <td>22155233</td>\n",
              "      <td>0</td>\n",
              "      <td>46.35</td>\n",
              "      <td>2.588421</td>\n",
              "      <td>152.0</td>\n",
              "      <td>50.0</td>\n",
              "      <td>42.0</td>\n",
              "      <td>43.0</td>\n",
              "      <td>53.0</td>\n",
              "      <td>42.0</td>\n",
              "      <td>43.0</td>\n",
              "      <td>48.0</td>\n",
              "      <td>44.0</td>\n",
              "      <td>NaN</td>\n",
              "      <td>NaN</td>\n",
              "      <td>NaN</td>\n",
              "      <td>NaN</td>\n",
              "      <td>NaN</td>\n",
              "      <td>NaN</td>\n",
              "      <td>0.0</td>\n",
              "      <td>0.0</td>\n",
              "      <td>0.0</td>\n",
              "      <td>1</td>\n",
              "      <td>1.0</td>\n",
              "      <td>1.0</td>\n",
              "      <td>0.0</td>\n",
              "      <td>25000.0</td>\n",
              "      <td>2001.0</td>\n",
              "      <td>2550000.0</td>\n",
              "      <td>2006.0</td>\n",
              "      <td>1.0</td>\n",
              "      <td>2.0</td>\n",
              "      <td>0.0</td>\n",
              "      <td>33.0</td>\n",
              "      <td>2018.0</td>\n",
              "      <td>NaN</td>\n",
              "    </tr>\n",
              "    <tr>\n",
              "      <th>2</th>\n",
              "      <td>23033258</td>\n",
              "      <td>0</td>\n",
              "      <td>53.65</td>\n",
              "      <td>2.733663</td>\n",
              "      <td>172.0</td>\n",
              "      <td>57.0</td>\n",
              "      <td>51.0</td>\n",
              "      <td>33.0</td>\n",
              "      <td>62.0</td>\n",
              "      <td>56.0</td>\n",
              "      <td>52.0</td>\n",
              "      <td>52.0</td>\n",
              "      <td>50.0</td>\n",
              "      <td>0.0</td>\n",
              "      <td>NaN</td>\n",
              "      <td>NaN</td>\n",
              "      <td>NaN</td>\n",
              "      <td>NaN</td>\n",
              "      <td>NaN</td>\n",
              "      <td>NaN</td>\n",
              "      <td>NaN</td>\n",
              "      <td>NaN</td>\n",
              "      <td>0</td>\n",
              "      <td>NaN</td>\n",
              "      <td>NaN</td>\n",
              "      <td>0.0</td>\n",
              "      <td>0.0</td>\n",
              "      <td>NaN</td>\n",
              "      <td>0.0</td>\n",
              "      <td>NaN</td>\n",
              "      <td>NaN</td>\n",
              "      <td>0.0</td>\n",
              "      <td>0.0</td>\n",
              "      <td>39.0</td>\n",
              "      <td>2018.0</td>\n",
              "      <td>NaN</td>\n",
              "    </tr>\n",
              "    <tr>\n",
              "      <th>3</th>\n",
              "      <td>23038230</td>\n",
              "      <td>0</td>\n",
              "      <td>43.40</td>\n",
              "      <td>2.941489</td>\n",
              "      <td>162.0</td>\n",
              "      <td>40.0</td>\n",
              "      <td>39.0</td>\n",
              "      <td>36.0</td>\n",
              "      <td>47.0</td>\n",
              "      <td>45.0</td>\n",
              "      <td>40.0</td>\n",
              "      <td>50.0</td>\n",
              "      <td>47.0</td>\n",
              "      <td>0.0</td>\n",
              "      <td>NaN</td>\n",
              "      <td>NaN</td>\n",
              "      <td>NaN</td>\n",
              "      <td>NaN</td>\n",
              "      <td>NaN</td>\n",
              "      <td>NaN</td>\n",
              "      <td>NaN</td>\n",
              "      <td>NaN</td>\n",
              "      <td>0</td>\n",
              "      <td>1.0</td>\n",
              "      <td>1.0</td>\n",
              "      <td>0.0</td>\n",
              "      <td>2500.0</td>\n",
              "      <td>1997.0</td>\n",
              "      <td>4500000.0</td>\n",
              "      <td>2008.0</td>\n",
              "      <td>1.0</td>\n",
              "      <td>2.0</td>\n",
              "      <td>0.0</td>\n",
              "      <td>36.0</td>\n",
              "      <td>2018.0</td>\n",
              "      <td>NaN</td>\n",
              "    </tr>\n",
              "    <tr>\n",
              "      <th>4</th>\n",
              "      <td>23038265</td>\n",
              "      <td>1</td>\n",
              "      <td>0.00</td>\n",
              "      <td>3.150000</td>\n",
              "      <td>181.0</td>\n",
              "      <td>48.0</td>\n",
              "      <td>40.0</td>\n",
              "      <td>46.0</td>\n",
              "      <td>47.0</td>\n",
              "      <td>49.0</td>\n",
              "      <td>43.0</td>\n",
              "      <td>48.0</td>\n",
              "      <td>52.0</td>\n",
              "      <td>0.0</td>\n",
              "      <td>NaN</td>\n",
              "      <td>NaN</td>\n",
              "      <td>NaN</td>\n",
              "      <td>NaN</td>\n",
              "      <td>NaN</td>\n",
              "      <td>NaN</td>\n",
              "      <td>NaN</td>\n",
              "      <td>NaN</td>\n",
              "      <td>1</td>\n",
              "      <td>2.0</td>\n",
              "      <td>2.0</td>\n",
              "      <td>0.0</td>\n",
              "      <td>0.0</td>\n",
              "      <td>2002.0</td>\n",
              "      <td>3000000.0</td>\n",
              "      <td>2006.0</td>\n",
              "      <td>1.0</td>\n",
              "      <td>3.0</td>\n",
              "      <td>0.0</td>\n",
              "      <td>33.0</td>\n",
              "      <td>2018.0</td>\n",
              "      <td>NaN</td>\n",
              "    </tr>\n",
              "  </tbody>\n",
              "</table>\n",
              "</div>"
            ],
            "text/plain": [
              "   cod_alumno  sexo_f  puntaje_ingreso  ...  edad_reporte  anio_reporte  clase\n",
              "0        7644       0            63.14  ...          48.0        2018.0    NaN\n",
              "1    22155233       0            46.35  ...          33.0        2018.0    NaN\n",
              "2    23033258       0            53.65  ...          39.0        2018.0    NaN\n",
              "3    23038230       0            43.40  ...          36.0        2018.0    NaN\n",
              "4    23038265       1             0.00  ...          33.0        2018.0    NaN\n",
              "\n",
              "[5 rows x 36 columns]"
            ]
          },
          "metadata": {
            "tags": []
          },
          "execution_count": 16
        }
      ]
    },
    {
      "cell_type": "code",
      "metadata": {
        "colab": {
          "base_uri": "https://localhost:8080/",
          "height": 646
        },
        "id": "pTfPQ2AVye3y",
        "outputId": "4ded873d-6367-4ba2-cd79-9de15b9190d4"
      },
      "source": [
        "display(datos.isnull().sum())"
      ],
      "execution_count": 17,
      "outputs": [
        {
          "output_type": "display_data",
          "data": {
            "text/plain": [
              "cod_alumno                        0\n",
              "sexo_f                            0\n",
              "puntaje_ingreso                   0\n",
              "promedio_notas                    1\n",
              "total_creditos_logrados           1\n",
              "biologia                          3\n",
              "matematicas                       3\n",
              "filosofia                         3\n",
              "fisica                            3\n",
              "historia                          3\n",
              "quimica                           4\n",
              "lenguaje                          4\n",
              "geografia                         4\n",
              "idiomas                           5\n",
              "sociales                         13\n",
              "lecturacritica                  129\n",
              "ciencias                        129\n",
              "razonamiento                    129\n",
              "competenciaciud                 129\n",
              "valor_matricula                  11\n",
              "valor_servicios                  11\n",
              "ingresos                         11\n",
              "vive_familia                      0\n",
              "estrato                          12\n",
              "estrato_vivira                   12\n",
              "actualmente_trabaja               4\n",
              "valor_matric_colegio              4\n",
              "ano_pago_colegio                 11\n",
              "ingresos_familiares               4\n",
              "ano_ingresos                     11\n",
              "numero_aportantes                11\n",
              "numero_hermanos                   4\n",
              "numero_hermanos_est_superior      4\n",
              "edad_reporte                      0\n",
              "anio_reporte                      0\n",
              "clase                           264\n",
              "dtype: int64"
            ]
          },
          "metadata": {
            "tags": []
          }
        }
      ]
    },
    {
      "cell_type": "code",
      "metadata": {
        "id": "dPZ71NWSylHy"
      },
      "source": [
        "datos.fillna(value=-99,inplace=True)"
      ],
      "execution_count": 18,
      "outputs": []
    },
    {
      "cell_type": "code",
      "metadata": {
        "colab": {
          "base_uri": "https://localhost:8080/",
          "height": 646
        },
        "id": "vYRKfGT1yoLA",
        "outputId": "1168c875-d45a-4619-9620-26245ea771d9"
      },
      "source": [
        "display(datos.isnull().sum())"
      ],
      "execution_count": 19,
      "outputs": [
        {
          "output_type": "display_data",
          "data": {
            "text/plain": [
              "cod_alumno                      0\n",
              "sexo_f                          0\n",
              "puntaje_ingreso                 0\n",
              "promedio_notas                  0\n",
              "total_creditos_logrados         0\n",
              "biologia                        0\n",
              "matematicas                     0\n",
              "filosofia                       0\n",
              "fisica                          0\n",
              "historia                        0\n",
              "quimica                         0\n",
              "lenguaje                        0\n",
              "geografia                       0\n",
              "idiomas                         0\n",
              "sociales                        0\n",
              "lecturacritica                  0\n",
              "ciencias                        0\n",
              "razonamiento                    0\n",
              "competenciaciud                 0\n",
              "valor_matricula                 0\n",
              "valor_servicios                 0\n",
              "ingresos                        0\n",
              "vive_familia                    0\n",
              "estrato                         0\n",
              "estrato_vivira                  0\n",
              "actualmente_trabaja             0\n",
              "valor_matric_colegio            0\n",
              "ano_pago_colegio                0\n",
              "ingresos_familiares             0\n",
              "ano_ingresos                    0\n",
              "numero_aportantes               0\n",
              "numero_hermanos                 0\n",
              "numero_hermanos_est_superior    0\n",
              "edad_reporte                    0\n",
              "anio_reporte                    0\n",
              "clase                           0\n",
              "dtype: int64"
            ]
          },
          "metadata": {
            "tags": []
          }
        }
      ]
    },
    {
      "cell_type": "code",
      "metadata": {
        "id": "KxLDSxdiysCS"
      },
      "source": [
        "clase_pred=modelo.predict(datos[columnas])"
      ],
      "execution_count": 22,
      "outputs": []
    },
    {
      "cell_type": "code",
      "metadata": {
        "id": "Cv0ExvWZzrNp"
      },
      "source": [
        "datos['predict']=clase_pred"
      ],
      "execution_count": 23,
      "outputs": []
    },
    {
      "cell_type": "code",
      "metadata": {
        "colab": {
          "base_uri": "https://localhost:8080/",
          "height": 204
        },
        "id": "LeqF3ILGzyWI",
        "outputId": "10832079-2677-4af5-f03b-4944876a2ced"
      },
      "source": [
        "datos[['cod_alumno','predict']].head()"
      ],
      "execution_count": 24,
      "outputs": [
        {
          "output_type": "execute_result",
          "data": {
            "text/html": [
              "<div>\n",
              "<style scoped>\n",
              "    .dataframe tbody tr th:only-of-type {\n",
              "        vertical-align: middle;\n",
              "    }\n",
              "\n",
              "    .dataframe tbody tr th {\n",
              "        vertical-align: top;\n",
              "    }\n",
              "\n",
              "    .dataframe thead th {\n",
              "        text-align: right;\n",
              "    }\n",
              "</style>\n",
              "<table border=\"1\" class=\"dataframe\">\n",
              "  <thead>\n",
              "    <tr style=\"text-align: right;\">\n",
              "      <th></th>\n",
              "      <th>cod_alumno</th>\n",
              "      <th>predict</th>\n",
              "    </tr>\n",
              "  </thead>\n",
              "  <tbody>\n",
              "    <tr>\n",
              "      <th>0</th>\n",
              "      <td>7644</td>\n",
              "      <td>1</td>\n",
              "    </tr>\n",
              "    <tr>\n",
              "      <th>1</th>\n",
              "      <td>22155233</td>\n",
              "      <td>1</td>\n",
              "    </tr>\n",
              "    <tr>\n",
              "      <th>2</th>\n",
              "      <td>23033258</td>\n",
              "      <td>1</td>\n",
              "    </tr>\n",
              "    <tr>\n",
              "      <th>3</th>\n",
              "      <td>23038230</td>\n",
              "      <td>0</td>\n",
              "    </tr>\n",
              "    <tr>\n",
              "      <th>4</th>\n",
              "      <td>23038265</td>\n",
              "      <td>0</td>\n",
              "    </tr>\n",
              "  </tbody>\n",
              "</table>\n",
              "</div>"
            ],
            "text/plain": [
              "   cod_alumno  predict\n",
              "0        7644        1\n",
              "1    22155233        1\n",
              "2    23033258        1\n",
              "3    23038230        0\n",
              "4    23038265        0"
            ]
          },
          "metadata": {
            "tags": []
          },
          "execution_count": 24
        }
      ]
    },
    {
      "cell_type": "code",
      "metadata": {
        "id": "-Xogt8xP0AXw"
      },
      "source": [
        "df_class=datos[['cod_alumno','predict']]"
      ],
      "execution_count": 25,
      "outputs": []
    },
    {
      "cell_type": "code",
      "metadata": {
        "colab": {
          "base_uri": "https://localhost:8080/",
          "height": 419
        },
        "id": "He2Ry-al0Nq6",
        "outputId": "7bc8d662-7713-44c8-95db-498c1f494ea9"
      },
      "source": [
        "df_class"
      ],
      "execution_count": 26,
      "outputs": [
        {
          "output_type": "execute_result",
          "data": {
            "text/html": [
              "<div>\n",
              "<style scoped>\n",
              "    .dataframe tbody tr th:only-of-type {\n",
              "        vertical-align: middle;\n",
              "    }\n",
              "\n",
              "    .dataframe tbody tr th {\n",
              "        vertical-align: top;\n",
              "    }\n",
              "\n",
              "    .dataframe thead th {\n",
              "        text-align: right;\n",
              "    }\n",
              "</style>\n",
              "<table border=\"1\" class=\"dataframe\">\n",
              "  <thead>\n",
              "    <tr style=\"text-align: right;\">\n",
              "      <th></th>\n",
              "      <th>cod_alumno</th>\n",
              "      <th>predict</th>\n",
              "    </tr>\n",
              "  </thead>\n",
              "  <tbody>\n",
              "    <tr>\n",
              "      <th>0</th>\n",
              "      <td>7644</td>\n",
              "      <td>1</td>\n",
              "    </tr>\n",
              "    <tr>\n",
              "      <th>1</th>\n",
              "      <td>22155233</td>\n",
              "      <td>1</td>\n",
              "    </tr>\n",
              "    <tr>\n",
              "      <th>2</th>\n",
              "      <td>23033258</td>\n",
              "      <td>1</td>\n",
              "    </tr>\n",
              "    <tr>\n",
              "      <th>3</th>\n",
              "      <td>23038230</td>\n",
              "      <td>0</td>\n",
              "    </tr>\n",
              "    <tr>\n",
              "      <th>4</th>\n",
              "      <td>23038265</td>\n",
              "      <td>0</td>\n",
              "    </tr>\n",
              "    <tr>\n",
              "      <th>...</th>\n",
              "      <td>...</td>\n",
              "      <td>...</td>\n",
              "    </tr>\n",
              "    <tr>\n",
              "      <th>259</th>\n",
              "      <td>2141511053</td>\n",
              "      <td>0</td>\n",
              "    </tr>\n",
              "    <tr>\n",
              "      <th>260</th>\n",
              "      <td>2141511059</td>\n",
              "      <td>0</td>\n",
              "    </tr>\n",
              "    <tr>\n",
              "      <th>261</th>\n",
              "      <td>2141601024</td>\n",
              "      <td>0</td>\n",
              "    </tr>\n",
              "    <tr>\n",
              "      <th>262</th>\n",
              "      <td>2141601268</td>\n",
              "      <td>0</td>\n",
              "    </tr>\n",
              "    <tr>\n",
              "      <th>263</th>\n",
              "      <td>2141601270</td>\n",
              "      <td>0</td>\n",
              "    </tr>\n",
              "  </tbody>\n",
              "</table>\n",
              "<p>264 rows × 2 columns</p>\n",
              "</div>"
            ],
            "text/plain": [
              "     cod_alumno  predict\n",
              "0          7644        1\n",
              "1      22155233        1\n",
              "2      23033258        1\n",
              "3      23038230        0\n",
              "4      23038265        0\n",
              "..          ...      ...\n",
              "259  2141511053        0\n",
              "260  2141511059        0\n",
              "261  2141601024        0\n",
              "262  2141601268        0\n",
              "263  2141601270        0\n",
              "\n",
              "[264 rows x 2 columns]"
            ]
          },
          "metadata": {
            "tags": []
          },
          "execution_count": 26
        }
      ]
    },
    {
      "cell_type": "code",
      "metadata": {
        "id": "yxlNwESP0SH0"
      },
      "source": [
        "df_class.to_csv(\"/content/drive/MyDrive/ELECTIVA 1/guerrero_mateo.csv\",sep=\"|\")"
      ],
      "execution_count": 27,
      "outputs": []
    }
  ]
}