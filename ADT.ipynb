{
  "nbformat": 4,
  "nbformat_minor": 0,
  "metadata": {
    "colab": {
      "name": "ADT.ipynb",
      "provenance": [],
      "authorship_tag": "ABX9TyOB39b2OjcArwARLEh9N65t",
      "include_colab_link": true
    },
    "kernelspec": {
      "name": "python3",
      "display_name": "Python 3"
    }
  },
  "cells": [
    {
      "cell_type": "markdown",
      "metadata": {
        "id": "view-in-github",
        "colab_type": "text"
      },
      "source": [
        "<a href=\"https://colab.research.google.com/github/jimaguere/Electiva_1/blob/main/ADT.ipynb\" target=\"_parent\"><img src=\"https://colab.research.google.com/assets/colab-badge.svg\" alt=\"Open In Colab\"/></a>"
      ]
    },
    {
      "cell_type": "markdown",
      "metadata": {
        "id": "TPC42GSlBRk8"
      },
      "source": [
        "Ajustar un modelo para el conjunto de datos Sick. El conjunto de datos Sick, el cual registra enfermedades de la tiroides proporcionados por: el Instituto Garavan, Instituto de Nueva Gales del Sur , Syndney, Australia. El mismo recibió algunas transformaciones como por ejemplo el sexo en vez de ser F/M se definió como 0/1. El archivo contiene 955 estudios de pacientes, donde se pretende determinar si tienen o no una enfermedad. Clase(1) Enfermo Clase(0) No Enfermo."
      ]
    },
    {
      "cell_type": "code",
      "metadata": {
        "colab": {
          "base_uri": "https://localhost:8080/"
        },
        "id": "aaL6NtI7BT-U",
        "outputId": "29eabc3a-4a6b-44de-d625-bba4d64c514a"
      },
      "source": [
        "from google.colab import drive\n",
        "drive.mount('/content/drive')"
      ],
      "execution_count": 149,
      "outputs": [
        {
          "output_type": "stream",
          "text": [
            "Drive already mounted at /content/drive; to attempt to forcibly remount, call drive.mount(\"/content/drive\", force_remount=True).\n"
          ],
          "name": "stdout"
        }
      ]
    },
    {
      "cell_type": "code",
      "metadata": {
        "colab": {
          "base_uri": "https://localhost:8080/",
          "height": 218
        },
        "id": "bXdw4diqBkjk",
        "outputId": "e4993af1-0c4e-4461-f385-19daad729910"
      },
      "source": [
        "import pandas as pd\n",
        "import numpy as np\n",
        "\n",
        "datos=pd.read_csv(\"/content/drive/MyDrive/ELECTIVA 1/Guia_arbol_decision/Sick.txt\",sep=\"\\t\")\n",
        "datos.head()"
      ],
      "execution_count": 150,
      "outputs": [
        {
          "output_type": "execute_result",
          "data": {
            "text/html": [
              "<div>\n",
              "<style scoped>\n",
              "    .dataframe tbody tr th:only-of-type {\n",
              "        vertical-align: middle;\n",
              "    }\n",
              "\n",
              "    .dataframe tbody tr th {\n",
              "        vertical-align: top;\n",
              "    }\n",
              "\n",
              "    .dataframe thead th {\n",
              "        text-align: right;\n",
              "    }\n",
              "</style>\n",
              "<table border=\"1\" class=\"dataframe\">\n",
              "  <thead>\n",
              "    <tr style=\"text-align: right;\">\n",
              "      <th></th>\n",
              "      <th>caso</th>\n",
              "      <th>edad</th>\n",
              "      <th>genero</th>\n",
              "      <th>en_medicacion_tiroxina</th>\n",
              "      <th>consulta_sobre_tiroxina</th>\n",
              "      <th>en_medicación_antitiroidea</th>\n",
              "      <th>depresion</th>\n",
              "      <th>embarazada</th>\n",
              "      <th>cirugía_de_tiroides</th>\n",
              "      <th>I131_tratamineto</th>\n",
              "      <th>consulta_hipotiroidea</th>\n",
              "      <th>consulta_hipertiroidea</th>\n",
              "      <th>litio</th>\n",
              "      <th>enfermedad_endocrinologica_bocio</th>\n",
              "      <th>tumor</th>\n",
              "      <th>hipopituitario</th>\n",
              "      <th>transtornos</th>\n",
              "      <th>nivel_TSH</th>\n",
              "      <th>nivel_T3</th>\n",
              "      <th>nivel_TT4</th>\n",
              "      <th>nivel_T4U</th>\n",
              "      <th>nivel_FTI</th>\n",
              "      <th>fuente_de_referencia</th>\n",
              "      <th>clase</th>\n",
              "    </tr>\n",
              "  </thead>\n",
              "  <tbody>\n",
              "    <tr>\n",
              "      <th>0</th>\n",
              "      <td>1</td>\n",
              "      <td>56</td>\n",
              "      <td>0</td>\n",
              "      <td>0</td>\n",
              "      <td>0</td>\n",
              "      <td>0</td>\n",
              "      <td>0</td>\n",
              "      <td>0</td>\n",
              "      <td>0</td>\n",
              "      <td>0</td>\n",
              "      <td>0</td>\n",
              "      <td>0</td>\n",
              "      <td>0</td>\n",
              "      <td>0</td>\n",
              "      <td>0</td>\n",
              "      <td>0</td>\n",
              "      <td>0</td>\n",
              "      <td>1.900</td>\n",
              "      <td>2.044</td>\n",
              "      <td>129.0</td>\n",
              "      <td>1.05</td>\n",
              "      <td>123.0</td>\n",
              "      <td>5</td>\n",
              "      <td>0</td>\n",
              "    </tr>\n",
              "    <tr>\n",
              "      <th>1</th>\n",
              "      <td>2</td>\n",
              "      <td>51</td>\n",
              "      <td>0</td>\n",
              "      <td>1</td>\n",
              "      <td>0</td>\n",
              "      <td>0</td>\n",
              "      <td>0</td>\n",
              "      <td>0</td>\n",
              "      <td>0</td>\n",
              "      <td>0</td>\n",
              "      <td>0</td>\n",
              "      <td>0</td>\n",
              "      <td>0</td>\n",
              "      <td>0</td>\n",
              "      <td>0</td>\n",
              "      <td>0</td>\n",
              "      <td>0</td>\n",
              "      <td>0.250</td>\n",
              "      <td>1.900</td>\n",
              "      <td>101.0</td>\n",
              "      <td>1.08</td>\n",
              "      <td>94.0</td>\n",
              "      <td>5</td>\n",
              "      <td>0</td>\n",
              "    </tr>\n",
              "    <tr>\n",
              "      <th>2</th>\n",
              "      <td>3</td>\n",
              "      <td>50</td>\n",
              "      <td>0</td>\n",
              "      <td>0</td>\n",
              "      <td>0</td>\n",
              "      <td>0</td>\n",
              "      <td>0</td>\n",
              "      <td>0</td>\n",
              "      <td>0</td>\n",
              "      <td>0</td>\n",
              "      <td>0</td>\n",
              "      <td>0</td>\n",
              "      <td>0</td>\n",
              "      <td>0</td>\n",
              "      <td>0</td>\n",
              "      <td>0</td>\n",
              "      <td>0</td>\n",
              "      <td>2.000</td>\n",
              "      <td>2.500</td>\n",
              "      <td>133.0</td>\n",
              "      <td>1.08</td>\n",
              "      <td>123.0</td>\n",
              "      <td>2</td>\n",
              "      <td>0</td>\n",
              "    </tr>\n",
              "    <tr>\n",
              "      <th>3</th>\n",
              "      <td>4</td>\n",
              "      <td>73</td>\n",
              "      <td>1</td>\n",
              "      <td>0</td>\n",
              "      <td>0</td>\n",
              "      <td>0</td>\n",
              "      <td>0</td>\n",
              "      <td>0</td>\n",
              "      <td>0</td>\n",
              "      <td>0</td>\n",
              "      <td>0</td>\n",
              "      <td>0</td>\n",
              "      <td>0</td>\n",
              "      <td>0</td>\n",
              "      <td>0</td>\n",
              "      <td>0</td>\n",
              "      <td>1</td>\n",
              "      <td>1.800</td>\n",
              "      <td>2.100</td>\n",
              "      <td>103.0</td>\n",
              "      <td>0.92</td>\n",
              "      <td>112.0</td>\n",
              "      <td>2</td>\n",
              "      <td>0</td>\n",
              "    </tr>\n",
              "    <tr>\n",
              "      <th>4</th>\n",
              "      <td>5</td>\n",
              "      <td>56</td>\n",
              "      <td>0</td>\n",
              "      <td>0</td>\n",
              "      <td>0</td>\n",
              "      <td>0</td>\n",
              "      <td>0</td>\n",
              "      <td>0</td>\n",
              "      <td>0</td>\n",
              "      <td>0</td>\n",
              "      <td>0</td>\n",
              "      <td>0</td>\n",
              "      <td>0</td>\n",
              "      <td>0</td>\n",
              "      <td>0</td>\n",
              "      <td>0</td>\n",
              "      <td>0</td>\n",
              "      <td>3.774</td>\n",
              "      <td>3.900</td>\n",
              "      <td>141.0</td>\n",
              "      <td>1.12</td>\n",
              "      <td>126.0</td>\n",
              "      <td>5</td>\n",
              "      <td>0</td>\n",
              "    </tr>\n",
              "  </tbody>\n",
              "</table>\n",
              "</div>"
            ],
            "text/plain": [
              "   caso  edad  genero  ...  nivel_FTI  fuente_de_referencia  clase\n",
              "0     1    56       0  ...      123.0                     5      0\n",
              "1     2    51       0  ...       94.0                     5      0\n",
              "2     3    50       0  ...      123.0                     2      0\n",
              "3     4    73       1  ...      112.0                     2      0\n",
              "4     5    56       0  ...      126.0                     5      0\n",
              "\n",
              "[5 rows x 24 columns]"
            ]
          },
          "metadata": {
            "tags": []
          },
          "execution_count": 150
        }
      ]
    },
    {
      "cell_type": "markdown",
      "metadata": {
        "id": "NP3YwAOdCRhQ"
      },
      "source": [
        "\n",
        "**1)** ¿Prepare el conjunto de datos elimine los valores incompletos para este conjunto de datos o impute con alguna medida?."
      ]
    },
    {
      "cell_type": "code",
      "metadata": {
        "colab": {
          "base_uri": "https://localhost:8080/",
          "height": 308
        },
        "id": "8cFs-fymCUTt",
        "outputId": "3af18849-c7bb-4d62-ddf0-d1c76d4a0f39"
      },
      "source": [
        "datos.describe()"
      ],
      "execution_count": 151,
      "outputs": [
        {
          "output_type": "execute_result",
          "data": {
            "text/html": [
              "<div>\n",
              "<style scoped>\n",
              "    .dataframe tbody tr th:only-of-type {\n",
              "        vertical-align: middle;\n",
              "    }\n",
              "\n",
              "    .dataframe tbody tr th {\n",
              "        vertical-align: top;\n",
              "    }\n",
              "\n",
              "    .dataframe thead th {\n",
              "        text-align: right;\n",
              "    }\n",
              "</style>\n",
              "<table border=\"1\" class=\"dataframe\">\n",
              "  <thead>\n",
              "    <tr style=\"text-align: right;\">\n",
              "      <th></th>\n",
              "      <th>caso</th>\n",
              "      <th>edad</th>\n",
              "      <th>genero</th>\n",
              "      <th>en_medicacion_tiroxina</th>\n",
              "      <th>consulta_sobre_tiroxina</th>\n",
              "      <th>en_medicación_antitiroidea</th>\n",
              "      <th>depresion</th>\n",
              "      <th>embarazada</th>\n",
              "      <th>cirugía_de_tiroides</th>\n",
              "      <th>I131_tratamineto</th>\n",
              "      <th>consulta_hipotiroidea</th>\n",
              "      <th>consulta_hipertiroidea</th>\n",
              "      <th>litio</th>\n",
              "      <th>enfermedad_endocrinologica_bocio</th>\n",
              "      <th>tumor</th>\n",
              "      <th>hipopituitario</th>\n",
              "      <th>transtornos</th>\n",
              "      <th>nivel_TSH</th>\n",
              "      <th>nivel_T3</th>\n",
              "      <th>nivel_TT4</th>\n",
              "      <th>nivel_T4U</th>\n",
              "      <th>nivel_FTI</th>\n",
              "      <th>fuente_de_referencia</th>\n",
              "      <th>clase</th>\n",
              "    </tr>\n",
              "  </thead>\n",
              "  <tbody>\n",
              "    <tr>\n",
              "      <th>count</th>\n",
              "      <td>955.000000</td>\n",
              "      <td>955.000000</td>\n",
              "      <td>955.000000</td>\n",
              "      <td>955.000000</td>\n",
              "      <td>955.000000</td>\n",
              "      <td>955.000000</td>\n",
              "      <td>955.000000</td>\n",
              "      <td>955.000000</td>\n",
              "      <td>955.000000</td>\n",
              "      <td>955.000000</td>\n",
              "      <td>955.000000</td>\n",
              "      <td>955.000000</td>\n",
              "      <td>955.000000</td>\n",
              "      <td>955.000000</td>\n",
              "      <td>955.000000</td>\n",
              "      <td>955.000000</td>\n",
              "      <td>955.000000</td>\n",
              "      <td>955.000000</td>\n",
              "      <td>955.000000</td>\n",
              "      <td>955.000000</td>\n",
              "      <td>955.000000</td>\n",
              "      <td>955.000000</td>\n",
              "      <td>955.000000</td>\n",
              "      <td>955.000000</td>\n",
              "    </tr>\n",
              "    <tr>\n",
              "      <th>mean</th>\n",
              "      <td>494.175916</td>\n",
              "      <td>51.794764</td>\n",
              "      <td>0.336126</td>\n",
              "      <td>0.120419</td>\n",
              "      <td>0.016754</td>\n",
              "      <td>0.015707</td>\n",
              "      <td>0.035602</td>\n",
              "      <td>0.015707</td>\n",
              "      <td>0.018848</td>\n",
              "      <td>0.017801</td>\n",
              "      <td>0.058639</td>\n",
              "      <td>0.056545</td>\n",
              "      <td>0.002094</td>\n",
              "      <td>0.009424</td>\n",
              "      <td>0.026178</td>\n",
              "      <td>0.001047</td>\n",
              "      <td>0.051309</td>\n",
              "      <td>3.773681</td>\n",
              "      <td>2.039007</td>\n",
              "      <td>108.330639</td>\n",
              "      <td>0.992342</td>\n",
              "      <td>110.891749</td>\n",
              "      <td>4.269110</td>\n",
              "      <td>0.050262</td>\n",
              "    </tr>\n",
              "    <tr>\n",
              "      <th>std</th>\n",
              "      <td>285.184758</td>\n",
              "      <td>22.972953</td>\n",
              "      <td>0.472630</td>\n",
              "      <td>0.325621</td>\n",
              "      <td>0.128415</td>\n",
              "      <td>0.124404</td>\n",
              "      <td>0.185393</td>\n",
              "      <td>0.124404</td>\n",
              "      <td>0.136060</td>\n",
              "      <td>0.132297</td>\n",
              "      <td>0.235070</td>\n",
              "      <td>0.231091</td>\n",
              "      <td>0.045739</td>\n",
              "      <td>0.096670</td>\n",
              "      <td>0.159748</td>\n",
              "      <td>0.032359</td>\n",
              "      <td>0.220743</td>\n",
              "      <td>12.110847</td>\n",
              "      <td>0.714392</td>\n",
              "      <td>33.916230</td>\n",
              "      <td>0.189764</td>\n",
              "      <td>30.195374</td>\n",
              "      <td>1.109252</td>\n",
              "      <td>0.218599</td>\n",
              "    </tr>\n",
              "    <tr>\n",
              "      <th>min</th>\n",
              "      <td>1.000000</td>\n",
              "      <td>1.000000</td>\n",
              "      <td>0.000000</td>\n",
              "      <td>0.000000</td>\n",
              "      <td>0.000000</td>\n",
              "      <td>0.000000</td>\n",
              "      <td>0.000000</td>\n",
              "      <td>0.000000</td>\n",
              "      <td>0.000000</td>\n",
              "      <td>0.000000</td>\n",
              "      <td>0.000000</td>\n",
              "      <td>0.000000</td>\n",
              "      <td>0.000000</td>\n",
              "      <td>0.000000</td>\n",
              "      <td>0.000000</td>\n",
              "      <td>0.000000</td>\n",
              "      <td>0.000000</td>\n",
              "      <td>0.005000</td>\n",
              "      <td>0.100000</td>\n",
              "      <td>4.800000</td>\n",
              "      <td>0.310000</td>\n",
              "      <td>5.400000</td>\n",
              "      <td>1.000000</td>\n",
              "      <td>0.000000</td>\n",
              "    </tr>\n",
              "    <tr>\n",
              "      <th>25%</th>\n",
              "      <td>247.500000</td>\n",
              "      <td>36.000000</td>\n",
              "      <td>0.000000</td>\n",
              "      <td>0.000000</td>\n",
              "      <td>0.000000</td>\n",
              "      <td>0.000000</td>\n",
              "      <td>0.000000</td>\n",
              "      <td>0.000000</td>\n",
              "      <td>0.000000</td>\n",
              "      <td>0.000000</td>\n",
              "      <td>0.000000</td>\n",
              "      <td>0.000000</td>\n",
              "      <td>0.000000</td>\n",
              "      <td>0.000000</td>\n",
              "      <td>0.000000</td>\n",
              "      <td>0.000000</td>\n",
              "      <td>0.000000</td>\n",
              "      <td>0.530000</td>\n",
              "      <td>1.700000</td>\n",
              "      <td>88.000000</td>\n",
              "      <td>0.890000</td>\n",
              "      <td>94.000000</td>\n",
              "      <td>4.000000</td>\n",
              "      <td>0.000000</td>\n",
              "    </tr>\n",
              "    <tr>\n",
              "      <th>50%</th>\n",
              "      <td>492.000000</td>\n",
              "      <td>54.000000</td>\n",
              "      <td>0.000000</td>\n",
              "      <td>0.000000</td>\n",
              "      <td>0.000000</td>\n",
              "      <td>0.000000</td>\n",
              "      <td>0.000000</td>\n",
              "      <td>0.000000</td>\n",
              "      <td>0.000000</td>\n",
              "      <td>0.000000</td>\n",
              "      <td>0.000000</td>\n",
              "      <td>0.000000</td>\n",
              "      <td>0.000000</td>\n",
              "      <td>0.000000</td>\n",
              "      <td>0.000000</td>\n",
              "      <td>0.000000</td>\n",
              "      <td>0.000000</td>\n",
              "      <td>1.500000</td>\n",
              "      <td>2.044000</td>\n",
              "      <td>107.000000</td>\n",
              "      <td>0.992300</td>\n",
              "      <td>110.890000</td>\n",
              "      <td>5.000000</td>\n",
              "      <td>0.000000</td>\n",
              "    </tr>\n",
              "    <tr>\n",
              "      <th>75%</th>\n",
              "      <td>740.500000</td>\n",
              "      <td>67.000000</td>\n",
              "      <td>1.000000</td>\n",
              "      <td>0.000000</td>\n",
              "      <td>0.000000</td>\n",
              "      <td>0.000000</td>\n",
              "      <td>0.000000</td>\n",
              "      <td>0.000000</td>\n",
              "      <td>0.000000</td>\n",
              "      <td>0.000000</td>\n",
              "      <td>0.000000</td>\n",
              "      <td>0.000000</td>\n",
              "      <td>0.000000</td>\n",
              "      <td>0.000000</td>\n",
              "      <td>0.000000</td>\n",
              "      <td>0.000000</td>\n",
              "      <td>0.000000</td>\n",
              "      <td>3.500000</td>\n",
              "      <td>2.200000</td>\n",
              "      <td>123.000000</td>\n",
              "      <td>1.070000</td>\n",
              "      <td>123.000000</td>\n",
              "      <td>5.000000</td>\n",
              "      <td>0.000000</td>\n",
              "    </tr>\n",
              "    <tr>\n",
              "      <th>max</th>\n",
              "      <td>990.000000</td>\n",
              "      <td>455.000000</td>\n",
              "      <td>1.000000</td>\n",
              "      <td>1.000000</td>\n",
              "      <td>1.000000</td>\n",
              "      <td>1.000000</td>\n",
              "      <td>1.000000</td>\n",
              "      <td>1.000000</td>\n",
              "      <td>1.000000</td>\n",
              "      <td>1.000000</td>\n",
              "      <td>1.000000</td>\n",
              "      <td>1.000000</td>\n",
              "      <td>1.000000</td>\n",
              "      <td>1.000000</td>\n",
              "      <td>1.000000</td>\n",
              "      <td>1.000000</td>\n",
              "      <td>1.000000</td>\n",
              "      <td>183.000000</td>\n",
              "      <td>7.000000</td>\n",
              "      <td>430.000000</td>\n",
              "      <td>2.120000</td>\n",
              "      <td>395.000000</td>\n",
              "      <td>5.000000</td>\n",
              "      <td>1.000000</td>\n",
              "    </tr>\n",
              "  </tbody>\n",
              "</table>\n",
              "</div>"
            ],
            "text/plain": [
              "             caso        edad  ...  fuente_de_referencia       clase\n",
              "count  955.000000  955.000000  ...            955.000000  955.000000\n",
              "mean   494.175916   51.794764  ...              4.269110    0.050262\n",
              "std    285.184758   22.972953  ...              1.109252    0.218599\n",
              "min      1.000000    1.000000  ...              1.000000    0.000000\n",
              "25%    247.500000   36.000000  ...              4.000000    0.000000\n",
              "50%    492.000000   54.000000  ...              5.000000    0.000000\n",
              "75%    740.500000   67.000000  ...              5.000000    0.000000\n",
              "max    990.000000  455.000000  ...              5.000000    1.000000\n",
              "\n",
              "[8 rows x 24 columns]"
            ]
          },
          "metadata": {
            "tags": []
          },
          "execution_count": 151
        }
      ]
    },
    {
      "cell_type": "code",
      "metadata": {
        "colab": {
          "base_uri": "https://localhost:8080/",
          "height": 349
        },
        "id": "7rL9mPD_CvlC",
        "outputId": "6efa4af4-8c8c-4e0b-b93c-a002bdc82294"
      },
      "source": [
        "#Estadísticos\n",
        "import matplotlib.pyplot as plt\n",
        "\n",
        "datos.groupby('clase').count()[\"caso\"].plot(kind='bar')\n",
        "plt.show()\n",
        "datos.groupby('clase').count()['caso']"
      ],
      "execution_count": 152,
      "outputs": [
        {
          "output_type": "display_data",
          "data": {
            "image/png": "[encoded data removed]",
            "text/plain": [
              "<Figure size 432x288 with 1 Axes>"
            ]
          },
          "metadata": {
            "tags": [],
            "needs_background": "light"
          }
        },
        {
          "output_type": "execute_result",
          "data": {
            "text/plain": [
              "clase\n",
              "0    907\n",
              "1     48\n",
              "Name: caso, dtype: int64"
            ]
          },
          "metadata": {
            "tags": []
          },
          "execution_count": 152
        }
      ]
    },
    {
      "cell_type": "code",
      "metadata": {
        "colab": {
          "base_uri": "https://localhost:8080/",
          "height": 472
        },
        "id": "gEubXOMmC8hF",
        "outputId": "29756084-28d2-4a02-8208-982431707687"
      },
      "source": [
        "# valores faltantes por columna\n",
        "display(datos.isnull().sum())"
      ],
      "execution_count": 153,
      "outputs": [
        {
          "output_type": "display_data",
          "data": {
            "text/plain": [
              "caso                                0\n",
              "edad                                0\n",
              "genero                              0\n",
              "en_medicacion_tiroxina              0\n",
              "consulta_sobre_tiroxina             0\n",
              "en_medicación_antitiroidea          0\n",
              "depresion                           0\n",
              "embarazada                          0\n",
              "cirugía_de_tiroides                 0\n",
              "I131_tratamineto                    0\n",
              "consulta_hipotiroidea               0\n",
              "consulta_hipertiroidea              0\n",
              "litio                               0\n",
              "enfermedad_endocrinologica_bocio    0\n",
              "tumor                               0\n",
              "hipopituitario                      0\n",
              "transtornos                         0\n",
              "nivel_TSH                           0\n",
              "nivel_T3                            0\n",
              "nivel_TT4                           0\n",
              "nivel_T4U                           0\n",
              "nivel_FTI                           0\n",
              "fuente_de_referencia                0\n",
              "clase                               0\n",
              "dtype: int64"
            ]
          },
          "metadata": {
            "tags": []
          }
        }
      ]
    },
    {
      "cell_type": "markdown",
      "metadata": {
        "id": "bCbcs3_1DhaU"
      },
      "source": [
        "\n",
        "**2)** Separe la variable clase a predecir en una variable Y.\n",
        "\n",
        "**3)** Separe un conjunto de datos denominado X que no contenga la variable clase"
      ]
    },
    {
      "cell_type": "code",
      "metadata": {
        "id": "GbxqZnU1Dm3z"
      },
      "source": [
        "Y=datos['clase']\n",
        "X = datos.drop(labels=['clase'],axis=1)"
      ],
      "execution_count": 154,
      "outputs": []
    },
    {
      "cell_type": "code",
      "metadata": {
        "colab": {
          "base_uri": "https://localhost:8080/"
        },
        "id": "5yBh3Gs6FCRm",
        "outputId": "9b69ab78-411c-4723-f19d-f49cdeef50a3"
      },
      "source": [
        "X.columns"
      ],
      "execution_count": 155,
      "outputs": [
        {
          "output_type": "execute_result",
          "data": {
            "text/plain": [
              "Index(['caso', 'edad', 'genero', 'en_medicacion_tiroxina',\n",
              "       'consulta_sobre_tiroxina', 'en_medicación_antitiroidea', 'depresion',\n",
              "       'embarazada', 'cirugía_de_tiroides', 'I131_tratamineto',\n",
              "       'consulta_hipotiroidea', 'consulta_hipertiroidea', 'litio',\n",
              "       'enfermedad_endocrinologica_bocio', 'tumor', 'hipopituitario',\n",
              "       'transtornos', 'nivel_TSH', 'nivel_T3', 'nivel_TT4', 'nivel_T4U',\n",
              "       'nivel_FTI', 'fuente_de_referencia'],\n",
              "      dtype='object')"
            ]
          },
          "metadata": {
            "tags": []
          },
          "execution_count": 155
        }
      ]
    },
    {
      "cell_type": "markdown",
      "metadata": {
        "id": "Ba28laopENp9"
      },
      "source": [
        "\n",
        "**4)** Separe las poblaciones en entrenamiento y validación en forma aleatoria en 70/30 (genere una semilla aleatoria e indique el valor de la semilla en el software que utilizó). Indique que cantidad de casos quedaron para cada ambiente)."
      ]
    },
    {
      "cell_type": "code",
      "metadata": {
        "colab": {
          "base_uri": "https://localhost:8080/"
        },
        "id": "B-gM8PqKEQ6j",
        "outputId": "99ea392b-d874-42f7-8de1-b0788cdb34e2"
      },
      "source": [
        "\n",
        "# Import train_test_split\n",
        "from sklearn.model_selection import train_test_split\n",
        "\n",
        "# Split the 'features' and 'income' data into training and testing sets\n",
        "X_train, X_test, y_train, y_test = train_test_split(X, \n",
        "                                                    Y, \n",
        "                                                    test_size = 0.3, \n",
        "                                                    random_state = 1)\n",
        "# Show the results of the split\n",
        "print(\"Total ejemplos train {}.\".format(X_train.shape[0]))\n",
        "print(\"Total ejemplos test {}.\".format(X_test.shape[0]))\n",
        "\n",
        "\n",
        "print(\"Enfermos train:\",y_train[y_train==1].count())\n",
        "print(\"No Enfermos train:\",y_train[y_train==0].count())\n",
        "\n",
        "print(\"Enfermos test:\",y_test[y_test==1].count())\n",
        "print(\"No Enfermos test\",y_test[y_test==0].count())"
      ],
      "execution_count": 156,
      "outputs": [
        {
          "output_type": "stream",
          "text": [
            "Total ejemplos train 668.\n",
            "Total ejemplos test 287.\n",
            "Enfermos train: 27\n",
            "No Enfermos train: 641\n",
            "Enfermos test: 21\n",
            "No Enfermos test 266\n"
          ],
          "name": "stdout"
        }
      ]
    },
    {
      "cell_type": "markdown",
      "metadata": {
        "id": "jNSvRQ7tGmJL"
      },
      "source": [
        "**5)** Ajuste 3 modelos de diferentes profundidades (max_depth) usando el conjunto de\n",
        "entrenamiento 70%"
      ]
    },
    {
      "cell_type": "code",
      "metadata": {
        "colab": {
          "base_uri": "https://localhost:8080/"
        },
        "id": "6wi3ke8yGpeb",
        "outputId": "ab710ae8-5b4f-409e-f744-d667501168e5"
      },
      "source": [
        "from sklearn import tree\n",
        "\n",
        "# Crear Arbol de decision con profundidad = 4\n",
        "modelo1 = tree.DecisionTreeClassifier(criterion='entropy',\n",
        "                                            #min_samples_split=100,\n",
        "                                            #min_samples_leaf=10,\n",
        "                                            max_depth = 4\n",
        "                                           )\n",
        "modelo1.fit(X_train, y_train)"
      ],
      "execution_count": 157,
      "outputs": [
        {
          "output_type": "execute_result",
          "data": {
            "text/plain": [
              "DecisionTreeClassifier(ccp_alpha=0.0, class_weight=None, criterion='entropy',\n",
              "                       max_depth=4, max_features=None, max_leaf_nodes=None,\n",
              "                       min_impurity_decrease=0.0, min_impurity_split=None,\n",
              "                       min_samples_leaf=1, min_samples_split=2,\n",
              "                       min_weight_fraction_leaf=0.0, presort='deprecated',\n",
              "                       random_state=None, splitter='best')"
            ]
          },
          "metadata": {
            "tags": []
          },
          "execution_count": 157
        }
      ]
    },
    {
      "cell_type": "code",
      "metadata": {
        "colab": {
          "base_uri": "https://localhost:8080/"
        },
        "id": "uXp6rCpyHDqt",
        "outputId": "7e648808-92c7-4426-b5bc-3fe7be620267"
      },
      "source": [
        "\n",
        "# Crear Arbol de decision con profundidad = 10\n",
        "modelo2 = tree.DecisionTreeClassifier(criterion='entropy',\n",
        "                                            #min_samples_split=100,\n",
        "                                            #min_samples_leaf=10,\n",
        "                                            max_depth = 10\n",
        "                                           )\n",
        "modelo2.fit(X_train, y_train)"
      ],
      "execution_count": 158,
      "outputs": [
        {
          "output_type": "execute_result",
          "data": {
            "text/plain": [
              "DecisionTreeClassifier(ccp_alpha=0.0, class_weight=None, criterion='entropy',\n",
              "                       max_depth=10, max_features=None, max_leaf_nodes=None,\n",
              "                       min_impurity_decrease=0.0, min_impurity_split=None,\n",
              "                       min_samples_leaf=1, min_samples_split=2,\n",
              "                       min_weight_fraction_leaf=0.0, presort='deprecated',\n",
              "                       random_state=None, splitter='best')"
            ]
          },
          "metadata": {
            "tags": []
          },
          "execution_count": 158
        }
      ]
    },
    {
      "cell_type": "code",
      "metadata": {
        "colab": {
          "base_uri": "https://localhost:8080/"
        },
        "id": "pKY2qrAdHJnD",
        "outputId": "53283152-56bd-41d3-dd44-4de431023387"
      },
      "source": [
        "\n",
        "# Crear Arbol de decision con profundidad = 10\n",
        "modelo3 = tree.DecisionTreeClassifier(criterion='entropy',\n",
        "                                            #min_samples_split=100,\n",
        "                                            #min_samples_leaf=10,\n",
        "                                            max_depth = 100\n",
        "                                           )\n",
        "modelo3.fit(X_train, y_train)"
      ],
      "execution_count": 159,
      "outputs": [
        {
          "output_type": "execute_result",
          "data": {
            "text/plain": [
              "DecisionTreeClassifier(ccp_alpha=0.0, class_weight=None, criterion='entropy',\n",
              "                       max_depth=100, max_features=None, max_leaf_nodes=None,\n",
              "                       min_impurity_decrease=0.0, min_impurity_split=None,\n",
              "                       min_samples_leaf=1, min_samples_split=2,\n",
              "                       min_weight_fraction_leaf=0.0, presort='deprecated',\n",
              "                       random_state=None, splitter='best')"
            ]
          },
          "metadata": {
            "tags": []
          },
          "execution_count": 159
        }
      ]
    },
    {
      "cell_type": "code",
      "metadata": {
        "colab": {
          "base_uri": "https://localhost:8080/"
        },
        "id": "exThMe_WLtFI",
        "outputId": "6eb1b8f2-661b-4ca3-900c-a694cf97cd75"
      },
      "source": [
        "\n",
        "# Crear Arbol de decision con profundidad = 10\n",
        "modelo4 = tree.DecisionTreeClassifier(criterion='entropy',\n",
        "                                            #min_samples_split=11,\n",
        "                                            min_samples_leaf=11,\n",
        "                                            max_depth = 3\n",
        "                                           )\n",
        "modelo4.fit(X_train, y_train)"
      ],
      "execution_count": 160,
      "outputs": [
        {
          "output_type": "execute_result",
          "data": {
            "text/plain": [
              "DecisionTreeClassifier(ccp_alpha=0.0, class_weight=None, criterion='entropy',\n",
              "                       max_depth=3, max_features=None, max_leaf_nodes=None,\n",
              "                       min_impurity_decrease=0.0, min_impurity_split=None,\n",
              "                       min_samples_leaf=11, min_samples_split=2,\n",
              "                       min_weight_fraction_leaf=0.0, presort='deprecated',\n",
              "                       random_state=None, splitter='best')"
            ]
          },
          "metadata": {
            "tags": []
          },
          "execution_count": 160
        }
      ]
    },
    {
      "cell_type": "markdown",
      "metadata": {
        "id": "Sa4rtPn4KSvq"
      },
      "source": [
        "**Modelo RandomForest** Baggin"
      ]
    },
    {
      "cell_type": "code",
      "metadata": {
        "id": "5K1JEHCdKPdp"
      },
      "source": [
        "from sklearn.ensemble import RandomForestClassifier\n",
        "\n",
        "\n",
        "# TODO: Train the supervised model on the training set using .fit(X_train, y_train)\n",
        "\n",
        "modelo_rf=RandomForestClassifier(bootstrap=True, class_weight='balanced',\n",
        "            criterion='entropy', max_depth=3, max_features='auto',\n",
        "            max_leaf_nodes=None, min_impurity_decrease=0.0,\n",
        "            min_impurity_split=None, min_samples_leaf=1,\n",
        "            min_samples_split=100, min_weight_fraction_leaf=0.0,\n",
        "            n_estimators=500, n_jobs=-1, oob_score=True, random_state=None,\n",
        "            verbose=0, warm_start=False)\n",
        "\n",
        "modelo_rf=modelo_rf.fit(X_train, y_train)"
      ],
      "execution_count": 161,
      "outputs": []
    },
    {
      "cell_type": "markdown",
      "metadata": {
        "id": "01bdo2TfLgz-"
      },
      "source": [
        "**Modelo XGBoost** Boosting"
      ]
    },
    {
      "cell_type": "code",
      "metadata": {
        "colab": {
          "base_uri": "https://localhost:8080/"
        },
        "id": "B1J-vh3XLr-q",
        "outputId": "83a04c8c-12db-43d6-dd90-fad7bfcb6efe"
      },
      "source": [
        "\n",
        "from xgboost import XGBClassifier\n",
        "\n",
        "params = {'objective':'binary:logistic',\n",
        "          'colsample_bytree': 0.3,\n",
        "          'learning_rate': 0.1,\n",
        "           'max_depth': 3, 'alpha': 0,\n",
        "          'n_estimators':500}\n",
        "\n",
        "\n",
        "\n",
        "modelo_xgb = XGBClassifier(**params)\n",
        "modelo_xgb.fit(X_train, y_train)"
      ],
      "execution_count": 162,
      "outputs": [
        {
          "output_type": "execute_result",
          "data": {
            "text/plain": [
              "XGBClassifier(alpha=0, base_score=0.5, booster='gbtree', colsample_bylevel=1,\n",
              "              colsample_bynode=1, colsample_bytree=0.3, gamma=0,\n",
              "              learning_rate=0.1, max_delta_step=0, max_depth=3,\n",
              "              min_child_weight=1, missing=None, n_estimators=500, n_jobs=1,\n",
              "              nthread=None, objective='binary:logistic', random_state=0,\n",
              "              reg_alpha=0, reg_lambda=1, scale_pos_weight=1, seed=None,\n",
              "              silent=None, subsample=1, verbosity=1)"
            ]
          },
          "metadata": {
            "tags": []
          },
          "execution_count": 162
        }
      ]
    },
    {
      "cell_type": "markdown",
      "metadata": {
        "id": "C8y5ta3hHdWz"
      },
      "source": [
        "\n",
        "**6)** Explique dos reglas de uno de los arboles generados. Explique que tan bien separa los casos regla."
      ]
    },
    {
      "cell_type": "code",
      "metadata": {
        "id": "gAA0xe5ZIZZV"
      },
      "source": [
        "#  -p[1]*log[p[1]]+ --p[0]*log[p[0]]\n",
        "# -(  35/668)log(  35/668) + - (633/668)*log(633/668)"
      ],
      "execution_count": null,
      "outputs": []
    },
    {
      "cell_type": "code",
      "metadata": {
        "colab": {
          "base_uri": "https://localhost:8080/",
          "height": 594
        },
        "id": "B0uVVyaNHbRL",
        "outputId": "a6c9823c-7d46-4419-8f1c-3054e00778eb"
      },
      "source": [
        "from sklearn.externals.six import StringIO \n",
        "from sklearn.tree import export_graphviz\n",
        "import pydotplus\n",
        "from IPython.display import Image \n",
        "#pip install graphviz\n",
        "#pip install pydotplus\n",
        "dot_data = StringIO()\n",
        "\n",
        "feature_cols=X_train.columns\n",
        "export_graphviz(modelo4, out_file=dot_data,  \n",
        "                filled=True, rounded=True,\n",
        "                special_characters=True,feature_names = feature_cols,class_names=['No Enfermo','Enfermo'])\n",
        "\n",
        "graph = pydotplus.graph_from_dot_data(dot_data.getvalue())  \n",
        "graph.write_png('arbol.png')\n",
        "Image(graph.create_png())"
      ],
      "execution_count": 163,
      "outputs": [
        {
          "output_type": "execute_result",
          "data": {
            "image/png": "[encoded data removed]",
            "text/plain": [
              "<IPython.core.display.Image object>"
            ]
          },
          "metadata": {
            "tags": []
          },
          "execution_count": 163
        }
      ]
    },
    {
      "cell_type": "markdown",
      "metadata": {
        "id": "0D-XGX0NMvx2"
      },
      "source": [
        "**7)** Obtener la matriz de confusión tanto para el ambiente de entrenamiento como de\n",
        "Validación de los 3 modelos."
      ]
    },
    {
      "cell_type": "code",
      "metadata": {
        "id": "N5y0VOg2Mztp"
      },
      "source": [
        "import matplotlib.pyplot as plt\n",
        "import itertools\n",
        "from sklearn.metrics import confusion_matrix\n",
        "# Función para plot de la matriz de confusión\n",
        "def plot_confusion_matrix(cm, classes, normalize=False, title='Confusion matrix', cmap=plt.cm.Blues):\n",
        "    if normalize:\n",
        "        cm = cm.astype('float') / cm.sum(axis=1)[:, np.newaxis]\n",
        "        print(\"Normalized confusion matrix\")\n",
        "    else:\n",
        "        print('Confusion matrix, without normalization')\n",
        "    #_________________________________________________\n",
        "    plt.imshow(cm, interpolation='nearest', cmap=cmap)\n",
        "    plt.title(title)\n",
        "    plt.colorbar()\n",
        "    tick_marks = np.arange(len(classes))\n",
        "    plt.xticks(tick_marks, classes, rotation=0)\n",
        "    plt.yticks(tick_marks, classes)\n",
        "    #_________________________________________________\n",
        "    fmt = '.5f' if normalize else 'd'\n",
        "    thresh = cm.max() / 2.\n",
        "    for i, j in itertools.product(range(cm.shape[0]), range(cm.shape[1])):\n",
        "        plt.text(j, i, format(cm[i, j], fmt),\n",
        "                 horizontalalignment=\"center\",\n",
        "                 color=\"white\" if cm[i, j] > thresh else \"black\")\n",
        "    #_________________________________________________\n",
        "    plt.tight_layout()\n",
        "    plt.ylabel('Etiqueta Real')\n",
        "    plt.xlabel('Etiqueta Predicha')"
      ],
      "execution_count": 164,
      "outputs": []
    },
    {
      "cell_type": "markdown",
      "metadata": {
        "id": "Jr9aApUQM-P2"
      },
      "source": [
        "**Matriz de confusión MODELO 1 TEST**"
      ]
    },
    {
      "cell_type": "code",
      "metadata": {
        "colab": {
          "base_uri": "https://localhost:8080/",
          "height": 745
        },
        "id": "Cv_gQSTfM6wU",
        "outputId": "9ac5d58c-3965-43bf-8e6a-56bc45781bd7"
      },
      "source": [
        "\n",
        "import numpy as np\n",
        "class_names = [i for i in range(2)]\n",
        "print(\"clases:\",class_names)\n",
        "\n",
        "y_pred=modelo1.predict(X_test)\n",
        "\n",
        "\n",
        "cnf_matrix = confusion_matrix(y_test,y_pred ) \n",
        "np.set_printoptions(precision=2)\n",
        "plt.figure(figsize = (20,8))\n",
        "plot_confusion_matrix(cnf_matrix, classes=class_names, normalize = False, title='Matriz de Confusión test Modelo1')\n",
        "\n",
        "\n",
        "tn, fp, fn, tp = confusion_matrix(y_test,modelo1.predict(X_test)).ravel()\n",
        "\n",
        "print(\"verdaderos positivos:\",tp)\n",
        "print(\"verdaderos negativos:\",tn)\n",
        "print(\"falsos positivos:\",fp)\n",
        "print(\"falsos negativos:\",fn)\n",
        "\n",
        "accuracy=(tp+tn)/(tp+tn+fp+fn)\n",
        "print(\"accuracy:\",accuracy)\n",
        "accuracy_balanced=((tn/(tn+fp))+(tp/(tp+fn)))/2\n",
        "print(\"accuracy balanced:\",accuracy_balanced)"
      ],
      "execution_count": 165,
      "outputs": [
        {
          "output_type": "stream",
          "text": [
            "clases: [0, 1]\n",
            "Confusion matrix, without normalization\n",
            "verdaderos positivos: 17\n",
            "verdaderos negativos: 265\n",
            "falsos positivos: 1\n",
            "falsos negativos: 4\n",
            "accuracy: 0.9825783972125436\n",
            "accuracy balanced: 0.9028822055137844\n"
          ],
          "name": "stdout"
        },
        {
          "output_type": "display_data",
          "data": {
            "image/png": "[encoded data removed]",
            "text/plain": [
              "<Figure size 1440x576 with 2 Axes>"
            ]
          },
          "metadata": {
            "tags": [],
            "needs_background": "light"
          }
        }
      ]
    },
    {
      "cell_type": "markdown",
      "metadata": {
        "id": "1Xcjl4zoQF46"
      },
      "source": [
        "Matriz de confusión MODELO 1 TRAIN"
      ]
    },
    {
      "cell_type": "code",
      "metadata": {
        "colab": {
          "base_uri": "https://localhost:8080/",
          "height": 745
        },
        "id": "BRyeeGJHQEm7",
        "outputId": "1c0d1092-25c5-404d-8688-4137efc36bb6"
      },
      "source": [
        "import numpy as np\n",
        "class_names = [i for i in range(2)]\n",
        "print(\"clases:\",class_names)\n",
        "\n",
        "y_pred=modelo1.predict(X_train)\n",
        "\n",
        "\n",
        "cnf_matrix = confusion_matrix(y_train,y_pred ) \n",
        "np.set_printoptions(precision=2)\n",
        "plt.figure(figsize = (20,8))\n",
        "plot_confusion_matrix(cnf_matrix, classes=class_names, normalize = False, title='Matriz de Confusión train Modelo1')\n",
        "\n",
        "\n",
        "tn, fp, fn, tp = confusion_matrix(y_train,modelo1.predict(X_train)).ravel()\n",
        "\n",
        "print(\"verdaderos positivos:\",tp)\n",
        "print(\"verdaderos negativos:\",tn)\n",
        "print(\"falsos positivos:\",fp)\n",
        "print(\"falsos negativos:\",fn)\n",
        "\n",
        "accuracy=(tp+tn)/(tp+tn+fp+fn)\n",
        "print(\"accuracy:\",accuracy)\n",
        "accuracy_balanced=((tn/(tn+fp))+(tp/(tp+fn)))/2\n",
        "print(\"accuracy balanced:\",accuracy_balanced)"
      ],
      "execution_count": null,
      "outputs": [
        {
          "output_type": "stream",
          "text": [
            "clases: [0, 1]\n",
            "Confusion matrix, without normalization\n",
            "verdaderos positivos: 35\n",
            "verdaderos negativos: 631\n",
            "falsos positivos: 2\n",
            "falsos negativos: 0\n",
            "accuracy: 0.9970059880239521\n",
            "accuracy balanced: 0.9984202211690363\n"
          ],
          "name": "stdout"
        },
        {
          "output_type": "display_data",
          "data": {
            "image/png": "[encoded data removed]",
            "text/plain": [
              "<Figure size 1440x576 with 2 Axes>"
            ]
          },
          "metadata": {
            "tags": [],
            "needs_background": "light"
          }
        }
      ]
    },
    {
      "cell_type": "markdown",
      "metadata": {
        "id": "WNFS2vLBQ100"
      },
      "source": [
        "Matriz de confusión MODELO 2 TEST"
      ]
    },
    {
      "cell_type": "code",
      "metadata": {
        "colab": {
          "base_uri": "https://localhost:8080/",
          "height": 745
        },
        "id": "t-43LqZSQ09X",
        "outputId": "7a1341ec-4d43-45e5-f778-5afb51275e4b"
      },
      "source": [
        "import numpy as np\n",
        "class_names = [i for i in range(2)]\n",
        "print(\"clases:\",class_names)\n",
        "\n",
        "y_pred=modelo2.predict(X_test)\n",
        "\n",
        "\n",
        "cnf_matrix = confusion_matrix(y_test,y_pred ) \n",
        "np.set_printoptions(precision=2)\n",
        "plt.figure(figsize = (20,8))\n",
        "plot_confusion_matrix(cnf_matrix, classes=class_names, normalize = False, title='Matriz de Confusión test Modelo2')\n",
        "\n",
        "\n",
        "tn, fp, fn, tp = confusion_matrix(y_test,modelo2.predict(X_test)).ravel()\n",
        "\n",
        "print(\"verdaderos positivos:\",tp)\n",
        "print(\"verdaderos negativos:\",tn)\n",
        "print(\"falsos positivos:\",fp)\n",
        "print(\"falsos negativos:\",fn)\n",
        "\n",
        "accuracy=(tp+tn)/(tp+tn+fp+fn)\n",
        "print(\"accuracy:\",accuracy)\n",
        "accuracy_balanced=((tn/(tn+fp))+(tp/(tp+fn)))/2\n",
        "print(\"accuracy balanced:\",accuracy_balanced)"
      ],
      "execution_count": null,
      "outputs": [
        {
          "output_type": "stream",
          "text": [
            "clases: [0, 1]\n",
            "Confusion matrix, without normalization\n",
            "verdaderos positivos: 9\n",
            "verdaderos negativos: 269\n",
            "falsos positivos: 5\n",
            "falsos negativos: 4\n",
            "accuracy: 0.9686411149825784\n",
            "accuracy balanced: 0.8370297585626052\n"
          ],
          "name": "stdout"
        },
        {
          "output_type": "display_data",
          "data": {
            "image/png": "[encoded data removed]",
            "text/plain": [
              "<Figure size 1440x576 with 2 Axes>"
            ]
          },
          "metadata": {
            "tags": [],
            "needs_background": "light"
          }
        }
      ]
    },
    {
      "cell_type": "markdown",
      "metadata": {
        "id": "iqnfDLWuR6Tt"
      },
      "source": [
        "Matriz de confusión MODELO 2 TRAIN"
      ]
    },
    {
      "cell_type": "code",
      "metadata": {
        "colab": {
          "base_uri": "https://localhost:8080/",
          "height": 745
        },
        "id": "OdVgcgudSAaS",
        "outputId": "c6f4830b-c9cb-423c-918f-78291ebc4ba1"
      },
      "source": [
        "import numpy as np\n",
        "class_names = [i for i in range(2)]\n",
        "print(\"clases:\",class_names)\n",
        "\n",
        "y_pred=modelo2.predict(X_train)\n",
        "\n",
        "\n",
        "cnf_matrix = confusion_matrix(y_train,y_pred ) \n",
        "np.set_printoptions(precision=2)\n",
        "plt.figure(figsize = (20,8))\n",
        "plot_confusion_matrix(cnf_matrix, classes=class_names, normalize = False, title='Matriz de Confusión train Modelo2')\n",
        "\n",
        "\n",
        "tn, fp, fn, tp = confusion_matrix(y_train,modelo2.predict(X_train)).ravel()\n",
        "\n",
        "print(\"verdaderos positivos:\",tp)\n",
        "print(\"verdaderos negativos:\",tn)\n",
        "print(\"falsos positivos:\",fp)\n",
        "print(\"falsos negativos:\",fn)\n",
        "\n",
        "accuracy=(tp+tn)/(tp+tn+fp+fn)\n",
        "print(\"accuracy:\",accuracy)\n",
        "accuracy_balanced=((tn/(tn+fp))+(tp/(tp+fn)))/2\n",
        "print(\"accuracy balanced:\",accuracy_balanced)"
      ],
      "execution_count": null,
      "outputs": [
        {
          "output_type": "stream",
          "text": [
            "clases: [0, 1]\n",
            "Confusion matrix, without normalization\n",
            "verdaderos positivos: 35\n",
            "verdaderos negativos: 633\n",
            "falsos positivos: 0\n",
            "falsos negativos: 0\n",
            "accuracy: 1.0\n",
            "accuracy balanced: 1.0\n"
          ],
          "name": "stdout"
        },
        {
          "output_type": "display_data",
          "data": {
            "image/png": "[encoded data removed]",
            "text/plain": [
              "<Figure size 1440x576 with 2 Axes>"
            ]
          },
          "metadata": {
            "tags": [],
            "needs_background": "light"
          }
        }
      ]
    },
    {
      "cell_type": "markdown",
      "metadata": {
        "id": "X3Cc9IDHS2FK"
      },
      "source": [
        "Matriz de confusión MODELO 4 TEST"
      ]
    },
    {
      "cell_type": "code",
      "metadata": {
        "colab": {
          "base_uri": "https://localhost:8080/",
          "height": 745
        },
        "id": "tyge7fypSjQ0",
        "outputId": "1ee6e348-bf20-4e90-9b5a-37b84f4eb70d"
      },
      "source": [
        "\n",
        "import numpy as np\n",
        "class_names = [i for i in range(2)]\n",
        "print(\"clases:\",class_names)\n",
        "\n",
        "y_pred=modelo4.predict(X_test)\n",
        "\n",
        "\n",
        "cnf_matrix = confusion_matrix(y_test,y_pred ) \n",
        "np.set_printoptions(precision=2)\n",
        "plt.figure(figsize = (20,8))\n",
        "plot_confusion_matrix(cnf_matrix, classes=class_names, normalize = False, title='Matriz de Confusión test Modelo4')\n",
        "\n",
        "\n",
        "tn, fp, fn, tp = confusion_matrix(y_test,modelo4.predict(X_test)).ravel()\n",
        "\n",
        "print(\"verdaderos positivos:\",tp)\n",
        "print(\"verdaderos negativos:\",tn)\n",
        "print(\"falsos positivos:\",fp)\n",
        "print(\"falsos negativos:\",fn)\n",
        "\n",
        "accuracy=(tp+tn)/(tp+tn+fp+fn)\n",
        "print(\"accuracy:\",accuracy)\n",
        "accuracy_balanced=((tn/(tn+fp))+(tp/(tp+fn)))/2\n",
        "print(\"accuracy balanced:\",accuracy_balanced)"
      ],
      "execution_count": null,
      "outputs": [
        {
          "output_type": "stream",
          "text": [
            "clases: [0, 1]\n",
            "Confusion matrix, without normalization\n",
            "verdaderos positivos: 11\n",
            "verdaderos negativos: 274\n",
            "falsos positivos: 0\n",
            "falsos negativos: 2\n",
            "accuracy: 0.9930313588850174\n",
            "accuracy balanced: 0.9230769230769231\n"
          ],
          "name": "stdout"
        },
        {
          "output_type": "display_data",
          "data": {
            "image/png": "[encoded data removed]",
            "text/plain": [
              "<Figure size 1440x576 with 2 Axes>"
            ]
          },
          "metadata": {
            "tags": [],
            "needs_background": "light"
          }
        }
      ]
    },
    {
      "cell_type": "markdown",
      "metadata": {
        "id": "Cbv1KZjmNXSC"
      },
      "source": [
        "Matriz de confusión MODELO 4 TRAIN"
      ]
    },
    {
      "cell_type": "code",
      "metadata": {
        "colab": {
          "base_uri": "https://localhost:8080/",
          "height": 745
        },
        "id": "bFpl4bcBTSCJ",
        "outputId": "9470138b-4619-4f46-ccdb-48de3da6a0cf"
      },
      "source": [
        "import numpy as np\n",
        "class_names = [i for i in range(2)]\n",
        "print(\"clases:\",class_names)\n",
        "\n",
        "y_pred=modelo4.predict(X_train)\n",
        "\n",
        "\n",
        "cnf_matrix = confusion_matrix(y_train,y_pred ) \n",
        "np.set_printoptions(precision=2)\n",
        "plt.figure(figsize = (20,8))\n",
        "plot_confusion_matrix(cnf_matrix, classes=class_names, normalize = False, title='Matriz de Confusión train Modelo4')\n",
        "\n",
        "\n",
        "tn, fp, fn, tp = confusion_matrix(y_train,modelo4.predict(X_train)).ravel()\n",
        "\n",
        "print(\"verdaderos positivos:\",tp)\n",
        "print(\"verdaderos negativos:\",tn)\n",
        "print(\"falsos positivos:\",fp)\n",
        "print(\"falsos negativos:\",fn)\n",
        "\n",
        "accuracy=(tp+tn)/(tp+tn+fp+fn)\n",
        "print(\"accuracy:\",accuracy)\n",
        "accuracy_balanced=((tn/(tn+fp))+(tp/(tp+fn)))/2\n",
        "print(\"accuracy balanced:\",accuracy_balanced)"
      ],
      "execution_count": null,
      "outputs": [
        {
          "output_type": "stream",
          "text": [
            "clases: [0, 1]\n",
            "Confusion matrix, without normalization\n",
            "verdaderos positivos: 31\n",
            "verdaderos negativos: 627\n",
            "falsos positivos: 6\n",
            "falsos negativos: 4\n",
            "accuracy: 0.9850299401197605\n",
            "accuracy balanced: 0.9381178063642519\n"
          ],
          "name": "stdout"
        },
        {
          "output_type": "display_data",
          "data": {
            "image/png": "[encoded data removed]",
            "text/plain": [
              "<Figure size 1440x576 with 2 Axes>"
            ]
          },
          "metadata": {
            "tags": [],
            "needs_background": "light"
          }
        }
      ]
    },
    {
      "cell_type": "markdown",
      "metadata": {
        "id": "8D3zeni_NlbO"
      },
      "source": [
        "**Matriz Confusión  Modelo RF Test**"
      ]
    },
    {
      "cell_type": "code",
      "metadata": {
        "colab": {
          "base_uri": "https://localhost:8080/",
          "height": 745
        },
        "id": "8ieKg_gbNqp5",
        "outputId": "3bf72705-17b3-4732-ee2c-4f7aeede54a8"
      },
      "source": [
        "\n",
        "import numpy as np\n",
        "class_names = [i for i in range(2)]\n",
        "print(\"clases:\",class_names)\n",
        "\n",
        "y_pred=modelo_rf.predict(X_test)\n",
        "\n",
        "\n",
        "cnf_matrix = confusion_matrix(y_test,y_pred ) \n",
        "np.set_printoptions(precision=2)\n",
        "plt.figure(figsize = (20,8))\n",
        "plot_confusion_matrix(cnf_matrix, classes=class_names, normalize = False, title='Matriz de Confusión test Modelo4')\n",
        "\n",
        "\n",
        "tn, fp, fn, tp = confusion_matrix(y_test,modelo_rf.predict(X_test)).ravel()\n",
        "\n",
        "print(\"verdaderos positivos:\",tp)\n",
        "print(\"verdaderos negativos:\",tn)\n",
        "print(\"falsos positivos:\",fp)\n",
        "print(\"falsos negativos:\",fn)\n",
        "\n",
        "accuracy=(tp+tn)/(tp+tn+fp+fn)\n",
        "print(\"accuracy:\",accuracy)\n",
        "accuracy_balanced=((tn/(tn+fp))+(tp/(tp+fn)))/2\n",
        "print(\"accuracy balanced:\",accuracy_balanced)"
      ],
      "execution_count": null,
      "outputs": [
        {
          "output_type": "stream",
          "text": [
            "clases: [0, 1]\n",
            "Confusion matrix, without normalization\n",
            "verdaderos positivos: 11\n",
            "verdaderos negativos: 267\n",
            "falsos positivos: 7\n",
            "falsos negativos: 2\n",
            "accuracy: 0.9686411149825784\n",
            "accuracy balanced: 0.9103032004491858\n"
          ],
          "name": "stdout"
        },
        {
          "output_type": "display_data",
          "data": {
            "image/png": "[encoded data removed]",
            "text/plain": [
              "<Figure size 1440x576 with 2 Axes>"
            ]
          },
          "metadata": {
            "tags": [],
            "needs_background": "light"
          }
        }
      ]
    },
    {
      "cell_type": "markdown",
      "metadata": {
        "id": "g6MEfCBKOIwR"
      },
      "source": [
        "Matriz Confusión  Modelo RF TRAIN"
      ]
    },
    {
      "cell_type": "code",
      "metadata": {
        "colab": {
          "base_uri": "https://localhost:8080/",
          "height": 745
        },
        "id": "rkAX4fs6OIDz",
        "outputId": "15eef61f-d225-4b1e-c27e-90e0f6040560"
      },
      "source": [
        "import numpy as np\n",
        "class_names = [i for i in range(2)]\n",
        "print(\"clases:\",class_names)\n",
        "\n",
        "y_pred=modelo_rf.predict(X_train)\n",
        "\n",
        "\n",
        "cnf_matrix = confusion_matrix(y_train,y_pred ) \n",
        "np.set_printoptions(precision=2)\n",
        "plt.figure(figsize = (20,8))\n",
        "plot_confusion_matrix(cnf_matrix, classes=class_names, normalize = False, title='Matriz de Confusión train Modelo4')\n",
        "\n",
        "\n",
        "tn, fp, fn, tp = confusion_matrix(y_train,modelo_rf.predict(X_train)).ravel()\n",
        "\n",
        "print(\"verdaderos positivos:\",tp)\n",
        "print(\"verdaderos negativos:\",tn)\n",
        "print(\"falsos positivos:\",fp)\n",
        "print(\"falsos negativos:\",fn)\n",
        "\n",
        "accuracy=(tp+tn)/(tp+tn+fp+fn)\n",
        "print(\"accuracy:\",accuracy)\n",
        "accuracy_balanced=((tn/(tn+fp))+(tp/(tp+fn)))/2\n",
        "print(\"accuracy balanced:\",accuracy_balanced)"
      ],
      "execution_count": null,
      "outputs": [
        {
          "output_type": "stream",
          "text": [
            "clases: [0, 1]\n",
            "Confusion matrix, without normalization\n",
            "verdaderos positivos: 32\n",
            "verdaderos negativos: 618\n",
            "falsos positivos: 15\n",
            "falsos negativos: 3\n",
            "accuracy: 0.9730538922155688\n",
            "accuracy balanced: 0.9452945159106296\n"
          ],
          "name": "stdout"
        },
        {
          "output_type": "display_data",
          "data": {
            "image/png": "[encoded data removed]",
            "text/plain": [
              "<Figure size 1440x576 with 2 Axes>"
            ]
          },
          "metadata": {
            "tags": [],
            "needs_background": "light"
          }
        }
      ]
    },
    {
      "cell_type": "markdown",
      "metadata": {
        "id": "53crKoRyOv_7"
      },
      "source": [
        "Matriz Confusión Modelo XGB Test"
      ]
    },
    {
      "cell_type": "code",
      "metadata": {
        "colab": {
          "base_uri": "https://localhost:8080/",
          "height": 745
        },
        "id": "2X3WOSe4Ovf1",
        "outputId": "896b25fe-08d5-4148-9144-c9523c644fac"
      },
      "source": [
        "\n",
        "import numpy as np\n",
        "class_names = [i for i in range(2)]\n",
        "print(\"clases:\",class_names)\n",
        "\n",
        "y_pred=modelo_xgb.predict(X_test)\n",
        "\n",
        "\n",
        "cnf_matrix = confusion_matrix(y_test,y_pred ) \n",
        "np.set_printoptions(precision=2)\n",
        "plt.figure(figsize = (20,8))\n",
        "plot_confusion_matrix(cnf_matrix, classes=class_names, normalize = False, title='Matriz de Confusión test Modelo4')\n",
        "\n",
        "\n",
        "tn, fp, fn, tp = confusion_matrix(y_test,modelo_xgb.predict(X_test)).ravel()\n",
        "\n",
        "print(\"verdaderos positivos:\",tp)\n",
        "print(\"verdaderos negativos:\",tn)\n",
        "print(\"falsos positivos:\",fp)\n",
        "print(\"falsos negativos:\",fn)\n",
        "\n",
        "accuracy=(tp+tn)/(tp+tn+fp+fn)\n",
        "print(\"accuracy:\",accuracy)\n",
        "accuracy_balanced=((tn/(tn+fp))+(tp/(tp+fn)))/2\n",
        "print(\"accuracy balanced:\",accuracy_balanced)"
      ],
      "execution_count": null,
      "outputs": [
        {
          "output_type": "stream",
          "text": [
            "clases: [0, 1]\n",
            "Confusion matrix, without normalization\n",
            "verdaderos positivos: 10\n",
            "verdaderos negativos: 274\n",
            "falsos positivos: 0\n",
            "falsos negativos: 3\n",
            "accuracy: 0.9895470383275261\n",
            "accuracy balanced: 0.8846153846153846\n"
          ],
          "name": "stdout"
        },
        {
          "output_type": "display_data",
          "data": {
            "image/png": "[encoded data removed]",
            "text/plain": [
              "<Figure size 1440x576 with 2 Axes>"
            ]
          },
          "metadata": {
            "tags": [],
            "needs_background": "light"
          }
        }
      ]
    },
    {
      "cell_type": "markdown",
      "metadata": {
        "id": "iIXTOzmFPcHL"
      },
      "source": [
        "**Matriz Confusión Modelo XGB Train**"
      ]
    },
    {
      "cell_type": "code",
      "metadata": {
        "colab": {
          "base_uri": "https://localhost:8080/",
          "height": 745
        },
        "id": "HJDyUNiVPZUW",
        "outputId": "cee41f7a-dfd2-4b67-cc30-5bec8b6511a9"
      },
      "source": [
        "import numpy as np\n",
        "class_names = [i for i in range(2)]\n",
        "print(\"clases:\",class_names)\n",
        "\n",
        "y_pred=modelo_xgb.predict(X_train)\n",
        "\n",
        "\n",
        "cnf_matrix = confusion_matrix(y_train,y_pred ) \n",
        "np.set_printoptions(precision=2)\n",
        "plt.figure(figsize = (20,8))\n",
        "plot_confusion_matrix(cnf_matrix, classes=class_names, normalize = False, title='Matriz de Confusión train Modelo4')\n",
        "\n",
        "\n",
        "tn, fp, fn, tp = confusion_matrix(y_train,modelo_xgb.predict(X_train)).ravel()\n",
        "\n",
        "print(\"verdaderos positivos:\",tp)\n",
        "print(\"verdaderos negativos:\",tn)\n",
        "print(\"falsos positivos:\",fp)\n",
        "print(\"falsos negativos:\",fn)\n",
        "\n",
        "accuracy=(tp+tn)/(tp+tn+fp+fn)\n",
        "print(\"accuracy:\",accuracy)\n",
        "accuracy_balanced=((tn/(tn+fp))+(tp/(tp+fn)))/2\n",
        "print(\"accuracy balanced:\",accuracy_balanced)"
      ],
      "execution_count": null,
      "outputs": [
        {
          "output_type": "stream",
          "text": [
            "clases: [0, 1]\n",
            "Confusion matrix, without normalization\n",
            "verdaderos positivos: 35\n",
            "verdaderos negativos: 633\n",
            "falsos positivos: 0\n",
            "falsos negativos: 0\n",
            "accuracy: 1.0\n",
            "accuracy balanced: 1.0\n"
          ],
          "name": "stdout"
        },
        {
          "output_type": "display_data",
          "data": {
            "image/png": "[encoded data removed]",
            "text/plain": [
              "<Figure size 1440x576 with 2 Axes>"
            ]
          },
          "metadata": {
            "tags": [],
            "needs_background": "light"
          }
        }
      ]
    },
    {
      "cell_type": "markdown",
      "metadata": {
        "id": "knWrHeX9UeUy"
      },
      "source": [
        "**8) **Calcular el AUC y el gráfico ROC en entrenamiento y validación de los 3 modelos."
      ]
    },
    {
      "cell_type": "code",
      "metadata": {
        "colab": {
          "base_uri": "https://localhost:8080/"
        },
        "id": "BY51j6-AUc8Z",
        "outputId": "1cc7472b-cea6-4a6f-cd26-a783f7fb48d7"
      },
      "source": [
        "from sklearn import metrics\n",
        "from sklearn.metrics import accuracy_score,precision_score,classification_report,balanced_accuracy_score\n",
        "\n",
        "\n",
        "def eval_model(testData,trainingData,y_test,y_train,model):\n",
        "    predictions_test = model.predict(testData)\n",
        "    predictions_train = model.predict(trainingData)\n",
        "    # Select (prediction, true label) and compute test error\n",
        "    print(\"accuracy test:\",accuracy_score(y_test, predictions_test))\n",
        "    print(\"accuracy train:\",accuracy_score(y_train, predictions_train))\n",
        "    \n",
        "    print(\"Balanced_accuracy test:\",balanced_accuracy_score(y_test, predictions_test))\n",
        "    print(\"Balanced_accuracy train:\",balanced_accuracy_score(y_train, predictions_train))\n",
        "      \n",
        "    return (balanced_accuracy_score(y_test, predictions_test))\n",
        "\n",
        "def eval_model_alt(testData,trainingData,y_test,y_train,model):\n",
        "    predictions_test = model.predict(testData)\n",
        "    predictions_train = model.predict(trainingData)\n",
        "    # Select (prediction, true label) and compute test error   \n",
        "    return (balanced_accuracy_score(y_test, predictions_test))\n",
        "\n",
        "\n",
        "\n",
        "print(\"_________________________________________\")\n",
        "print(\"Modelo 1\")\n",
        "eval_model(X_test,X_train,y_test,y_train,modelo1)\n",
        "print(\"_________________________________________\")\n",
        "print(\"Modelo 2\")\n",
        "eval_model(X_test,X_train,y_test,y_train,modelo2)\n",
        "print(\"_________________________________________\")\n",
        "print(\"Modelo 3\")\n",
        "eval_model(X_test,X_train,y_test,y_train,modelo3)\n",
        "print(\"_________________________________________\")\n",
        "print(\"Modelo 4\")\n",
        "eval_model(X_test,X_train,y_test,y_train,modelo4)\n",
        "print(\"_________________________________________\")\n",
        "print(\"_________________________________________\")\n",
        "print(\"Modelo RF\")\n",
        "eval_model(X_test,X_train,y_test,y_train,modelo_rf)\n",
        "print(\"_________________________________________\")\n",
        "print(\"Modelo XGB\")\n",
        "eval_model(X_test,X_train,y_test,y_train,modelo_xgb)"
      ],
      "execution_count": 166,
      "outputs": [
        {
          "output_type": "stream",
          "text": [
            "_________________________________________\n",
            "Modelo 1\n",
            "accuracy test: 0.9825783972125436\n",
            "accuracy train: 0.9985029940119761\n",
            "Balanced_accuracy test: 0.9028822055137844\n",
            "Balanced_accuracy train: 0.999219968798752\n",
            "_________________________________________\n",
            "Modelo 2\n",
            "accuracy test: 0.9790940766550522\n",
            "accuracy train: 1.0\n",
            "Balanced_accuracy test: 0.8790726817042607\n",
            "Balanced_accuracy train: 1.0\n",
            "_________________________________________\n",
            "Modelo 3\n",
            "accuracy test: 0.975609756097561\n",
            "accuracy train: 1.0\n",
            "Balanced_accuracy test: 0.8552631578947368\n",
            "Balanced_accuracy train: 1.0\n",
            "_________________________________________\n",
            "Modelo 4\n",
            "accuracy test: 0.9860627177700348\n",
            "accuracy train: 0.9880239520958084\n",
            "Balanced_accuracy test: 0.9266917293233082\n",
            "Balanced_accuracy train: 0.9405442884382041\n",
            "_________________________________________\n",
            "_________________________________________\n",
            "Modelo RF\n",
            "accuracy test: 0.9616724738675958\n",
            "accuracy train: 0.9715568862275449\n",
            "Balanced_accuracy test: 0.9354636591478697\n",
            "Balanced_accuracy train: 0.9497024325417461\n",
            "_________________________________________\n",
            "Modelo XGB\n",
            "accuracy test: 0.9721254355400697\n",
            "accuracy train: 1.0\n",
            "Balanced_accuracy test: 0.831453634085213\n",
            "Balanced_accuracy train: 1.0\n"
          ],
          "name": "stdout"
        },
        {
          "output_type": "execute_result",
          "data": {
            "text/plain": [
              "0.831453634085213"
            ]
          },
          "metadata": {
            "tags": []
          },
          "execution_count": 166
        }
      ]
    },
    {
      "cell_type": "markdown",
      "metadata": {
        "id": "OkP4IdQqMtsW"
      },
      "source": [
        "**Validación cruzada**"
      ]
    },
    {
      "cell_type": "code",
      "metadata": {
        "id": "Y_NzK5GOMvv0"
      },
      "source": [
        "from sklearn.model_selection import StratifiedKFold\r\n",
        "\r\n",
        "def validacion_cruzada(x_train,y_train,kfolds,model):\r\n",
        "    cv = StratifiedKFold(n_splits=kfolds,shuffle=False)\r\n",
        "    prom=[]\r\n",
        "    for train,test in cv.split(x_train,y_train):\r\n",
        "        modelo=model.fit(x_train.iloc[train],y_train.iloc[train])\r\n",
        "        prom.append(eval_model_alt(x_train.iloc[test],x_train.iloc[train] ,y_train.iloc[test],y_train.iloc[train],modelo))\r\n",
        "\r\n",
        "    return(prom)  "
      ],
      "execution_count": 167,
      "outputs": []
    },
    {
      "cell_type": "code",
      "metadata": {
        "colab": {
          "base_uri": "https://localhost:8080/",
          "height": 781
        },
        "id": "YiIqE9WVON1M",
        "outputId": "f395fe70-b25d-4d9d-c331-4d2b9a8841e3"
      },
      "source": [
        "# Se realiza validación cruzada pasando cuantas particiones del conjuto de datos quiere entrenar\r\n",
        "kflods = 4\r\n",
        "ab_vec=validacion_cruzada(X_train,y_train, kflods, modelo1)\r\n",
        "\r\n",
        "print('-------------------------')\r\n",
        "display(ab_vec)\r\n",
        "print('Promedio modelo 1:', sum(ab_vec)/len(ab_vec)) \r\n",
        "print('-------------------------')\r\n",
        "\r\n",
        "ab_vec=validacion_cruzada(X_train,y_train, kflods, modelo2)\r\n",
        "\r\n",
        "print('-------------------------')\r\n",
        "display(ab_vec)\r\n",
        "print('Promedio modelo 2:', sum(ab_vec)/len(ab_vec)) \r\n",
        "print('-------------------------')\r\n",
        "\r\n",
        "ab_vec=validacion_cruzada(X_train,y_train, kflods, modelo3)\r\n",
        "\r\n",
        "print('-------------------------')\r\n",
        "display(ab_vec)\r\n",
        "print('Promedio modelo 3:', sum(ab_vec)/len(ab_vec)) \r\n",
        "print('-------------------------')\r\n",
        "\r\n",
        "ab_vec=validacion_cruzada(X_train,y_train, kflods, modelo4)\r\n",
        "\r\n",
        "print('-------------------------')\r\n",
        "display(ab_vec)\r\n",
        "print('Promedio modelo 4:', sum(ab_vec)/len(ab_vec)) \r\n",
        "print('-------------------------')\r\n",
        "\r\n",
        "ab_vec=validacion_cruzada(X_train,y_train, kflods, modelo_rf)\r\n",
        "\r\n",
        "print('-------------------------')\r\n",
        "display(ab_vec)\r\n",
        "print('Promedio modelo RF:', sum(ab_vec)/len(ab_vec)) \r\n",
        "print('-------------------------')\r\n",
        "\r\n",
        "ab_vec=validacion_cruzada(X_train,y_train, kflods, modelo_xgb)\r\n",
        "\r\n",
        "print('-------------------------')\r\n",
        "display(ab_vec)\r\n",
        "print('Promedio modelo XGB:', sum(ab_vec)/len(ab_vec)) \r\n",
        "print('-------------------------')"
      ],
      "execution_count": 168,
      "outputs": [
        {
          "output_type": "stream",
          "text": [
            "-------------------------\n"
          ],
          "name": "stdout"
        },
        {
          "output_type": "display_data",
          "data": {
            "text/plain": [
              "[0.9135610766045549,\n",
              " 0.7825892857142858,\n",
              " 0.8446428571428571,\n",
              " 0.9254464285714286]"
            ]
          },
          "metadata": {
            "tags": []
          }
        },
        {
          "output_type": "stream",
          "text": [
            "Promedio modelo 1: 0.8665599120082815\n",
            "-------------------------\n",
            "-------------------------\n"
          ],
          "name": "stdout"
        },
        {
          "output_type": "display_data",
          "data": {
            "text/plain": [
              "[0.6635610766045549,\n",
              " 0.7825892857142858,\n",
              " 0.8446428571428571,\n",
              " 0.8540178571428572]"
            ]
          },
          "metadata": {
            "tags": []
          }
        },
        {
          "output_type": "stream",
          "text": [
            "Promedio modelo 2: 0.7862027691511386\n",
            "-------------------------\n",
            "-------------------------\n"
          ],
          "name": "stdout"
        },
        {
          "output_type": "display_data",
          "data": {
            "text/plain": [
              "[0.9135610766045549,\n",
              " 0.7825892857142858,\n",
              " 0.8446428571428571,\n",
              " 0.7825892857142858]"
            ]
          },
          "metadata": {
            "tags": []
          }
        },
        {
          "output_type": "stream",
          "text": [
            "Promedio modelo 3: 0.8308456262939958\n",
            "-------------------------\n",
            "-------------------------\n"
          ],
          "name": "stdout"
        },
        {
          "output_type": "display_data",
          "data": {
            "text/plain": [
              "[0.9166666666666667,\n",
              " 0.6397321428571429,\n",
              " 0.8415178571428572,\n",
              " 0.9254464285714286]"
            ]
          },
          "metadata": {
            "tags": []
          }
        },
        {
          "output_type": "stream",
          "text": [
            "Promedio modelo 4: 0.8308407738095238\n",
            "-------------------------\n",
            "-------------------------\n"
          ],
          "name": "stdout"
        },
        {
          "output_type": "display_data",
          "data": {
            "text/plain": [
              "[0.9875776397515528,\n",
              " 0.9129464285714286,\n",
              " 0.8383928571428572,\n",
              " 0.9098214285714286]"
            ]
          },
          "metadata": {
            "tags": []
          }
        },
        {
          "output_type": "stream",
          "text": [
            "Promedio modelo RF: 0.9121845885093168\n",
            "-------------------------\n",
            "-------------------------\n"
          ],
          "name": "stdout"
        },
        {
          "output_type": "display_data",
          "data": {
            "text/plain": [
              "[0.8302277432712215,\n",
              " 0.7111607142857143,\n",
              " 0.8446428571428571,\n",
              " 0.9285714285714286]"
            ]
          },
          "metadata": {
            "tags": []
          }
        },
        {
          "output_type": "stream",
          "text": [
            "Promedio modelo XGB: 0.8286506858178053\n",
            "-------------------------\n"
          ],
          "name": "stdout"
        }
      ]
    },
    {
      "cell_type": "code",
      "metadata": {
        "id": "q2RTlEmRQZeK"
      },
      "source": [
        "\r\n",
        "from sklearn.metrics import confusion_matrix\r\n",
        "from sklearn.metrics import accuracy_score,precision_score, balanced_accuracy_score\r\n",
        "\r\n",
        "\r\n",
        "def _score_func(estimator, X, y):\r\n",
        "  y_pred_test = estimator.predict(X)\r\n",
        "  return balanced_accuracy_score(y, y_pred_test)\r\n",
        "\r\n",
        "class Class_Fit(object):\r\n",
        "    def __init__(self, clf, params=None):\r\n",
        "        if params:            \r\n",
        "            self.clf = clf(**params)\r\n",
        "        else:\r\n",
        "            self.clf = clf()\r\n",
        "\r\n",
        "    def train(self, x_train, y_train):\r\n",
        "        self.clf.fit(x_train, y_train)\r\n",
        "\r\n",
        "    def predict(self, x):\r\n",
        "        return self.clf.predict(x)\r\n",
        "    \r\n",
        "    def grid_search(self, parameters, Kfold):\r\n",
        "        self.grid = GridSearchCV(estimator = self.clf, param_grid = parameters, cv = Kfold,scoring=_score_func)\r\n",
        "        \r\n",
        "    def grid_fit(self, X, Y):\r\n",
        "        self.grid.fit(X, Y)\r\n",
        "        \r\n",
        "    def grid_predict(self, X, Y):\r\n",
        "        self.predictions = self.grid.predict(X)\r\n",
        "        print(\"Precision: {:.2f} % \".format(100*metrics.balanced_accuracy_score(Y, self.predictions)))\r\n",
        "from sklearn.model_selection import GridSearchCV\r\n"
      ],
      "execution_count": 169,
      "outputs": []
    },
    {
      "cell_type": "markdown",
      "metadata": {
        "id": "18rOwyuRQQrw"
      },
      "source": [
        "**Parámetros Árbol**"
      ]
    },
    {
      "cell_type": "code",
      "metadata": {
        "colab": {
          "base_uri": "https://localhost:8080/"
        },
        "id": "U1BhZQ5wQQCP",
        "outputId": "52f3ec10-b390-44bd-cd1a-c28d9336db3d"
      },
      "source": [
        "%%time\r\n",
        "gb = Class_Fit(clf = tree.DecisionTreeClassifier)\r\n",
        "param_grid = {\r\n",
        "             'criterion':['entropy','gini'],\r\n",
        "             'max_depth':[3,4,5,10,20],\r\n",
        "             'min_samples_leaf':[5,11,3,1],\r\n",
        "             'min_impurity_decrease':[0,0.025,0.0025],\r\n",
        "             'min_samples_split':[2,4,10],\r\n",
        "             'splitter':['best','random']\r\n",
        "             }\r\n",
        "\r\n",
        "\r\n",
        "gb.grid_search(parameters = param_grid, Kfold = 4)\r\n",
        "gb.grid_fit(X = X_train, Y = y_train)\r\n",
        "\r\n",
        "print(\"Parámetros árbol:\",gb.grid.best_params_)\r\n",
        "mejor_arbol=gb.grid.best_estimator_"
      ],
      "execution_count": 170,
      "outputs": [
        {
          "output_type": "stream",
          "text": [
            "Parámetros árbol: {'criterion': 'entropy', 'max_depth': 3, 'min_impurity_decrease': 0.025, 'min_samples_leaf': 5, 'min_samples_split': 2, 'splitter': 'best'}\n",
            "CPU times: user 10.4 s, sys: 2.91 ms, total: 10.4 s\n",
            "Wall time: 10.4 s\n"
          ],
          "name": "stdout"
        }
      ]
    },
    {
      "cell_type": "code",
      "metadata": {
        "colab": {
          "base_uri": "https://localhost:8080/"
        },
        "id": "6bB9jYmOSGx-",
        "outputId": "c9d293ad-5687-4fc9-d175-1d08b1f75cfa"
      },
      "source": [
        "print(\"_________________________________________\")\r\n",
        "print(\"Modelo mejor\")\r\n",
        "eval_model(X_test,X_train,y_test,y_train,mejor_arbol)\r\n",
        "print(\"_________________________________________\")"
      ],
      "execution_count": 171,
      "outputs": [
        {
          "output_type": "stream",
          "text": [
            "_________________________________________\n",
            "Modelo mejor\n",
            "accuracy test: 0.9860627177700348\n",
            "accuracy train: 0.9880239520958084\n",
            "Balanced_accuracy test: 0.9266917293233082\n",
            "Balanced_accuracy train: 0.9405442884382041\n",
            "_________________________________________\n"
          ],
          "name": "stdout"
        }
      ]
    },
    {
      "cell_type": "code",
      "metadata": {
        "colab": {
          "base_uri": "https://localhost:8080/",
          "height": 90
        },
        "id": "XUdHZ4M6SlyP",
        "outputId": "7c9fadc1-8476-4e01-a75b-22d20e291a25"
      },
      "source": [
        "ab_vec=validacion_cruzada(X_train,y_train, kflods, mejor_arbol)\r\n",
        "\r\n",
        "print('-------------------------')\r\n",
        "display(ab_vec)\r\n",
        "print('Promedio modelo mejor_arbol:', sum(ab_vec)/len(ab_vec)) \r\n",
        "print('-------------------------')"
      ],
      "execution_count": 172,
      "outputs": [
        {
          "output_type": "stream",
          "text": [
            "-------------------------\n"
          ],
          "name": "stdout"
        },
        {
          "output_type": "display_data",
          "data": {
            "text/plain": [
              "[1.0, 0.7825892857142858, 0.8383928571428572, 0.9254464285714286]"
            ]
          },
          "metadata": {
            "tags": []
          }
        },
        {
          "output_type": "stream",
          "text": [
            "Promedio modelo mejor_arbol: 0.8866071428571428\n",
            "-------------------------\n"
          ],
          "name": "stdout"
        }
      ]
    },
    {
      "cell_type": "markdown",
      "metadata": {
        "id": "CDQweLjdTHuO"
      },
      "source": [
        "**Parámetros RandomForest**"
      ]
    },
    {
      "cell_type": "code",
      "metadata": {
        "colab": {
          "base_uri": "https://localhost:8080/"
        },
        "id": "4MyLg3n1THQ7",
        "outputId": "517e8bce-1982-44b5-8b0d-057d56002255"
      },
      "source": [
        "%%time\r\n",
        "gb = Class_Fit(clf = RandomForestClassifier)\r\n",
        "param_grid = {\r\n",
        "             'criterion':['entropy','gini'],\r\n",
        "             'max_depth':[3,5,10,20],\r\n",
        "             'min_samples_leaf':[5,11,3,1],\r\n",
        "             'min_impurity_decrease':[0,0.025,0.0025],\r\n",
        "             'min_samples_split':[2,4,10],\r\n",
        "             'n_estimators':[100],\r\n",
        "              'max_features':['auto', 'sqrt', 'log2'],\r\n",
        "              'class_weight':['balanced', 'balanced_subsample']\r\n",
        "             }\r\n",
        "\r\n",
        "gb.grid_search(parameters = param_grid, Kfold = 4)\r\n",
        "gb.grid_fit(X = X_train, Y = y_train)"
      ],
      "execution_count": null,
      "outputs": [
        {
          "output_type": "stream",
          "text": [
            "CPU times: user 17min 42s, sys: 3.87 s, total: 17min 46s\n",
            "Wall time: 17min 47s\n"
          ],
          "name": "stdout"
        }
      ]
    },
    {
      "cell_type": "code",
      "metadata": {
        "colab": {
          "base_uri": "https://localhost:8080/"
        },
        "id": "ZTs5UJxxTto4",
        "outputId": "b9033c35-cbaf-4ab2-8a4a-bafe7efad664"
      },
      "source": [
        "print(\"Parámetros RandomForestClassifier:\",gb.grid.best_params_)\r\n",
        "mejor_rf=gb.grid.best_estimator_\r\n",
        "mejor_rf"
      ],
      "execution_count": null,
      "outputs": [
        {
          "output_type": "stream",
          "text": [
            "Parámetros RandomForestClassifier: {'class_weight': 'balanced_subsample', 'criterion': 'entropy', 'max_depth': 10, 'max_features': 'sqrt', 'min_impurity_decrease': 0.025, 'min_samples_leaf': 11, 'min_samples_split': 10, 'n_estimators': 100}\n"
          ],
          "name": "stdout"
        },
        {
          "output_type": "execute_result",
          "data": {
            "text/plain": [
              "RandomForestClassifier(bootstrap=True, ccp_alpha=0.0,\n",
              "                       class_weight='balanced_subsample', criterion='entropy',\n",
              "                       max_depth=10, max_features='sqrt', max_leaf_nodes=None,\n",
              "                       max_samples=None, min_impurity_decrease=0.025,\n",
              "                       min_impurity_split=None, min_samples_leaf=11,\n",
              "                       min_samples_split=10, min_weight_fraction_leaf=0.0,\n",
              "                       n_estimators=100, n_jobs=None, oob_score=False,\n",
              "                       random_state=None, verbose=0, warm_start=False)"
            ]
          },
          "metadata": {
            "tags": []
          },
          "execution_count": 88
        }
      ]
    },
    {
      "cell_type": "code",
      "metadata": {
        "colab": {
          "base_uri": "https://localhost:8080/"
        },
        "id": "wg2jYDLLT9KF",
        "outputId": "9af4aeb1-fb98-4fdc-cd2f-3a53b06cab31"
      },
      "source": [
        "print(\"_________________________________________\")\r\n",
        "print(\"Modelo mejor RandomForestClassifier\")\r\n",
        "eval_model(X_test,X_train,y_test,y_train,mejor_rf)\r\n",
        "print(\"_________________________________________\")"
      ],
      "execution_count": null,
      "outputs": [
        {
          "output_type": "stream",
          "text": [
            "_________________________________________\n",
            "Modelo mejor RandomForestClassifier\n",
            "accuracy test: 0.9651567944250871\n",
            "accuracy train: 0.9700598802395209\n",
            "Balanced_accuracy test: 0.93734335839599\n",
            "Balanced_accuracy train: 0.9666608886577686\n",
            "_________________________________________\n"
          ],
          "name": "stdout"
        }
      ]
    },
    {
      "cell_type": "code",
      "metadata": {
        "colab": {
          "base_uri": "https://localhost:8080/",
          "height": 90
        },
        "id": "IQjOI8_EUDRj",
        "outputId": "fee20df0-8a53-48a4-d1fa-985f2a0e8ad8"
      },
      "source": [
        "ab_vec=validacion_cruzada(X_train,y_train, kflods, mejor_rf)\r\n",
        "\r\n",
        "print('-------------------------')\r\n",
        "display(ab_vec)\r\n",
        "print('Promedio modelo mejor RandomForestClassifier:', sum(ab_vec)/len(ab_vec)) \r\n",
        "print('-------------------------')"
      ],
      "execution_count": null,
      "outputs": [
        {
          "output_type": "stream",
          "text": [
            "-------------------------\n"
          ],
          "name": "stdout"
        },
        {
          "output_type": "display_data",
          "data": {
            "text/plain": [
              "[0.9073498964803313, 0.984375, 0.8446428571428571, 0.9066964285714285]"
            ]
          },
          "metadata": {
            "tags": []
          }
        },
        {
          "output_type": "stream",
          "text": [
            "Promedio modelo mejor RandomForestClassifier: 0.9107660455486541\n",
            "-------------------------\n"
          ],
          "name": "stdout"
        }
      ]
    },
    {
      "cell_type": "markdown",
      "metadata": {
        "id": "N1JVP4SSUset"
      },
      "source": [
        "**Parámetros XGBOOST**"
      ]
    },
    {
      "cell_type": "code",
      "metadata": {
        "colab": {
          "base_uri": "https://localhost:8080/"
        },
        "id": "HRL0gu9vUu6S",
        "outputId": "2204da64-1e1d-4cfe-d401-c8a5761d82c2"
      },
      "source": [
        "%%time\r\n",
        "gb = Class_Fit(clf = XGBClassifier)\r\n",
        "param_grid = {\r\n",
        "             'objective':['binary:logistic'],\r\n",
        "             'n_estimators' : [500],\r\n",
        "              'eta':[0.03,0.003],    \r\n",
        "              'gamma':[0.03,0.003,5],\r\n",
        "              'max_depth':[5,20,3],\r\n",
        "              'min_child_weight':[0.5,5],\r\n",
        "              'alpha':[0.003,0.03],\r\n",
        "              'scale_pos_weight':[y_train[y_train==0].count()/y_train[y_train==1].count(),0.5],\r\n",
        "              'n_job':[-1],\r\n",
        "              'booster':['gblinear','gbtree'],  \r\n",
        "             }\r\n",
        "gb.grid_search(parameters = param_grid, Kfold = 10)\r\n",
        "gb.grid_fit(X = X_train, Y = y_train)"
      ],
      "execution_count": null,
      "outputs": [
        {
          "output_type": "stream",
          "text": [
            "CPU times: user 7min 52s, sys: 4.13 s, total: 7min 56s\n",
            "Wall time: 7min 57s\n"
          ],
          "name": "stdout"
        }
      ]
    },
    {
      "cell_type": "code",
      "metadata": {
        "colab": {
          "base_uri": "https://localhost:8080/"
        },
        "id": "25daJ6ZuU9T2",
        "outputId": "9a7e5031-f9de-402d-9593-6f745b34655b"
      },
      "source": [
        "print(\"Parámetros XGBClassifier:\",gb.grid.best_params_)\r\n",
        "mejor_xgb=gb.grid.best_estimator_"
      ],
      "execution_count": null,
      "outputs": [
        {
          "output_type": "stream",
          "text": [
            "Parámetros XGBClassifier: {'alpha': 0.003, 'booster': 'gbtree', 'eta': 0.03, 'gamma': 5, 'max_depth': 3, 'min_child_weight': 0.5, 'n_estimators': 500, 'n_job': -1, 'objective': 'binary:logistic', 'scale_pos_weight': 23.74074074074074}\n"
          ],
          "name": "stdout"
        }
      ]
    },
    {
      "cell_type": "code",
      "metadata": {
        "colab": {
          "base_uri": "https://localhost:8080/"
        },
        "id": "7OVUqqc1VHCH",
        "outputId": "30389a31-f1a3-494e-dcb3-95cf73cad679"
      },
      "source": [
        "print(\"_________________________________________\")\r\n",
        "print(\"Modelo mejor XGBClassifier\")\r\n",
        "eval_model(X_test,X_train,y_test,y_train,mejor_xgb)\r\n",
        "print(\"_________________________________________\")"
      ],
      "execution_count": null,
      "outputs": [
        {
          "output_type": "stream",
          "text": [
            "_________________________________________\n",
            "Modelo mejor XGBClassifier\n",
            "accuracy test: 0.9825783972125436\n",
            "accuracy train: 0.9940119760479041\n",
            "Balanced_accuracy test: 0.9248120300751879\n",
            "Balanced_accuracy train: 0.9968798751950079\n",
            "_________________________________________\n"
          ],
          "name": "stdout"
        }
      ]
    },
    {
      "cell_type": "code",
      "metadata": {
        "colab": {
          "base_uri": "https://localhost:8080/",
          "height": 90
        },
        "id": "iAF1QP2JVJqM",
        "outputId": "73f53efd-cf49-4021-e0e6-7882aeaf4cc0"
      },
      "source": [
        "ab_vec=validacion_cruzada(X_train,y_train, 4, mejor_xgb)\r\n",
        "\r\n",
        "print('-------------------------')\r\n",
        "display(ab_vec)\r\n",
        "print('Promedio modelo mejor XGBClassifier:', sum(ab_vec)/len(ab_vec)) \r\n",
        "print('-------------------------')"
      ],
      "execution_count": null,
      "outputs": [
        {
          "output_type": "stream",
          "text": [
            "-------------------------\n"
          ],
          "name": "stdout"
        },
        {
          "output_type": "display_data",
          "data": {
            "text/plain": [
              "[1.0, 0.7763392857142857, 0.8352678571428571, 0.9254464285714286]"
            ]
          },
          "metadata": {
            "tags": []
          }
        },
        {
          "output_type": "stream",
          "text": [
            "Promedio modelo mejor XGBClassifier: 0.8842633928571428\n",
            "-------------------------\n"
          ],
          "name": "stdout"
        }
      ]
    },
    {
      "cell_type": "code",
      "metadata": {
        "colab": {
          "base_uri": "https://localhost:8080/"
        },
        "id": "3SOgGamKRDMW",
        "outputId": "d258ff37-0a08-4acd-ecf2-a3332115c177"
      },
      "source": [
        "#mejor Modelo árbol\r\n",
        "param_arbol={'criterion': 'entropy', 'max_depth': 3,\r\n",
        "             'min_impurity_decrease': 0.025, 'min_samples_leaf': 5, 'min_samples_split': 2, 'splitter': 'best'}\r\n",
        "\r\n",
        "modelo_final_arbol=tree.DecisionTreeClassifier(**param_arbol)\r\n",
        "modelo_final_arbol.fit(X_train, y_train)\r\n",
        "\r\n",
        "param_rf={'class_weight': 'balanced_subsample', 'criterion': 'entropy',\r\n",
        "'max_depth': 10, 'max_features': 'sqrt', 'min_impurity_decrease': 0.025, 'min_samples_leaf': 11, 'min_samples_split': 10, 'n_estimators': 100}\r\n",
        "\r\n",
        "modelo_final_rf=RandomForestClassifier(**param_rf)\r\n",
        "modelo_final_rf.fit(X_train, y_train)\r\n",
        "\r\n",
        "param_xgb={'alpha': 0.003, 'booster': 'gbtree', 'eta': 0.03, 'gamma': 5, 'max_depth': 3,\r\n",
        "'min_child_weight': 0.5, 'n_estimators': 500, 'n_job': -1, 'objective': 'binary:logistic', 'scale_pos_weight': 23.74074074074074}\r\n",
        "\r\n",
        "modelo_final_xgb=XGBClassifier(**param_xgb)\r\n",
        "modelo_final_xgb.fit(X_train, y_train)"
      ],
      "execution_count": 173,
      "outputs": [
        {
          "output_type": "execute_result",
          "data": {
            "text/plain": [
              "XGBClassifier(alpha=0.003, base_score=0.5, booster='gbtree',\n",
              "              colsample_bylevel=1, colsample_bynode=1, colsample_bytree=1,\n",
              "              eta=0.03, gamma=5, learning_rate=0.1, max_delta_step=0,\n",
              "              max_depth=3, min_child_weight=0.5, missing=None, n_estimators=500,\n",
              "              n_job=-1, n_jobs=1, nthread=None, objective='binary:logistic',\n",
              "              random_state=0, reg_alpha=0, reg_lambda=1,\n",
              "              scale_pos_weight=23.74074074074074, seed=None, silent=None,\n",
              "              subsample=1, verbosity=1)"
            ]
          },
          "metadata": {
            "tags": []
          },
          "execution_count": 173
        }
      ]
    },
    {
      "cell_type": "code",
      "metadata": {
        "colab": {
          "base_uri": "https://localhost:8080/",
          "height": 490
        },
        "id": "N3f_TebPRkWD",
        "outputId": "0e6a5890-b432-46a9-be09-84fa1ca607bf"
      },
      "source": [
        "print(\"Modelo A\")\r\n",
        "eval_model(X_test,X_train,y_test,y_train,modelo_final_arbol)\r\n",
        "kflods = 4\r\n",
        "ab_vec=validacion_cruzada(X_train,y_train, kflods, modelo_final_arbol)\r\n",
        "display(ab_vec)\r\n",
        "print('Promedio modelo A:', sum(ab_vec)/len(ab_vec)) \r\n",
        "print(\"_________________________________________\")\r\n",
        "print(\"Modelo RF\")\r\n",
        "eval_model(X_test,X_train,y_test,y_train,modelo_final_rf)\r\n",
        "kflods = 4\r\n",
        "ab_vec=validacion_cruzada(X_train,y_train, kflods, modelo_final_rf)\r\n",
        "display(ab_vec)\r\n",
        "print('Promedio modelo RF:', sum(ab_vec)/len(ab_vec)) \r\n",
        "print(\"_________________________________________\")\r\n",
        "print(\"Modelo XGB\")\r\n",
        "eval_model(X_test,X_train,y_test,y_train,modelo_final_xgb)\r\n",
        "kflods = 4\r\n",
        "ab_vec=validacion_cruzada(X_train,y_train, kflods, modelo_final_xgb)\r\n",
        "display(ab_vec)\r\n",
        "print('Promedio modelo RF:', sum(ab_vec)/len(ab_vec)) "
      ],
      "execution_count": 174,
      "outputs": [
        {
          "output_type": "stream",
          "text": [
            "Modelo A\n",
            "accuracy test: 0.9860627177700348\n",
            "accuracy train: 0.9880239520958084\n",
            "Balanced_accuracy test: 0.9266917293233082\n",
            "Balanced_accuracy train: 0.9405442884382041\n"
          ],
          "name": "stdout"
        },
        {
          "output_type": "display_data",
          "data": {
            "text/plain": [
              "[1.0, 0.7825892857142858, 0.8383928571428572, 0.9254464285714286]"
            ]
          },
          "metadata": {
            "tags": []
          }
        },
        {
          "output_type": "stream",
          "text": [
            "Promedio modelo A: 0.8866071428571428\n",
            "_________________________________________\n",
            "Modelo RF\n",
            "accuracy test: 0.9790940766550522\n",
            "accuracy train: 0.9790419161676647\n",
            "Balanced_accuracy test: 0.9448621553884712\n",
            "Balanced_accuracy train: 0.9536025885479864\n"
          ],
          "name": "stdout"
        },
        {
          "output_type": "display_data",
          "data": {
            "text/plain": [
              "[0.9906832298136645,\n",
              " 0.9129464285714286,\n",
              " 0.8415178571428572,\n",
              " 0.9098214285714286]"
            ]
          },
          "metadata": {
            "tags": []
          }
        },
        {
          "output_type": "stream",
          "text": [
            "Promedio modelo RF: 0.9137422360248447\n",
            "_________________________________________\n",
            "Modelo XGB\n",
            "accuracy test: 0.9825783972125436\n",
            "accuracy train: 0.9940119760479041\n",
            "Balanced_accuracy test: 0.9248120300751879\n",
            "Balanced_accuracy train: 0.9968798751950079\n"
          ],
          "name": "stdout"
        },
        {
          "output_type": "display_data",
          "data": {
            "text/plain": [
              "[1.0, 0.7763392857142857, 0.8352678571428571, 0.9254464285714286]"
            ]
          },
          "metadata": {
            "tags": []
          }
        },
        {
          "output_type": "stream",
          "text": [
            "Promedio modelo RF: 0.8842633928571428\n"
          ],
          "name": "stdout"
        }
      ]
    },
    {
      "cell_type": "markdown",
      "metadata": {
        "id": "UHbHpGfKSLzf"
      },
      "source": [
        "**CURVA ROC ÁRBOL**"
      ]
    },
    {
      "cell_type": "code",
      "metadata": {
        "colab": {
          "base_uri": "https://localhost:8080/",
          "height": 1000
        },
        "id": "8AsucH6LSGEb",
        "outputId": "3765e82a-c607-4ffb-b25d-5efc383003cb"
      },
      "source": [
        "#Curva ROC\r\n",
        "\r\n",
        "from sklearn.metrics import confusion_matrix, roc_curve, roc_auc_score, auc\r\n",
        "plt.figure(figsize = (8,8))\r\n",
        "i=1\r\n",
        "y_pred_proba = modelo_final_arbol.predict_proba(X_test)[::,i]\r\n",
        "#y_pred_proba= modelo_final_rf.predict(X_test)\r\n",
        "# Elejimos punto de corte para encontrar la mayor area bajo la curva\r\n",
        "#y_pred_proba = [1 if x >= 0.49 else 0 for x in y_pred_proba]\r\n",
        "fpr, tpr, _ = roc_curve(y_test,  y_pred_proba, pos_label=1)\r\n",
        "auc = roc_auc_score(y_test, y_pred_proba)\r\n",
        "plt.plot(fpr,tpr, lw=2,label=f\"Clase {i}, auc=\"+str(auc))\r\n",
        "plt.plot([0, 1], [0, 1], color='navy', lw=2, linestyle='--')\r\n",
        "plt.legend(loc=4)\r\n",
        "plt.xlabel('False Positive Rate')\r\n",
        "plt.ylabel('True Positive Rate')\r\n",
        "plt.title('Area bajo la curva ROC para el modelo XGBoost')\r\n",
        "plt.show()\r\n",
        "\r\n",
        "\r\n",
        "#-----\r\n",
        "\r\n",
        "\r\n",
        "import numpy as np\r\n",
        "class_names = [i for i in range(2)]\r\n",
        "print(\"clases:\",class_names)\r\n",
        "\r\n",
        "y_pred=modelo_final_arbol.predict(X_test)\r\n",
        "\r\n",
        "\r\n",
        "cnf_matrix = confusion_matrix(y_test,y_pred ) \r\n",
        "np.set_printoptions(precision=2)\r\n",
        "plt.figure(figsize = (20,8))\r\n",
        "plot_confusion_matrix(cnf_matrix, classes=class_names, normalize = False, title='Matriz de Confusión test Modelo4')\r\n",
        "\r\n",
        "\r\n",
        "tn, fp, fn, tp = confusion_matrix(y_test,modelo_final_arbol.predict(X_test)).ravel()\r\n",
        "\r\n",
        "print(\"verdaderos positivos:\",tp)\r\n",
        "print(\"verdaderos negativos:\",tn)\r\n",
        "print(\"falsos positivos:\",fp)\r\n",
        "print(\"falsos negativos:\",fn)\r\n",
        "\r\n",
        "accuracy=(tp+tn)/(tp+tn+fp+fn)\r\n",
        "print(\"accuracy:\",accuracy)\r\n",
        "accuracy_balanced=((tn/(tn+fp))+(tp/(tp+fn)))/2\r\n",
        "print(\"accuracy balanced:\",accuracy_balanced)"
      ],
      "execution_count": 180,
      "outputs": [
        {
          "output_type": "display_data",
          "data": {
            "image/png": "[encoded data removed]",
            "text/plain": [
              "<Figure size 576x576 with 1 Axes>"
            ]
          },
          "metadata": {
            "tags": [],
            "needs_background": "light"
          }
        },
        {
          "output_type": "stream",
          "text": [
            "clases: [0, 1]\n",
            "Confusion matrix, without normalization\n",
            "verdaderos positivos: 18\n",
            "verdaderos negativos: 265\n",
            "falsos positivos: 1\n",
            "falsos negativos: 3\n",
            "accuracy: 0.9860627177700348\n",
            "accuracy balanced: 0.9266917293233082\n"
          ],
          "name": "stdout"
        },
        {
          "output_type": "display_data",
          "data": {
            "image/png": "[encoded data removed]",
            "text/plain": [
              "<Figure size 1440x576 with 2 Axes>"
            ]
          },
          "metadata": {
            "tags": [],
            "needs_background": "light"
          }
        }
      ]
    },
    {
      "cell_type": "markdown",
      "metadata": {
        "id": "DRNYgwfhSsqz"
      },
      "source": [
        "**CURVA ROC RANDOMFOREST**"
      ]
    },
    {
      "cell_type": "code",
      "metadata": {
        "colab": {
          "base_uri": "https://localhost:8080/",
          "height": 1000
        },
        "id": "hdZcSrlZSryI",
        "outputId": "fbcfbf2e-7776-4703-a431-804faf205a31"
      },
      "source": [
        "plt.figure(figsize = (8,8))\r\n",
        "i=1\r\n",
        "y_pred_proba = modelo_final_rf.predict_proba(X_test)[::,i]\r\n",
        "#y_pred_proba= modelo_final_rf.predict(X_test)\r\n",
        "# Elejimos punto de corte para encontrar la mayor area bajo la curva\r\n",
        "#y_pred_proba = [1 if x >= 0.49 else 0 for x in y_pred_proba]\r\n",
        "fpr, tpr, _ = roc_curve(y_test,  y_pred_proba, pos_label=1)\r\n",
        "auc = roc_auc_score(y_test, y_pred_proba)\r\n",
        "plt.plot(fpr,tpr, lw=2,label=f\"Clase {i}, auc=\"+str(auc))\r\n",
        "plt.plot([0, 1], [0, 1], color='navy', lw=2, linestyle='--')\r\n",
        "plt.legend(loc=4)\r\n",
        "plt.xlabel('False Positive Rate')\r\n",
        "plt.ylabel('True Positive Rate')\r\n",
        "plt.title('Area bajo la curva ROC para el modelo XGBoost')\r\n",
        "plt.show()\r\n",
        "\r\n",
        "\r\n",
        "\r\n",
        "\r\n",
        "\r\n",
        "import numpy as np\r\n",
        "class_names = [i for i in range(2)]\r\n",
        "print(\"clases:\",class_names)\r\n",
        "\r\n",
        "y_pred=modelo_final_rf.predict(X_test)\r\n",
        "\r\n",
        "\r\n",
        "cnf_matrix = confusion_matrix(y_test,y_pred ) \r\n",
        "np.set_printoptions(precision=2)\r\n",
        "plt.figure(figsize = (20,8))\r\n",
        "plot_confusion_matrix(cnf_matrix, classes=class_names, normalize = False, title='Matriz de Confusión test')\r\n",
        "\r\n",
        "\r\n",
        "tn, fp, fn, tp = confusion_matrix(y_test,modelo_final_rf.predict(X_test)).ravel()\r\n",
        "\r\n",
        "print(\"verdaderos positivos:\",tp)\r\n",
        "print(\"verdaderos negativos:\",tn)\r\n",
        "print(\"falsos positivos:\",fp)\r\n",
        "print(\"falsos negativos:\",fn)\r\n",
        "\r\n",
        "accuracy=(tp+tn)/(tp+tn+fp+fn)\r\n",
        "print(\"accuracy:\",accuracy)\r\n",
        "accuracy_balanced=((tn/(tn+fp))+(tp/(tp+fn)))/2\r\n",
        "print(\"accuracy balanced:\",accuracy_balanced)"
      ],
      "execution_count": 185,
      "outputs": [
        {
          "output_type": "display_data",
          "data": {
            "image/png": "[encoded data removed]",
            "text/plain": [
              "<Figure size 576x576 with 1 Axes>"
            ]
          },
          "metadata": {
            "tags": [],
            "needs_background": "light"
          }
        },
        {
          "output_type": "stream",
          "text": [
            "clases: [0, 1]\n",
            "Confusion matrix, without normalization\n",
            "verdaderos positivos: 18\n",
            "verdaderos negativos: 257\n",
            "falsos positivos: 9\n",
            "falsos negativos: 3\n",
            "accuracy: 0.9581881533101045\n",
            "accuracy balanced: 0.9116541353383458\n"
          ],
          "name": "stdout"
        },
        {
          "output_type": "display_data",
          "data": {
            "image/png": "[encoded data removed]",
            "text/plain": [
              "<Figure size 1440x576 with 2 Axes>"
            ]
          },
          "metadata": {
            "tags": [],
            "needs_background": "light"
          }
        }
      ]
    },
    {
      "cell_type": "markdown",
      "metadata": {
        "id": "wjpN7Z5zS8jS"
      },
      "source": [
        "**CURVA ROC XGB**"
      ]
    },
    {
      "cell_type": "code",
      "metadata": {
        "colab": {
          "base_uri": "https://localhost:8080/",
          "height": 1000
        },
        "id": "ivCKEw6nS7vs",
        "outputId": "454b6883-39ee-4cdc-91ad-e38de5371f09"
      },
      "source": [
        "plt.figure(figsize = (8,8))\r\n",
        "i=1\r\n",
        "y_pred_proba = modelo_final_xgb.predict_proba(X_test)[::,i]\r\n",
        "#y_pred_proba= modelo_final_rf.predict(X_test)\r\n",
        "# Elejimos punto de corte para encontrar la mayor area bajo la curva\r\n",
        "y_pred_proba = [1 if x >= 0.4 else 0 for x in y_pred_proba]\r\n",
        "fpr, tpr, _ = roc_curve(y_test,  y_pred_proba, pos_label=1)\r\n",
        "auc = roc_auc_score(y_test, y_pred_proba)\r\n",
        "plt.plot(fpr,tpr, lw=2,label=f\"Clase {i}, auc=\"+str(auc))\r\n",
        "plt.plot([0, 1], [0, 1], color='navy', lw=2, linestyle='--')\r\n",
        "plt.legend(loc=4)\r\n",
        "plt.xlabel('False Positive Rate')\r\n",
        "plt.ylabel('True Positive Rate')\r\n",
        "plt.title('Area bajo la curva ROC para el modelo XGBoost')\r\n",
        "plt.show()\r\n",
        "\r\n",
        "\r\n",
        "\r\n",
        "import numpy as np\r\n",
        "class_names = [i for i in range(2)]\r\n",
        "print(\"clases:\",class_names)\r\n",
        "\r\n",
        "y_pred=modelo_final_xgb.predict(X_test)\r\n",
        "\r\n",
        "\r\n",
        "cnf_matrix = confusion_matrix(y_test,y_pred ) \r\n",
        "np.set_printoptions(precision=2)\r\n",
        "plt.figure(figsize = (20,8))\r\n",
        "plot_confusion_matrix(cnf_matrix, classes=class_names, normalize = False, title='Matriz de Confusión test')\r\n",
        "\r\n",
        "\r\n",
        "tn, fp, fn, tp = confusion_matrix(y_test,modelo_final_xgb.predict(X_test)).ravel()\r\n",
        "\r\n",
        "print(\"verdaderos positivos:\",tp)\r\n",
        "print(\"verdaderos negativos:\",tn)\r\n",
        "print(\"falsos positivos:\",fp)\r\n",
        "print(\"falsos negativos:\",fn)\r\n",
        "\r\n",
        "accuracy=(tp+tn)/(tp+tn+fp+fn)\r\n",
        "print(\"accuracy:\",accuracy)\r\n",
        "accuracy_balanced=((tn/(tn+fp))+(tp/(tp+fn)))/2\r\n",
        "print(\"accuracy balanced:\",accuracy_balanced)"
      ],
      "execution_count": 222,
      "outputs": [
        {
          "output_type": "display_data",
          "data": {
            "image/png": "[encoded data removed]",
            "text/plain": [
              "<Figure size 576x576 with 1 Axes>"
            ]
          },
          "metadata": {
            "tags": [],
            "needs_background": "light"
          }
        },
        {
          "output_type": "stream",
          "text": [
            "clases: [0, 1]\n",
            "Confusion matrix, without normalization\n",
            "verdaderos positivos: 19\n",
            "verdaderos negativos: 263\n",
            "falsos positivos: 3\n",
            "falsos negativos: 2\n",
            "accuracy: 0.9825783972125436\n",
            "accuracy balanced: 0.9467418546365916\n"
          ],
          "name": "stdout"
        },
        {
          "output_type": "display_data",
          "data": {
            "image/png": "[encoded data removed]",
            "text/plain": [
              "<Figure size 1440x576 with 2 Axes>"
            ]
          },
          "metadata": {
            "tags": [],
            "needs_background": "light"
          }
        }
      ]
    },
    {
      "cell_type": "markdown",
      "metadata": {
        "id": "hMXYPhA9V2nM"
      },
      "source": [
        "**9)** ¿Cuál de los 3 modelos generados es el mejor para predecir? Modelo 1"
      ]
    },
    {
      "cell_type": "markdown",
      "metadata": {
        "id": "puuS29A1WSD9"
      },
      "source": [
        "**10)** ¿Cuál de los 3 modelos generados consideran que es Funes el memorioso?  entre 2 y 3"
      ]
    },
    {
      "cell_type": "markdown",
      "metadata": {
        "id": "FmYda0IzWxQL"
      },
      "source": [
        "**11)** Selecciones el 25% de los individuos en el ambiente de validación de acuerdo a la siguiente lógica. Entregue los resultados indicados: Al azar e indique la cantidad de individuos que están enfermos. Utilizando el mejor modelo desarrollado en el punto e indique la cantidad de individuos que están enfermos."
      ]
    },
    {
      "cell_type": "markdown",
      "metadata": {
        "id": "GHzp7PpWW-sY"
      },
      "source": [
        "cantidad de individuos Enfermos al azar"
      ]
    },
    {
      "cell_type": "code",
      "metadata": {
        "colab": {
          "base_uri": "https://localhost:8080/"
        },
        "id": "JXBxrdYeW1JL",
        "outputId": "4534ac9f-0b78-4756-982b-6c62ed787130"
      },
      "source": [
        "n=len(y_test)\n",
        "\n",
        "# n ---->100\n",
        "# ?----->25\n",
        "n_25=(n*10)/100\n",
        "# \n",
        "print(\"Total datos test:\",n)\n",
        "print(\"25% de los individuos en el ambiente de test:\",int(n_25))\n",
        "y_test_25=y_test.sample(int(n_25))\n",
        "print(\"Cantidad de enfermos alzar 25% test:\",y_test_25[y_test_25==1].count())\n",
        "#y_test.sample(n=25)"
      ],
      "execution_count": 198,
      "outputs": [
        {
          "output_type": "stream",
          "text": [
            "Total datos test: 287\n",
            "25% de los individuos en el ambiente de test: 28\n",
            "Cantidad de enfermos alzar 25% test: 4\n"
          ],
          "name": "stdout"
        }
      ]
    },
    {
      "cell_type": "markdown",
      "metadata": {
        "id": "86ntmbhHXdtB"
      },
      "source": [
        "cantidad de individuos Enfermos usando el Modelo"
      ]
    },
    {
      "cell_type": "code",
      "metadata": {
        "colab": {
          "base_uri": "https://localhost:8080/",
          "height": 968
        },
        "id": "0WwXUJUWXdBH",
        "outputId": "d5cfc437-da69-4c9c-fc49-8976dd3b886e"
      },
      "source": [
        "probs_test = modelo_final_xgb.predict_proba(X_test)    \n",
        "y_pred_test= modelo_final_xgb.predict(X_test)    \n",
        "\n",
        "data_set_test=X_test.copy()\n",
        "\n",
        "data_set_test['predicho_prob_1']=probs_test[:,1]\n",
        "data_set_test['predicho_prob_0']=probs_test[:,0]\n",
        "data_set_test['predicho']=y_pred_test\n",
        "data_set_test['real']=y_test\n",
        "\n",
        "data_set_test.sort_values(['predicho_prob_1'],ascending=[False]).head(30)"
      ],
      "execution_count": 199,
      "outputs": [
        {
          "output_type": "execute_result",
          "data": {
            "text/html": [
              "<div>\n",
              "<style scoped>\n",
              "    .dataframe tbody tr th:only-of-type {\n",
              "        vertical-align: middle;\n",
              "    }\n",
              "\n",
              "    .dataframe tbody tr th {\n",
              "        vertical-align: top;\n",
              "    }\n",
              "\n",
              "    .dataframe thead th {\n",
              "        text-align: right;\n",
              "    }\n",
              "</style>\n",
              "<table border=\"1\" class=\"dataframe\">\n",
              "  <thead>\n",
              "    <tr style=\"text-align: right;\">\n",
              "      <th></th>\n",
              "      <th>caso</th>\n",
              "      <th>edad</th>\n",
              "      <th>genero</th>\n",
              "      <th>en_medicacion_tiroxina</th>\n",
              "      <th>consulta_sobre_tiroxina</th>\n",
              "      <th>en_medicación_antitiroidea</th>\n",
              "      <th>depresion</th>\n",
              "      <th>embarazada</th>\n",
              "      <th>cirugía_de_tiroides</th>\n",
              "      <th>I131_tratamineto</th>\n",
              "      <th>consulta_hipotiroidea</th>\n",
              "      <th>consulta_hipertiroidea</th>\n",
              "      <th>litio</th>\n",
              "      <th>enfermedad_endocrinologica_bocio</th>\n",
              "      <th>tumor</th>\n",
              "      <th>hipopituitario</th>\n",
              "      <th>transtornos</th>\n",
              "      <th>nivel_TSH</th>\n",
              "      <th>nivel_T3</th>\n",
              "      <th>nivel_TT4</th>\n",
              "      <th>nivel_T4U</th>\n",
              "      <th>nivel_FTI</th>\n",
              "      <th>fuente_de_referencia</th>\n",
              "      <th>predicho_prob_1</th>\n",
              "      <th>predicho_prob_0</th>\n",
              "      <th>predicho</th>\n",
              "      <th>real</th>\n",
              "    </tr>\n",
              "  </thead>\n",
              "  <tbody>\n",
              "    <tr>\n",
              "      <th>934</th>\n",
              "      <td>562</td>\n",
              "      <td>74</td>\n",
              "      <td>0</td>\n",
              "      <td>0</td>\n",
              "      <td>0</td>\n",
              "      <td>0</td>\n",
              "      <td>0</td>\n",
              "      <td>0</td>\n",
              "      <td>0</td>\n",
              "      <td>0</td>\n",
              "      <td>0</td>\n",
              "      <td>0</td>\n",
              "      <td>0</td>\n",
              "      <td>0</td>\n",
              "      <td>0</td>\n",
              "      <td>0</td>\n",
              "      <td>0</td>\n",
              "      <td>1.600</td>\n",
              "      <td>0.7</td>\n",
              "      <td>82.0</td>\n",
              "      <td>0.88</td>\n",
              "      <td>93.0</td>\n",
              "      <td>4</td>\n",
              "      <td>0.976120</td>\n",
              "      <td>0.023880</td>\n",
              "      <td>1</td>\n",
              "      <td>1</td>\n",
              "    </tr>\n",
              "    <tr>\n",
              "      <th>946</th>\n",
              "      <td>733</td>\n",
              "      <td>89</td>\n",
              "      <td>1</td>\n",
              "      <td>0</td>\n",
              "      <td>0</td>\n",
              "      <td>0</td>\n",
              "      <td>0</td>\n",
              "      <td>0</td>\n",
              "      <td>0</td>\n",
              "      <td>0</td>\n",
              "      <td>0</td>\n",
              "      <td>0</td>\n",
              "      <td>0</td>\n",
              "      <td>0</td>\n",
              "      <td>0</td>\n",
              "      <td>0</td>\n",
              "      <td>0</td>\n",
              "      <td>0.800</td>\n",
              "      <td>0.6</td>\n",
              "      <td>101.0</td>\n",
              "      <td>0.73</td>\n",
              "      <td>138.0</td>\n",
              "      <td>4</td>\n",
              "      <td>0.976120</td>\n",
              "      <td>0.023880</td>\n",
              "      <td>1</td>\n",
              "      <td>1</td>\n",
              "    </tr>\n",
              "    <tr>\n",
              "      <th>927</th>\n",
              "      <td>392</td>\n",
              "      <td>63</td>\n",
              "      <td>0</td>\n",
              "      <td>0</td>\n",
              "      <td>0</td>\n",
              "      <td>0</td>\n",
              "      <td>0</td>\n",
              "      <td>0</td>\n",
              "      <td>0</td>\n",
              "      <td>0</td>\n",
              "      <td>1</td>\n",
              "      <td>0</td>\n",
              "      <td>0</td>\n",
              "      <td>0</td>\n",
              "      <td>0</td>\n",
              "      <td>0</td>\n",
              "      <td>0</td>\n",
              "      <td>6.500</td>\n",
              "      <td>0.7</td>\n",
              "      <td>86.0</td>\n",
              "      <td>0.72</td>\n",
              "      <td>120.0</td>\n",
              "      <td>4</td>\n",
              "      <td>0.976120</td>\n",
              "      <td>0.023880</td>\n",
              "      <td>1</td>\n",
              "      <td>1</td>\n",
              "    </tr>\n",
              "    <tr>\n",
              "      <th>940</th>\n",
              "      <td>568</td>\n",
              "      <td>83</td>\n",
              "      <td>0</td>\n",
              "      <td>0</td>\n",
              "      <td>0</td>\n",
              "      <td>0</td>\n",
              "      <td>0</td>\n",
              "      <td>0</td>\n",
              "      <td>0</td>\n",
              "      <td>0</td>\n",
              "      <td>1</td>\n",
              "      <td>0</td>\n",
              "      <td>0</td>\n",
              "      <td>0</td>\n",
              "      <td>0</td>\n",
              "      <td>0</td>\n",
              "      <td>0</td>\n",
              "      <td>2.200</td>\n",
              "      <td>0.9</td>\n",
              "      <td>69.0</td>\n",
              "      <td>0.74</td>\n",
              "      <td>93.0</td>\n",
              "      <td>4</td>\n",
              "      <td>0.976120</td>\n",
              "      <td>0.023880</td>\n",
              "      <td>1</td>\n",
              "      <td>1</td>\n",
              "    </tr>\n",
              "    <tr>\n",
              "      <th>939</th>\n",
              "      <td>567</td>\n",
              "      <td>19</td>\n",
              "      <td>0</td>\n",
              "      <td>0</td>\n",
              "      <td>0</td>\n",
              "      <td>0</td>\n",
              "      <td>0</td>\n",
              "      <td>0</td>\n",
              "      <td>0</td>\n",
              "      <td>0</td>\n",
              "      <td>1</td>\n",
              "      <td>0</td>\n",
              "      <td>0</td>\n",
              "      <td>0</td>\n",
              "      <td>0</td>\n",
              "      <td>0</td>\n",
              "      <td>0</td>\n",
              "      <td>3.700</td>\n",
              "      <td>1.1</td>\n",
              "      <td>126.0</td>\n",
              "      <td>0.91</td>\n",
              "      <td>138.0</td>\n",
              "      <td>4</td>\n",
              "      <td>0.976120</td>\n",
              "      <td>0.023880</td>\n",
              "      <td>1</td>\n",
              "      <td>1</td>\n",
              "    </tr>\n",
              "    <tr>\n",
              "      <th>924</th>\n",
              "      <td>321</td>\n",
              "      <td>72</td>\n",
              "      <td>0</td>\n",
              "      <td>0</td>\n",
              "      <td>0</td>\n",
              "      <td>0</td>\n",
              "      <td>1</td>\n",
              "      <td>0</td>\n",
              "      <td>0</td>\n",
              "      <td>0</td>\n",
              "      <td>0</td>\n",
              "      <td>0</td>\n",
              "      <td>0</td>\n",
              "      <td>0</td>\n",
              "      <td>0</td>\n",
              "      <td>0</td>\n",
              "      <td>0</td>\n",
              "      <td>1.300</td>\n",
              "      <td>1.0</td>\n",
              "      <td>101.0</td>\n",
              "      <td>0.80</td>\n",
              "      <td>127.0</td>\n",
              "      <td>4</td>\n",
              "      <td>0.976120</td>\n",
              "      <td>0.023880</td>\n",
              "      <td>1</td>\n",
              "      <td>1</td>\n",
              "    </tr>\n",
              "    <tr>\n",
              "      <th>942</th>\n",
              "      <td>649</td>\n",
              "      <td>62</td>\n",
              "      <td>0</td>\n",
              "      <td>0</td>\n",
              "      <td>0</td>\n",
              "      <td>0</td>\n",
              "      <td>0</td>\n",
              "      <td>0</td>\n",
              "      <td>0</td>\n",
              "      <td>0</td>\n",
              "      <td>0</td>\n",
              "      <td>1</td>\n",
              "      <td>0</td>\n",
              "      <td>0</td>\n",
              "      <td>0</td>\n",
              "      <td>0</td>\n",
              "      <td>0</td>\n",
              "      <td>0.200</td>\n",
              "      <td>0.8</td>\n",
              "      <td>124.0</td>\n",
              "      <td>0.90</td>\n",
              "      <td>137.0</td>\n",
              "      <td>4</td>\n",
              "      <td>0.976120</td>\n",
              "      <td>0.023880</td>\n",
              "      <td>1</td>\n",
              "      <td>1</td>\n",
              "    </tr>\n",
              "    <tr>\n",
              "      <th>951</th>\n",
              "      <td>824</td>\n",
              "      <td>85</td>\n",
              "      <td>1</td>\n",
              "      <td>0</td>\n",
              "      <td>0</td>\n",
              "      <td>0</td>\n",
              "      <td>0</td>\n",
              "      <td>0</td>\n",
              "      <td>0</td>\n",
              "      <td>0</td>\n",
              "      <td>0</td>\n",
              "      <td>0</td>\n",
              "      <td>0</td>\n",
              "      <td>0</td>\n",
              "      <td>0</td>\n",
              "      <td>0</td>\n",
              "      <td>0</td>\n",
              "      <td>0.250</td>\n",
              "      <td>1.1</td>\n",
              "      <td>132.0</td>\n",
              "      <td>0.85</td>\n",
              "      <td>154.0</td>\n",
              "      <td>4</td>\n",
              "      <td>0.976120</td>\n",
              "      <td>0.023880</td>\n",
              "      <td>1</td>\n",
              "      <td>1</td>\n",
              "    </tr>\n",
              "    <tr>\n",
              "      <th>909</th>\n",
              "      <td>76</td>\n",
              "      <td>80</td>\n",
              "      <td>1</td>\n",
              "      <td>0</td>\n",
              "      <td>0</td>\n",
              "      <td>0</td>\n",
              "      <td>0</td>\n",
              "      <td>0</td>\n",
              "      <td>0</td>\n",
              "      <td>0</td>\n",
              "      <td>0</td>\n",
              "      <td>0</td>\n",
              "      <td>0</td>\n",
              "      <td>0</td>\n",
              "      <td>0</td>\n",
              "      <td>0</td>\n",
              "      <td>0</td>\n",
              "      <td>1.400</td>\n",
              "      <td>0.8</td>\n",
              "      <td>105.0</td>\n",
              "      <td>0.88</td>\n",
              "      <td>120.0</td>\n",
              "      <td>4</td>\n",
              "      <td>0.976120</td>\n",
              "      <td>0.023880</td>\n",
              "      <td>1</td>\n",
              "      <td>1</td>\n",
              "    </tr>\n",
              "    <tr>\n",
              "      <th>911</th>\n",
              "      <td>78</td>\n",
              "      <td>48</td>\n",
              "      <td>0</td>\n",
              "      <td>0</td>\n",
              "      <td>0</td>\n",
              "      <td>0</td>\n",
              "      <td>1</td>\n",
              "      <td>0</td>\n",
              "      <td>0</td>\n",
              "      <td>0</td>\n",
              "      <td>0</td>\n",
              "      <td>0</td>\n",
              "      <td>0</td>\n",
              "      <td>0</td>\n",
              "      <td>0</td>\n",
              "      <td>0</td>\n",
              "      <td>0</td>\n",
              "      <td>1.600</td>\n",
              "      <td>1.0</td>\n",
              "      <td>71.0</td>\n",
              "      <td>0.81</td>\n",
              "      <td>88.0</td>\n",
              "      <td>3</td>\n",
              "      <td>0.976120</td>\n",
              "      <td>0.023880</td>\n",
              "      <td>1</td>\n",
              "      <td>1</td>\n",
              "    </tr>\n",
              "    <tr>\n",
              "      <th>913</th>\n",
              "      <td>168</td>\n",
              "      <td>75</td>\n",
              "      <td>1</td>\n",
              "      <td>0</td>\n",
              "      <td>0</td>\n",
              "      <td>0</td>\n",
              "      <td>0</td>\n",
              "      <td>0</td>\n",
              "      <td>0</td>\n",
              "      <td>0</td>\n",
              "      <td>0</td>\n",
              "      <td>0</td>\n",
              "      <td>0</td>\n",
              "      <td>0</td>\n",
              "      <td>0</td>\n",
              "      <td>0</td>\n",
              "      <td>0</td>\n",
              "      <td>2.400</td>\n",
              "      <td>0.2</td>\n",
              "      <td>78.0</td>\n",
              "      <td>0.56</td>\n",
              "      <td>139.0</td>\n",
              "      <td>4</td>\n",
              "      <td>0.976120</td>\n",
              "      <td>0.023880</td>\n",
              "      <td>1</td>\n",
              "      <td>1</td>\n",
              "    </tr>\n",
              "    <tr>\n",
              "      <th>932</th>\n",
              "      <td>463</td>\n",
              "      <td>62</td>\n",
              "      <td>1</td>\n",
              "      <td>0</td>\n",
              "      <td>0</td>\n",
              "      <td>0</td>\n",
              "      <td>1</td>\n",
              "      <td>0</td>\n",
              "      <td>0</td>\n",
              "      <td>0</td>\n",
              "      <td>1</td>\n",
              "      <td>0</td>\n",
              "      <td>0</td>\n",
              "      <td>0</td>\n",
              "      <td>0</td>\n",
              "      <td>0</td>\n",
              "      <td>1</td>\n",
              "      <td>13.000</td>\n",
              "      <td>0.8</td>\n",
              "      <td>83.0</td>\n",
              "      <td>0.81</td>\n",
              "      <td>103.0</td>\n",
              "      <td>2</td>\n",
              "      <td>0.976120</td>\n",
              "      <td>0.023880</td>\n",
              "      <td>1</td>\n",
              "      <td>1</td>\n",
              "    </tr>\n",
              "    <tr>\n",
              "      <th>928</th>\n",
              "      <td>393</td>\n",
              "      <td>80</td>\n",
              "      <td>0</td>\n",
              "      <td>0</td>\n",
              "      <td>0</td>\n",
              "      <td>0</td>\n",
              "      <td>0</td>\n",
              "      <td>0</td>\n",
              "      <td>0</td>\n",
              "      <td>0</td>\n",
              "      <td>0</td>\n",
              "      <td>0</td>\n",
              "      <td>0</td>\n",
              "      <td>0</td>\n",
              "      <td>0</td>\n",
              "      <td>0</td>\n",
              "      <td>0</td>\n",
              "      <td>1.700</td>\n",
              "      <td>0.8</td>\n",
              "      <td>101.0</td>\n",
              "      <td>0.81</td>\n",
              "      <td>125.0</td>\n",
              "      <td>4</td>\n",
              "      <td>0.976120</td>\n",
              "      <td>0.023880</td>\n",
              "      <td>1</td>\n",
              "      <td>1</td>\n",
              "    </tr>\n",
              "    <tr>\n",
              "      <th>920</th>\n",
              "      <td>247</td>\n",
              "      <td>85</td>\n",
              "      <td>0</td>\n",
              "      <td>0</td>\n",
              "      <td>0</td>\n",
              "      <td>0</td>\n",
              "      <td>0</td>\n",
              "      <td>0</td>\n",
              "      <td>0</td>\n",
              "      <td>0</td>\n",
              "      <td>0</td>\n",
              "      <td>0</td>\n",
              "      <td>0</td>\n",
              "      <td>0</td>\n",
              "      <td>0</td>\n",
              "      <td>0</td>\n",
              "      <td>0</td>\n",
              "      <td>1.300</td>\n",
              "      <td>0.9</td>\n",
              "      <td>111.0</td>\n",
              "      <td>1.04</td>\n",
              "      <td>107.0</td>\n",
              "      <td>4</td>\n",
              "      <td>0.968399</td>\n",
              "      <td>0.031601</td>\n",
              "      <td>1</td>\n",
              "      <td>1</td>\n",
              "    </tr>\n",
              "    <tr>\n",
              "      <th>937</th>\n",
              "      <td>565</td>\n",
              "      <td>75</td>\n",
              "      <td>0</td>\n",
              "      <td>0</td>\n",
              "      <td>0</td>\n",
              "      <td>0</td>\n",
              "      <td>0</td>\n",
              "      <td>0</td>\n",
              "      <td>0</td>\n",
              "      <td>0</td>\n",
              "      <td>0</td>\n",
              "      <td>0</td>\n",
              "      <td>0</td>\n",
              "      <td>0</td>\n",
              "      <td>0</td>\n",
              "      <td>0</td>\n",
              "      <td>0</td>\n",
              "      <td>4.500</td>\n",
              "      <td>1.1</td>\n",
              "      <td>132.0</td>\n",
              "      <td>1.01</td>\n",
              "      <td>131.0</td>\n",
              "      <td>4</td>\n",
              "      <td>0.968399</td>\n",
              "      <td>0.031601</td>\n",
              "      <td>1</td>\n",
              "      <td>1</td>\n",
              "    </tr>\n",
              "    <tr>\n",
              "      <th>944</th>\n",
              "      <td>651</td>\n",
              "      <td>81</td>\n",
              "      <td>1</td>\n",
              "      <td>0</td>\n",
              "      <td>0</td>\n",
              "      <td>0</td>\n",
              "      <td>0</td>\n",
              "      <td>0</td>\n",
              "      <td>0</td>\n",
              "      <td>0</td>\n",
              "      <td>0</td>\n",
              "      <td>0</td>\n",
              "      <td>0</td>\n",
              "      <td>0</td>\n",
              "      <td>0</td>\n",
              "      <td>0</td>\n",
              "      <td>0</td>\n",
              "      <td>1.900</td>\n",
              "      <td>0.3</td>\n",
              "      <td>102.0</td>\n",
              "      <td>0.96</td>\n",
              "      <td>106.0</td>\n",
              "      <td>4</td>\n",
              "      <td>0.968399</td>\n",
              "      <td>0.031601</td>\n",
              "      <td>1</td>\n",
              "      <td>1</td>\n",
              "    </tr>\n",
              "    <tr>\n",
              "      <th>917</th>\n",
              "      <td>172</td>\n",
              "      <td>73</td>\n",
              "      <td>1</td>\n",
              "      <td>1</td>\n",
              "      <td>0</td>\n",
              "      <td>0</td>\n",
              "      <td>0</td>\n",
              "      <td>0</td>\n",
              "      <td>0</td>\n",
              "      <td>0</td>\n",
              "      <td>0</td>\n",
              "      <td>0</td>\n",
              "      <td>0</td>\n",
              "      <td>0</td>\n",
              "      <td>0</td>\n",
              "      <td>0</td>\n",
              "      <td>0</td>\n",
              "      <td>1.400</td>\n",
              "      <td>0.8</td>\n",
              "      <td>61.0</td>\n",
              "      <td>0.49</td>\n",
              "      <td>124.0</td>\n",
              "      <td>5</td>\n",
              "      <td>0.955912</td>\n",
              "      <td>0.044088</td>\n",
              "      <td>1</td>\n",
              "      <td>1</td>\n",
              "    </tr>\n",
              "    <tr>\n",
              "      <th>241</th>\n",
              "      <td>266</td>\n",
              "      <td>63</td>\n",
              "      <td>1</td>\n",
              "      <td>0</td>\n",
              "      <td>0</td>\n",
              "      <td>0</td>\n",
              "      <td>0</td>\n",
              "      <td>0</td>\n",
              "      <td>0</td>\n",
              "      <td>0</td>\n",
              "      <td>0</td>\n",
              "      <td>0</td>\n",
              "      <td>0</td>\n",
              "      <td>0</td>\n",
              "      <td>0</td>\n",
              "      <td>0</td>\n",
              "      <td>0</td>\n",
              "      <td>0.300</td>\n",
              "      <td>0.8</td>\n",
              "      <td>74.0</td>\n",
              "      <td>0.85</td>\n",
              "      <td>87.0</td>\n",
              "      <td>5</td>\n",
              "      <td>0.955912</td>\n",
              "      <td>0.044088</td>\n",
              "      <td>1</td>\n",
              "      <td>0</td>\n",
              "    </tr>\n",
              "    <tr>\n",
              "      <th>950</th>\n",
              "      <td>822</td>\n",
              "      <td>70</td>\n",
              "      <td>1</td>\n",
              "      <td>0</td>\n",
              "      <td>0</td>\n",
              "      <td>0</td>\n",
              "      <td>0</td>\n",
              "      <td>0</td>\n",
              "      <td>0</td>\n",
              "      <td>0</td>\n",
              "      <td>0</td>\n",
              "      <td>0</td>\n",
              "      <td>0</td>\n",
              "      <td>0</td>\n",
              "      <td>0</td>\n",
              "      <td>0</td>\n",
              "      <td>0</td>\n",
              "      <td>3.600</td>\n",
              "      <td>1.0</td>\n",
              "      <td>60.0</td>\n",
              "      <td>0.88</td>\n",
              "      <td>68.0</td>\n",
              "      <td>4</td>\n",
              "      <td>0.808935</td>\n",
              "      <td>0.191065</td>\n",
              "      <td>1</td>\n",
              "      <td>1</td>\n",
              "    </tr>\n",
              "    <tr>\n",
              "      <th>49</th>\n",
              "      <td>53</td>\n",
              "      <td>79</td>\n",
              "      <td>0</td>\n",
              "      <td>0</td>\n",
              "      <td>0</td>\n",
              "      <td>0</td>\n",
              "      <td>0</td>\n",
              "      <td>0</td>\n",
              "      <td>0</td>\n",
              "      <td>0</td>\n",
              "      <td>0</td>\n",
              "      <td>0</td>\n",
              "      <td>0</td>\n",
              "      <td>0</td>\n",
              "      <td>0</td>\n",
              "      <td>0</td>\n",
              "      <td>0</td>\n",
              "      <td>29.000</td>\n",
              "      <td>1.6</td>\n",
              "      <td>47.0</td>\n",
              "      <td>0.97</td>\n",
              "      <td>48.0</td>\n",
              "      <td>5</td>\n",
              "      <td>0.699335</td>\n",
              "      <td>0.300665</td>\n",
              "      <td>1</td>\n",
              "      <td>0</td>\n",
              "    </tr>\n",
              "    <tr>\n",
              "      <th>679</th>\n",
              "      <td>747</td>\n",
              "      <td>61</td>\n",
              "      <td>0</td>\n",
              "      <td>0</td>\n",
              "      <td>0</td>\n",
              "      <td>0</td>\n",
              "      <td>0</td>\n",
              "      <td>0</td>\n",
              "      <td>0</td>\n",
              "      <td>0</td>\n",
              "      <td>0</td>\n",
              "      <td>0</td>\n",
              "      <td>0</td>\n",
              "      <td>0</td>\n",
              "      <td>0</td>\n",
              "      <td>0</td>\n",
              "      <td>0</td>\n",
              "      <td>0.880</td>\n",
              "      <td>0.3</td>\n",
              "      <td>46.0</td>\n",
              "      <td>0.58</td>\n",
              "      <td>79.0</td>\n",
              "      <td>4</td>\n",
              "      <td>0.574098</td>\n",
              "      <td>0.425902</td>\n",
              "      <td>1</td>\n",
              "      <td>0</td>\n",
              "    </tr>\n",
              "    <tr>\n",
              "      <th>931</th>\n",
              "      <td>462</td>\n",
              "      <td>77</td>\n",
              "      <td>0</td>\n",
              "      <td>0</td>\n",
              "      <td>0</td>\n",
              "      <td>0</td>\n",
              "      <td>0</td>\n",
              "      <td>0</td>\n",
              "      <td>0</td>\n",
              "      <td>0</td>\n",
              "      <td>0</td>\n",
              "      <td>0</td>\n",
              "      <td>0</td>\n",
              "      <td>0</td>\n",
              "      <td>0</td>\n",
              "      <td>0</td>\n",
              "      <td>0</td>\n",
              "      <td>18.000</td>\n",
              "      <td>0.3</td>\n",
              "      <td>44.0</td>\n",
              "      <td>0.56</td>\n",
              "      <td>77.0</td>\n",
              "      <td>4</td>\n",
              "      <td>0.574098</td>\n",
              "      <td>0.425902</td>\n",
              "      <td>1</td>\n",
              "      <td>1</td>\n",
              "    </tr>\n",
              "    <tr>\n",
              "      <th>661</th>\n",
              "      <td>725</td>\n",
              "      <td>60</td>\n",
              "      <td>1</td>\n",
              "      <td>1</td>\n",
              "      <td>0</td>\n",
              "      <td>0</td>\n",
              "      <td>0</td>\n",
              "      <td>0</td>\n",
              "      <td>0</td>\n",
              "      <td>0</td>\n",
              "      <td>0</td>\n",
              "      <td>0</td>\n",
              "      <td>0</td>\n",
              "      <td>0</td>\n",
              "      <td>0</td>\n",
              "      <td>0</td>\n",
              "      <td>0</td>\n",
              "      <td>13.000</td>\n",
              "      <td>1.4</td>\n",
              "      <td>57.0</td>\n",
              "      <td>0.62</td>\n",
              "      <td>92.0</td>\n",
              "      <td>5</td>\n",
              "      <td>0.348023</td>\n",
              "      <td>0.651977</td>\n",
              "      <td>0</td>\n",
              "      <td>0</td>\n",
              "    </tr>\n",
              "    <tr>\n",
              "      <th>349</th>\n",
              "      <td>382</td>\n",
              "      <td>84</td>\n",
              "      <td>1</td>\n",
              "      <td>0</td>\n",
              "      <td>0</td>\n",
              "      <td>0</td>\n",
              "      <td>0</td>\n",
              "      <td>0</td>\n",
              "      <td>0</td>\n",
              "      <td>0</td>\n",
              "      <td>0</td>\n",
              "      <td>0</td>\n",
              "      <td>0</td>\n",
              "      <td>0</td>\n",
              "      <td>0</td>\n",
              "      <td>0</td>\n",
              "      <td>0</td>\n",
              "      <td>1.700</td>\n",
              "      <td>1.2</td>\n",
              "      <td>132.0</td>\n",
              "      <td>0.92</td>\n",
              "      <td>145.0</td>\n",
              "      <td>4</td>\n",
              "      <td>0.146392</td>\n",
              "      <td>0.853608</td>\n",
              "      <td>0</td>\n",
              "      <td>0</td>\n",
              "    </tr>\n",
              "    <tr>\n",
              "      <th>304</th>\n",
              "      <td>336</td>\n",
              "      <td>85</td>\n",
              "      <td>1</td>\n",
              "      <td>0</td>\n",
              "      <td>0</td>\n",
              "      <td>0</td>\n",
              "      <td>0</td>\n",
              "      <td>0</td>\n",
              "      <td>0</td>\n",
              "      <td>0</td>\n",
              "      <td>0</td>\n",
              "      <td>0</td>\n",
              "      <td>0</td>\n",
              "      <td>0</td>\n",
              "      <td>0</td>\n",
              "      <td>0</td>\n",
              "      <td>0</td>\n",
              "      <td>0.500</td>\n",
              "      <td>1.2</td>\n",
              "      <td>93.0</td>\n",
              "      <td>0.79</td>\n",
              "      <td>117.0</td>\n",
              "      <td>4</td>\n",
              "      <td>0.146392</td>\n",
              "      <td>0.853608</td>\n",
              "      <td>0</td>\n",
              "      <td>0</td>\n",
              "    </tr>\n",
              "    <tr>\n",
              "      <th>180</th>\n",
              "      <td>199</td>\n",
              "      <td>52</td>\n",
              "      <td>1</td>\n",
              "      <td>0</td>\n",
              "      <td>0</td>\n",
              "      <td>0</td>\n",
              "      <td>0</td>\n",
              "      <td>0</td>\n",
              "      <td>0</td>\n",
              "      <td>0</td>\n",
              "      <td>0</td>\n",
              "      <td>1</td>\n",
              "      <td>0</td>\n",
              "      <td>0</td>\n",
              "      <td>0</td>\n",
              "      <td>0</td>\n",
              "      <td>0</td>\n",
              "      <td>0.930</td>\n",
              "      <td>1.3</td>\n",
              "      <td>86.0</td>\n",
              "      <td>0.64</td>\n",
              "      <td>134.0</td>\n",
              "      <td>4</td>\n",
              "      <td>0.146392</td>\n",
              "      <td>0.853608</td>\n",
              "      <td>0</td>\n",
              "      <td>0</td>\n",
              "    </tr>\n",
              "    <tr>\n",
              "      <th>530</th>\n",
              "      <td>583</td>\n",
              "      <td>23</td>\n",
              "      <td>0</td>\n",
              "      <td>0</td>\n",
              "      <td>0</td>\n",
              "      <td>0</td>\n",
              "      <td>0</td>\n",
              "      <td>0</td>\n",
              "      <td>0</td>\n",
              "      <td>0</td>\n",
              "      <td>0</td>\n",
              "      <td>0</td>\n",
              "      <td>0</td>\n",
              "      <td>0</td>\n",
              "      <td>0</td>\n",
              "      <td>0</td>\n",
              "      <td>0</td>\n",
              "      <td>0.190</td>\n",
              "      <td>1.3</td>\n",
              "      <td>100.0</td>\n",
              "      <td>0.85</td>\n",
              "      <td>118.0</td>\n",
              "      <td>4</td>\n",
              "      <td>0.146392</td>\n",
              "      <td>0.853608</td>\n",
              "      <td>0</td>\n",
              "      <td>0</td>\n",
              "    </tr>\n",
              "    <tr>\n",
              "      <th>8</th>\n",
              "      <td>9</td>\n",
              "      <td>81</td>\n",
              "      <td>1</td>\n",
              "      <td>0</td>\n",
              "      <td>0</td>\n",
              "      <td>0</td>\n",
              "      <td>0</td>\n",
              "      <td>0</td>\n",
              "      <td>0</td>\n",
              "      <td>0</td>\n",
              "      <td>0</td>\n",
              "      <td>0</td>\n",
              "      <td>0</td>\n",
              "      <td>0</td>\n",
              "      <td>0</td>\n",
              "      <td>0</td>\n",
              "      <td>0</td>\n",
              "      <td>1.300</td>\n",
              "      <td>1.2</td>\n",
              "      <td>147.0</td>\n",
              "      <td>1.06</td>\n",
              "      <td>138.0</td>\n",
              "      <td>4</td>\n",
              "      <td>0.113926</td>\n",
              "      <td>0.886074</td>\n",
              "      <td>0</td>\n",
              "      <td>0</td>\n",
              "    </tr>\n",
              "    <tr>\n",
              "      <th>825</th>\n",
              "      <td>903</td>\n",
              "      <td>75</td>\n",
              "      <td>1</td>\n",
              "      <td>0</td>\n",
              "      <td>0</td>\n",
              "      <td>0</td>\n",
              "      <td>0</td>\n",
              "      <td>0</td>\n",
              "      <td>0</td>\n",
              "      <td>0</td>\n",
              "      <td>0</td>\n",
              "      <td>0</td>\n",
              "      <td>0</td>\n",
              "      <td>0</td>\n",
              "      <td>0</td>\n",
              "      <td>0</td>\n",
              "      <td>0</td>\n",
              "      <td>0.035</td>\n",
              "      <td>1.2</td>\n",
              "      <td>98.0</td>\n",
              "      <td>0.83</td>\n",
              "      <td>118.0</td>\n",
              "      <td>4</td>\n",
              "      <td>0.094878</td>\n",
              "      <td>0.905122</td>\n",
              "      <td>0</td>\n",
              "      <td>0</td>\n",
              "    </tr>\n",
              "    <tr>\n",
              "      <th>833</th>\n",
              "      <td>911</td>\n",
              "      <td>45</td>\n",
              "      <td>1</td>\n",
              "      <td>0</td>\n",
              "      <td>0</td>\n",
              "      <td>0</td>\n",
              "      <td>0</td>\n",
              "      <td>0</td>\n",
              "      <td>0</td>\n",
              "      <td>0</td>\n",
              "      <td>0</td>\n",
              "      <td>0</td>\n",
              "      <td>0</td>\n",
              "      <td>0</td>\n",
              "      <td>0</td>\n",
              "      <td>0</td>\n",
              "      <td>0</td>\n",
              "      <td>2.100</td>\n",
              "      <td>1.3</td>\n",
              "      <td>109.0</td>\n",
              "      <td>0.89</td>\n",
              "      <td>122.0</td>\n",
              "      <td>4</td>\n",
              "      <td>0.094878</td>\n",
              "      <td>0.905122</td>\n",
              "      <td>0</td>\n",
              "      <td>0</td>\n",
              "    </tr>\n",
              "  </tbody>\n",
              "</table>\n",
              "</div>"
            ],
            "text/plain": [
              "     caso  edad  genero  ...  predicho_prob_0  predicho  real\n",
              "934   562    74       0  ...         0.023880         1     1\n",
              "946   733    89       1  ...         0.023880         1     1\n",
              "927   392    63       0  ...         0.023880         1     1\n",
              "940   568    83       0  ...         0.023880         1     1\n",
              "939   567    19       0  ...         0.023880         1     1\n",
              "924   321    72       0  ...         0.023880         1     1\n",
              "942   649    62       0  ...         0.023880         1     1\n",
              "951   824    85       1  ...         0.023880         1     1\n",
              "909    76    80       1  ...         0.023880         1     1\n",
              "911    78    48       0  ...         0.023880         1     1\n",
              "913   168    75       1  ...         0.023880         1     1\n",
              "932   463    62       1  ...         0.023880         1     1\n",
              "928   393    80       0  ...         0.023880         1     1\n",
              "920   247    85       0  ...         0.031601         1     1\n",
              "937   565    75       0  ...         0.031601         1     1\n",
              "944   651    81       1  ...         0.031601         1     1\n",
              "917   172    73       1  ...         0.044088         1     1\n",
              "241   266    63       1  ...         0.044088         1     0\n",
              "950   822    70       1  ...         0.191065         1     1\n",
              "49     53    79       0  ...         0.300665         1     0\n",
              "679   747    61       0  ...         0.425902         1     0\n",
              "931   462    77       0  ...         0.425902         1     1\n",
              "661   725    60       1  ...         0.651977         0     0\n",
              "349   382    84       1  ...         0.853608         0     0\n",
              "304   336    85       1  ...         0.853608         0     0\n",
              "180   199    52       1  ...         0.853608         0     0\n",
              "530   583    23       0  ...         0.853608         0     0\n",
              "8       9    81       1  ...         0.886074         0     0\n",
              "825   903    75       1  ...         0.905122         0     0\n",
              "833   911    45       1  ...         0.905122         0     0\n",
              "\n",
              "[30 rows x 27 columns]"
            ]
          },
          "metadata": {
            "tags": []
          },
          "execution_count": 199
        }
      ]
    },
    {
      "cell_type": "code",
      "metadata": {
        "colab": {
          "base_uri": "https://localhost:8080/"
        },
        "id": "PngupG4dX7Ap",
        "outputId": "457c0421-3ac8-49fd-f9e2-8a3410e96d0f"
      },
      "source": [
        "y_test_modelo=data_set_test.sort_values(['predicho_prob_1'], ascending=[False])[0:y_test_25.count()]\n",
        "print(\"Cantidad de enfermos modelo 25% test\",len(y_test_modelo[y_test_modelo['real'] == 1]))\n",
        "\n",
        "print(\"Cantidad individuos modelo:\",len(y_test_modelo))\n",
        "print(\"Cantidad individuos alzar:\",len(y_test_25))"
      ],
      "execution_count": 197,
      "outputs": [
        {
          "output_type": "stream",
          "text": [
            "Cantidad de enfermos modelo 25% test 21\n",
            "Cantidad individuos modelo: 287\n",
            "Cantidad individuos alzar: 287\n"
          ],
          "name": "stdout"
        }
      ]
    }
  ]
}