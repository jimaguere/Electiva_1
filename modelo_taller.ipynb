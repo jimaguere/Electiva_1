{
  "nbformat": 4,
  "nbformat_minor": 0,
  "metadata": {
    "colab": {
      "name": "modelo_taller.ipynb",
      "provenance": [],
      "collapsed_sections": [],
      "authorship_tag": "ABX9TyPmQBykS1DeamXUIB7gbH4B",
      "include_colab_link": true
    },
    "kernelspec": {
      "name": "python3",
      "display_name": "Python 3"
    }
  },
  "cells": [
    {
      "cell_type": "markdown",
      "metadata": {
        "id": "view-in-github",
        "colab_type": "text"
      },
      "source": [
        "<a href=\"https://colab.research.google.com/github/jimaguere/Electiva_1/blob/main/modelo_taller.ipynb\" target=\"_parent\"><img src=\"https://colab.research.google.com/assets/colab-badge.svg\" alt=\"Open In Colab\"/></a>"
      ]
    },
    {
      "cell_type": "code",
      "metadata": {
        "colab": {
          "base_uri": "https://localhost:8080/"
        },
        "id": "GrKPQkIihUhl",
        "outputId": "22dc5981-023c-4ac3-d776-8441e44abe46"
      },
      "source": [
        "\r\n",
        "from google.colab import drive\r\n",
        "drive.mount('/content/drive')"
      ],
      "execution_count": null,
      "outputs": [
        {
          "output_type": "stream",
          "text": [
            "Drive already mounted at /content/drive; to attempt to forcibly remount, call drive.mount(\"/content/drive\", force_remount=True).\n"
          ],
          "name": "stdout"
        }
      ]
    },
    {
      "cell_type": "code",
      "metadata": {
        "colab": {
          "base_uri": "https://localhost:8080/",
          "height": 224
        },
        "id": "txPGymbJhxNI",
        "outputId": "31836fd4-0ea6-4b4f-cfe0-d0a7ad8e5aa9"
      },
      "source": [
        "import pandas as pd\r\n",
        "import numpy as np\r\n",
        "\r\n",
        "datos=pd.read_csv(\"/content/drive/MyDrive/ELECTIVA 1/desercion.csv\",sep=\"|\")\r\n",
        "datos.head()"
      ],
      "execution_count": null,
      "outputs": [
        {
          "output_type": "execute_result",
          "data": {
            "text/html": [
              "<div>\n",
              "<style scoped>\n",
              "    .dataframe tbody tr th:only-of-type {\n",
              "        vertical-align: middle;\n",
              "    }\n",
              "\n",
              "    .dataframe tbody tr th {\n",
              "        vertical-align: top;\n",
              "    }\n",
              "\n",
              "    .dataframe thead th {\n",
              "        text-align: right;\n",
              "    }\n",
              "</style>\n",
              "<table border=\"1\" class=\"dataframe\">\n",
              "  <thead>\n",
              "    <tr style=\"text-align: right;\">\n",
              "      <th></th>\n",
              "      <th>cod_alumno</th>\n",
              "      <th>sexo_f</th>\n",
              "      <th>puntaje_ingreso</th>\n",
              "      <th>promedio_notas</th>\n",
              "      <th>total_creditos_logrados</th>\n",
              "      <th>biologia</th>\n",
              "      <th>matematicas</th>\n",
              "      <th>filosofia</th>\n",
              "      <th>fisica</th>\n",
              "      <th>historia</th>\n",
              "      <th>quimica</th>\n",
              "      <th>lenguaje</th>\n",
              "      <th>geografia</th>\n",
              "      <th>idiomas</th>\n",
              "      <th>sociales</th>\n",
              "      <th>lecturacritica</th>\n",
              "      <th>ciencias</th>\n",
              "      <th>razonamiento</th>\n",
              "      <th>competenciaciud</th>\n",
              "      <th>valor_matricula</th>\n",
              "      <th>valor_servicios</th>\n",
              "      <th>ingresos</th>\n",
              "      <th>vive_familia</th>\n",
              "      <th>estrato</th>\n",
              "      <th>estrato_vivira</th>\n",
              "      <th>actualmente_trabaja</th>\n",
              "      <th>valor_matric_colegio</th>\n",
              "      <th>ano_pago_colegio</th>\n",
              "      <th>ingresos_familiares</th>\n",
              "      <th>ano_ingresos</th>\n",
              "      <th>numero_aportantes</th>\n",
              "      <th>numero_hermanos</th>\n",
              "      <th>numero_hermanos_est_superior</th>\n",
              "      <th>edad_reporte</th>\n",
              "      <th>anio_reporte</th>\n",
              "      <th>clase</th>\n",
              "    </tr>\n",
              "  </thead>\n",
              "  <tbody>\n",
              "    <tr>\n",
              "      <th>0</th>\n",
              "      <td>443</td>\n",
              "      <td>0</td>\n",
              "      <td>NaN</td>\n",
              "      <td>2.623913</td>\n",
              "      <td>0.0</td>\n",
              "      <td>NaN</td>\n",
              "      <td>NaN</td>\n",
              "      <td>NaN</td>\n",
              "      <td>NaN</td>\n",
              "      <td>NaN</td>\n",
              "      <td>NaN</td>\n",
              "      <td>NaN</td>\n",
              "      <td>NaN</td>\n",
              "      <td>NaN</td>\n",
              "      <td>NaN</td>\n",
              "      <td>NaN</td>\n",
              "      <td>NaN</td>\n",
              "      <td>NaN</td>\n",
              "      <td>NaN</td>\n",
              "      <td>NaN</td>\n",
              "      <td>NaN</td>\n",
              "      <td>NaN</td>\n",
              "      <td>0</td>\n",
              "      <td>NaN</td>\n",
              "      <td>NaN</td>\n",
              "      <td>NaN</td>\n",
              "      <td>NaN</td>\n",
              "      <td>NaN</td>\n",
              "      <td>NaN</td>\n",
              "      <td>NaN</td>\n",
              "      <td>NaN</td>\n",
              "      <td>NaN</td>\n",
              "      <td>NaN</td>\n",
              "      <td>34.0</td>\n",
              "      <td>2000.0</td>\n",
              "      <td>0</td>\n",
              "    </tr>\n",
              "    <tr>\n",
              "      <th>1</th>\n",
              "      <td>628</td>\n",
              "      <td>0</td>\n",
              "      <td>NaN</td>\n",
              "      <td>2.722581</td>\n",
              "      <td>0.0</td>\n",
              "      <td>NaN</td>\n",
              "      <td>NaN</td>\n",
              "      <td>NaN</td>\n",
              "      <td>NaN</td>\n",
              "      <td>NaN</td>\n",
              "      <td>NaN</td>\n",
              "      <td>NaN</td>\n",
              "      <td>NaN</td>\n",
              "      <td>NaN</td>\n",
              "      <td>NaN</td>\n",
              "      <td>NaN</td>\n",
              "      <td>NaN</td>\n",
              "      <td>NaN</td>\n",
              "      <td>NaN</td>\n",
              "      <td>NaN</td>\n",
              "      <td>NaN</td>\n",
              "      <td>NaN</td>\n",
              "      <td>0</td>\n",
              "      <td>NaN</td>\n",
              "      <td>NaN</td>\n",
              "      <td>NaN</td>\n",
              "      <td>NaN</td>\n",
              "      <td>NaN</td>\n",
              "      <td>NaN</td>\n",
              "      <td>NaN</td>\n",
              "      <td>NaN</td>\n",
              "      <td>NaN</td>\n",
              "      <td>NaN</td>\n",
              "      <td>34.0</td>\n",
              "      <td>2003.0</td>\n",
              "      <td>0</td>\n",
              "    </tr>\n",
              "    <tr>\n",
              "      <th>2</th>\n",
              "      <td>2391</td>\n",
              "      <td>0</td>\n",
              "      <td>71.67</td>\n",
              "      <td>2.651087</td>\n",
              "      <td>0.0</td>\n",
              "      <td>NaN</td>\n",
              "      <td>NaN</td>\n",
              "      <td>NaN</td>\n",
              "      <td>NaN</td>\n",
              "      <td>NaN</td>\n",
              "      <td>NaN</td>\n",
              "      <td>NaN</td>\n",
              "      <td>NaN</td>\n",
              "      <td>NaN</td>\n",
              "      <td>NaN</td>\n",
              "      <td>NaN</td>\n",
              "      <td>NaN</td>\n",
              "      <td>NaN</td>\n",
              "      <td>NaN</td>\n",
              "      <td>NaN</td>\n",
              "      <td>NaN</td>\n",
              "      <td>NaN</td>\n",
              "      <td>0</td>\n",
              "      <td>NaN</td>\n",
              "      <td>NaN</td>\n",
              "      <td>0.0</td>\n",
              "      <td>0.0</td>\n",
              "      <td>NaN</td>\n",
              "      <td>0.0</td>\n",
              "      <td>NaN</td>\n",
              "      <td>NaN</td>\n",
              "      <td>0.0</td>\n",
              "      <td>0.0</td>\n",
              "      <td>41.0</td>\n",
              "      <td>2005.0</td>\n",
              "      <td>0</td>\n",
              "    </tr>\n",
              "    <tr>\n",
              "      <th>3</th>\n",
              "      <td>3674</td>\n",
              "      <td>0</td>\n",
              "      <td>NaN</td>\n",
              "      <td>2.308750</td>\n",
              "      <td>0.0</td>\n",
              "      <td>NaN</td>\n",
              "      <td>NaN</td>\n",
              "      <td>NaN</td>\n",
              "      <td>NaN</td>\n",
              "      <td>NaN</td>\n",
              "      <td>NaN</td>\n",
              "      <td>NaN</td>\n",
              "      <td>NaN</td>\n",
              "      <td>NaN</td>\n",
              "      <td>NaN</td>\n",
              "      <td>NaN</td>\n",
              "      <td>NaN</td>\n",
              "      <td>NaN</td>\n",
              "      <td>NaN</td>\n",
              "      <td>NaN</td>\n",
              "      <td>NaN</td>\n",
              "      <td>NaN</td>\n",
              "      <td>0</td>\n",
              "      <td>NaN</td>\n",
              "      <td>NaN</td>\n",
              "      <td>0.0</td>\n",
              "      <td>0.0</td>\n",
              "      <td>2018.0</td>\n",
              "      <td>0.0</td>\n",
              "      <td>2018.0</td>\n",
              "      <td>0.0</td>\n",
              "      <td>0.0</td>\n",
              "      <td>0.0</td>\n",
              "      <td>32.0</td>\n",
              "      <td>2000.0</td>\n",
              "      <td>1</td>\n",
              "    </tr>\n",
              "    <tr>\n",
              "      <th>4</th>\n",
              "      <td>3677</td>\n",
              "      <td>0</td>\n",
              "      <td>NaN</td>\n",
              "      <td>2.694286</td>\n",
              "      <td>0.0</td>\n",
              "      <td>NaN</td>\n",
              "      <td>NaN</td>\n",
              "      <td>NaN</td>\n",
              "      <td>NaN</td>\n",
              "      <td>NaN</td>\n",
              "      <td>NaN</td>\n",
              "      <td>NaN</td>\n",
              "      <td>NaN</td>\n",
              "      <td>NaN</td>\n",
              "      <td>NaN</td>\n",
              "      <td>NaN</td>\n",
              "      <td>NaN</td>\n",
              "      <td>NaN</td>\n",
              "      <td>NaN</td>\n",
              "      <td>NaN</td>\n",
              "      <td>NaN</td>\n",
              "      <td>NaN</td>\n",
              "      <td>0</td>\n",
              "      <td>NaN</td>\n",
              "      <td>NaN</td>\n",
              "      <td>0.0</td>\n",
              "      <td>0.0</td>\n",
              "      <td>2018.0</td>\n",
              "      <td>0.0</td>\n",
              "      <td>2018.0</td>\n",
              "      <td>0.0</td>\n",
              "      <td>0.0</td>\n",
              "      <td>0.0</td>\n",
              "      <td>43.0</td>\n",
              "      <td>2004.0</td>\n",
              "      <td>0</td>\n",
              "    </tr>\n",
              "  </tbody>\n",
              "</table>\n",
              "</div>"
            ],
            "text/plain": [
              "   cod_alumno  sexo_f  puntaje_ingreso  ...  edad_reporte  anio_reporte  clase\n",
              "0         443       0              NaN  ...          34.0        2000.0      0\n",
              "1         628       0              NaN  ...          34.0        2003.0      0\n",
              "2        2391       0            71.67  ...          41.0        2005.0      0\n",
              "3        3674       0              NaN  ...          32.0        2000.0      1\n",
              "4        3677       0              NaN  ...          43.0        2004.0      0\n",
              "\n",
              "[5 rows x 36 columns]"
            ]
          },
          "metadata": {
            "tags": []
          },
          "execution_count": 46
        }
      ]
    },
    {
      "cell_type": "code",
      "metadata": {
        "colab": {
          "base_uri": "https://localhost:8080/",
          "height": 317
        },
        "id": "8HtWBy_5ikxz",
        "outputId": "1734e399-b862-4985-b9ff-19d755e10747"
      },
      "source": [
        "datos.describe()"
      ],
      "execution_count": null,
      "outputs": [
        {
          "output_type": "execute_result",
          "data": {
            "text/html": [
              "<div>\n",
              "<style scoped>\n",
              "    .dataframe tbody tr th:only-of-type {\n",
              "        vertical-align: middle;\n",
              "    }\n",
              "\n",
              "    .dataframe tbody tr th {\n",
              "        vertical-align: top;\n",
              "    }\n",
              "\n",
              "    .dataframe thead th {\n",
              "        text-align: right;\n",
              "    }\n",
              "</style>\n",
              "<table border=\"1\" class=\"dataframe\">\n",
              "  <thead>\n",
              "    <tr style=\"text-align: right;\">\n",
              "      <th></th>\n",
              "      <th>cod_alumno</th>\n",
              "      <th>sexo_f</th>\n",
              "      <th>puntaje_ingreso</th>\n",
              "      <th>promedio_notas</th>\n",
              "      <th>total_creditos_logrados</th>\n",
              "      <th>biologia</th>\n",
              "      <th>matematicas</th>\n",
              "      <th>filosofia</th>\n",
              "      <th>fisica</th>\n",
              "      <th>historia</th>\n",
              "      <th>quimica</th>\n",
              "      <th>lenguaje</th>\n",
              "      <th>geografia</th>\n",
              "      <th>idiomas</th>\n",
              "      <th>sociales</th>\n",
              "      <th>lecturacritica</th>\n",
              "      <th>ciencias</th>\n",
              "      <th>razonamiento</th>\n",
              "      <th>competenciaciud</th>\n",
              "      <th>valor_matricula</th>\n",
              "      <th>valor_servicios</th>\n",
              "      <th>ingresos</th>\n",
              "      <th>vive_familia</th>\n",
              "      <th>estrato</th>\n",
              "      <th>estrato_vivira</th>\n",
              "      <th>actualmente_trabaja</th>\n",
              "      <th>valor_matric_colegio</th>\n",
              "      <th>ano_pago_colegio</th>\n",
              "      <th>ingresos_familiares</th>\n",
              "      <th>ano_ingresos</th>\n",
              "      <th>numero_aportantes</th>\n",
              "      <th>numero_hermanos</th>\n",
              "      <th>numero_hermanos_est_superior</th>\n",
              "      <th>edad_reporte</th>\n",
              "      <th>anio_reporte</th>\n",
              "      <th>clase</th>\n",
              "    </tr>\n",
              "  </thead>\n",
              "  <tbody>\n",
              "    <tr>\n",
              "      <th>count</th>\n",
              "      <td>4.555000e+03</td>\n",
              "      <td>4555.000000</td>\n",
              "      <td>4421.000000</td>\n",
              "      <td>4548.000000</td>\n",
              "      <td>4404.000000</td>\n",
              "      <td>4238.000000</td>\n",
              "      <td>4238.000000</td>\n",
              "      <td>4238.000000</td>\n",
              "      <td>4238.000000</td>\n",
              "      <td>4238.000000</td>\n",
              "      <td>3536.000000</td>\n",
              "      <td>3536.000000</td>\n",
              "      <td>3536.000000</td>\n",
              "      <td>2811.000000</td>\n",
              "      <td>2013.000000</td>\n",
              "      <td>285.000000</td>\n",
              "      <td>285.000000</td>\n",
              "      <td>285.000000</td>\n",
              "      <td>285.000000</td>\n",
              "      <td>3.369000e+03</td>\n",
              "      <td>3369.000000</td>\n",
              "      <td>3.369000e+03</td>\n",
              "      <td>4555.000000</td>\n",
              "      <td>1853.000000</td>\n",
              "      <td>1853.000000</td>\n",
              "      <td>2127.000000</td>\n",
              "      <td>2.127000e+03</td>\n",
              "      <td>1868.000000</td>\n",
              "      <td>2.127000e+03</td>\n",
              "      <td>1868.000000</td>\n",
              "      <td>1865.000000</td>\n",
              "      <td>2127.000000</td>\n",
              "      <td>2127.000000</td>\n",
              "      <td>4512.000000</td>\n",
              "      <td>4555.000000</td>\n",
              "      <td>4555.000000</td>\n",
              "    </tr>\n",
              "    <tr>\n",
              "      <th>mean</th>\n",
              "      <td>3.752023e+08</td>\n",
              "      <td>0.222393</td>\n",
              "      <td>54.480733</td>\n",
              "      <td>2.953167</td>\n",
              "      <td>34.301544</td>\n",
              "      <td>50.795345</td>\n",
              "      <td>56.669594</td>\n",
              "      <td>47.601914</td>\n",
              "      <td>52.018103</td>\n",
              "      <td>26.530765</td>\n",
              "      <td>47.707022</td>\n",
              "      <td>48.983623</td>\n",
              "      <td>21.852469</td>\n",
              "      <td>43.265610</td>\n",
              "      <td>48.633775</td>\n",
              "      <td>46.501754</td>\n",
              "      <td>49.017544</td>\n",
              "      <td>36.800000</td>\n",
              "      <td>31.807018</td>\n",
              "      <td>3.027385e+04</td>\n",
              "      <td>6999.171564</td>\n",
              "      <td>8.771277e+04</td>\n",
              "      <td>0.322722</td>\n",
              "      <td>2.608203</td>\n",
              "      <td>1.650297</td>\n",
              "      <td>0.154678</td>\n",
              "      <td>5.681400e+04</td>\n",
              "      <td>1729.849036</td>\n",
              "      <td>1.077325e+07</td>\n",
              "      <td>1688.868308</td>\n",
              "      <td>1.395710</td>\n",
              "      <td>1.763517</td>\n",
              "      <td>0.387870</td>\n",
              "      <td>25.795434</td>\n",
              "      <td>2008.576509</td>\n",
              "      <td>0.529967</td>\n",
              "    </tr>\n",
              "    <tr>\n",
              "      <th>std</th>\n",
              "      <td>7.432311e+08</td>\n",
              "      <td>0.415899</td>\n",
              "      <td>14.896106</td>\n",
              "      <td>0.965500</td>\n",
              "      <td>59.410389</td>\n",
              "      <td>18.096618</td>\n",
              "      <td>16.639339</td>\n",
              "      <td>17.565801</td>\n",
              "      <td>18.632747</td>\n",
              "      <td>27.173920</td>\n",
              "      <td>18.903518</td>\n",
              "      <td>18.774986</td>\n",
              "      <td>25.032931</td>\n",
              "      <td>19.818365</td>\n",
              "      <td>18.984095</td>\n",
              "      <td>28.806375</td>\n",
              "      <td>30.690120</td>\n",
              "      <td>36.736385</td>\n",
              "      <td>31.056309</td>\n",
              "      <td>9.421748e+04</td>\n",
              "      <td>20183.176420</td>\n",
              "      <td>7.397831e+05</td>\n",
              "      <td>0.467569</td>\n",
              "      <td>2.494222</td>\n",
              "      <td>1.001455</td>\n",
              "      <td>0.361682</td>\n",
              "      <td>2.719888e+05</td>\n",
              "      <td>692.607458</td>\n",
              "      <td>6.887610e+07</td>\n",
              "      <td>737.455885</td>\n",
              "      <td>0.872188</td>\n",
              "      <td>1.715138</td>\n",
              "      <td>0.848053</td>\n",
              "      <td>69.649912</td>\n",
              "      <td>4.937601</td>\n",
              "      <td>0.499156</td>\n",
              "    </tr>\n",
              "    <tr>\n",
              "      <th>min</th>\n",
              "      <td>4.430000e+02</td>\n",
              "      <td>0.000000</td>\n",
              "      <td>0.000000</td>\n",
              "      <td>0.000000</td>\n",
              "      <td>0.000000</td>\n",
              "      <td>0.000000</td>\n",
              "      <td>0.000000</td>\n",
              "      <td>0.000000</td>\n",
              "      <td>0.000000</td>\n",
              "      <td>0.000000</td>\n",
              "      <td>0.000000</td>\n",
              "      <td>0.000000</td>\n",
              "      <td>0.000000</td>\n",
              "      <td>0.000000</td>\n",
              "      <td>0.000000</td>\n",
              "      <td>0.000000</td>\n",
              "      <td>0.000000</td>\n",
              "      <td>0.000000</td>\n",
              "      <td>0.000000</td>\n",
              "      <td>0.000000e+00</td>\n",
              "      <td>0.000000</td>\n",
              "      <td>0.000000e+00</td>\n",
              "      <td>0.000000</td>\n",
              "      <td>0.000000</td>\n",
              "      <td>0.000000</td>\n",
              "      <td>0.000000</td>\n",
              "      <td>0.000000e+00</td>\n",
              "      <td>0.000000</td>\n",
              "      <td>0.000000e+00</td>\n",
              "      <td>0.000000</td>\n",
              "      <td>0.000000</td>\n",
              "      <td>0.000000</td>\n",
              "      <td>0.000000</td>\n",
              "      <td>0.000000</td>\n",
              "      <td>2000.000000</td>\n",
              "      <td>0.000000</td>\n",
              "    </tr>\n",
              "    <tr>\n",
              "      <th>25%</th>\n",
              "      <td>2.403428e+07</td>\n",
              "      <td>0.000000</td>\n",
              "      <td>49.200000</td>\n",
              "      <td>2.533333</td>\n",
              "      <td>0.000000</td>\n",
              "      <td>46.760000</td>\n",
              "      <td>48.000000</td>\n",
              "      <td>43.590000</td>\n",
              "      <td>47.800000</td>\n",
              "      <td>0.000000</td>\n",
              "      <td>45.000000</td>\n",
              "      <td>47.000000</td>\n",
              "      <td>0.000000</td>\n",
              "      <td>39.100000</td>\n",
              "      <td>45.670000</td>\n",
              "      <td>0.000000</td>\n",
              "      <td>0.000000</td>\n",
              "      <td>0.000000</td>\n",
              "      <td>0.000000</td>\n",
              "      <td>0.000000e+00</td>\n",
              "      <td>0.000000</td>\n",
              "      <td>0.000000e+00</td>\n",
              "      <td>0.000000</td>\n",
              "      <td>1.000000</td>\n",
              "      <td>1.000000</td>\n",
              "      <td>0.000000</td>\n",
              "      <td>0.000000e+00</td>\n",
              "      <td>2002.000000</td>\n",
              "      <td>2.000000e+06</td>\n",
              "      <td>2007.000000</td>\n",
              "      <td>1.000000</td>\n",
              "      <td>1.000000</td>\n",
              "      <td>0.000000</td>\n",
              "      <td>19.000000</td>\n",
              "      <td>2005.000000</td>\n",
              "      <td>0.000000</td>\n",
              "    </tr>\n",
              "    <tr>\n",
              "      <th>50%</th>\n",
              "      <td>2.816020e+07</td>\n",
              "      <td>0.000000</td>\n",
              "      <td>55.900000</td>\n",
              "      <td>3.189871</td>\n",
              "      <td>4.000000</td>\n",
              "      <td>53.910000</td>\n",
              "      <td>57.000000</td>\n",
              "      <td>50.000000</td>\n",
              "      <td>55.000000</td>\n",
              "      <td>33.000000</td>\n",
              "      <td>51.870000</td>\n",
              "      <td>53.240000</td>\n",
              "      <td>0.000000</td>\n",
              "      <td>45.900000</td>\n",
              "      <td>52.000000</td>\n",
              "      <td>59.000000</td>\n",
              "      <td>62.000000</td>\n",
              "      <td>47.000000</td>\n",
              "      <td>43.000000</td>\n",
              "      <td>0.000000e+00</td>\n",
              "      <td>0.000000</td>\n",
              "      <td>0.000000e+00</td>\n",
              "      <td>0.000000</td>\n",
              "      <td>2.000000</td>\n",
              "      <td>2.000000</td>\n",
              "      <td>0.000000</td>\n",
              "      <td>1.500000e+04</td>\n",
              "      <td>2007.000000</td>\n",
              "      <td>5.538000e+06</td>\n",
              "      <td>2009.000000</td>\n",
              "      <td>1.000000</td>\n",
              "      <td>1.000000</td>\n",
              "      <td>0.000000</td>\n",
              "      <td>22.000000</td>\n",
              "      <td>2008.000000</td>\n",
              "      <td>1.000000</td>\n",
              "    </tr>\n",
              "    <tr>\n",
              "      <th>75%</th>\n",
              "      <td>9.915325e+07</td>\n",
              "      <td>0.000000</td>\n",
              "      <td>62.900000</td>\n",
              "      <td>3.634427</td>\n",
              "      <td>32.000000</td>\n",
              "      <td>61.527500</td>\n",
              "      <td>67.000000</td>\n",
              "      <td>57.975000</td>\n",
              "      <td>62.912500</td>\n",
              "      <td>51.000000</td>\n",
              "      <td>58.000000</td>\n",
              "      <td>59.000000</td>\n",
              "      <td>48.470000</td>\n",
              "      <td>53.560000</td>\n",
              "      <td>59.820000</td>\n",
              "      <td>67.000000</td>\n",
              "      <td>71.000000</td>\n",
              "      <td>69.000000</td>\n",
              "      <td>61.000000</td>\n",
              "      <td>0.000000e+00</td>\n",
              "      <td>0.000000</td>\n",
              "      <td>0.000000e+00</td>\n",
              "      <td>1.000000</td>\n",
              "      <td>3.000000</td>\n",
              "      <td>2.000000</td>\n",
              "      <td>0.000000</td>\n",
              "      <td>7.600000e+04</td>\n",
              "      <td>2009.000000</td>\n",
              "      <td>9.600000e+06</td>\n",
              "      <td>2012.000000</td>\n",
              "      <td>2.000000</td>\n",
              "      <td>3.000000</td>\n",
              "      <td>1.000000</td>\n",
              "      <td>25.000000</td>\n",
              "      <td>2013.000000</td>\n",
              "      <td>1.000000</td>\n",
              "    </tr>\n",
              "    <tr>\n",
              "      <th>max</th>\n",
              "      <td>2.141603e+09</td>\n",
              "      <td>1.000000</td>\n",
              "      <td>93.520000</td>\n",
              "      <td>5.000000</td>\n",
              "      <td>240.000000</td>\n",
              "      <td>99.000000</td>\n",
              "      <td>117.160000</td>\n",
              "      <td>88.000000</td>\n",
              "      <td>100.600000</td>\n",
              "      <td>78.000000</td>\n",
              "      <td>103.040000</td>\n",
              "      <td>94.520000</td>\n",
              "      <td>74.000000</td>\n",
              "      <td>116.950000</td>\n",
              "      <td>92.000000</td>\n",
              "      <td>84.000000</td>\n",
              "      <td>100.000000</td>\n",
              "      <td>100.000000</td>\n",
              "      <td>100.000000</td>\n",
              "      <td>1.498500e+06</td>\n",
              "      <td>299700.000000</td>\n",
              "      <td>2.642800e+07</td>\n",
              "      <td>1.000000</td>\n",
              "      <td>11.000000</td>\n",
              "      <td>5.000000</td>\n",
              "      <td>1.000000</td>\n",
              "      <td>7.800000e+06</td>\n",
              "      <td>2018.000000</td>\n",
              "      <td>2.147484e+09</td>\n",
              "      <td>2018.000000</td>\n",
              "      <td>17.000000</td>\n",
              "      <td>17.000000</td>\n",
              "      <td>13.000000</td>\n",
              "      <td>1999.000000</td>\n",
              "      <td>2017.000000</td>\n",
              "      <td>1.000000</td>\n",
              "    </tr>\n",
              "  </tbody>\n",
              "</table>\n",
              "</div>"
            ],
            "text/plain": [
              "         cod_alumno       sexo_f  ...  anio_reporte        clase\n",
              "count  4.555000e+03  4555.000000  ...   4555.000000  4555.000000\n",
              "mean   3.752023e+08     0.222393  ...   2008.576509     0.529967\n",
              "std    7.432311e+08     0.415899  ...      4.937601     0.499156\n",
              "min    4.430000e+02     0.000000  ...   2000.000000     0.000000\n",
              "25%    2.403428e+07     0.000000  ...   2005.000000     0.000000\n",
              "50%    2.816020e+07     0.000000  ...   2008.000000     1.000000\n",
              "75%    9.915325e+07     0.000000  ...   2013.000000     1.000000\n",
              "max    2.141603e+09     1.000000  ...   2017.000000     1.000000\n",
              "\n",
              "[8 rows x 36 columns]"
            ]
          },
          "metadata": {
            "tags": []
          },
          "execution_count": 47
        }
      ]
    },
    {
      "cell_type": "code",
      "metadata": {
        "colab": {
          "base_uri": "https://localhost:8080/",
          "height": 345
        },
        "id": "eDgnzCR-i202",
        "outputId": "e29b454d-2b1d-486f-a987-136f42ec150d"
      },
      "source": [
        "#Estadísticos\r\n",
        "import matplotlib.pyplot as plt\r\n",
        "\r\n",
        "datos.groupby('clase').count()[\"cod_alumno\"].plot(kind='bar')\r\n",
        "plt.show()\r\n",
        "datos.groupby('clase').count()['cod_alumno']"
      ],
      "execution_count": null,
      "outputs": [
        {
          "output_type": "display_data",
          "data": {
            "image/png": "[encoded data removed]",
            "text/plain": [
              "<Figure size 432x288 with 1 Axes>"
            ]
          },
          "metadata": {
            "tags": [],
            "needs_background": "light"
          }
        },
        {
          "output_type": "execute_result",
          "data": {
            "text/plain": [
              "clase\n",
              "0    2141\n",
              "1    2414\n",
              "Name: cod_alumno, dtype: int64"
            ]
          },
          "metadata": {
            "tags": []
          },
          "execution_count": 48
        }
      ]
    },
    {
      "cell_type": "code",
      "metadata": {
        "colab": {
          "base_uri": "https://localhost:8080/",
          "height": 646
        },
        "id": "-sXZp0iYjKxm",
        "outputId": "d7a71616-33fa-4eb6-fad8-f2a54fff494f"
      },
      "source": [
        "# valores faltantes por columna\r\n",
        "display(datos.isnull().sum())"
      ],
      "execution_count": null,
      "outputs": [
        {
          "output_type": "display_data",
          "data": {
            "text/plain": [
              "cod_alumno                         0\n",
              "sexo_f                             0\n",
              "puntaje_ingreso                  134\n",
              "promedio_notas                     7\n",
              "total_creditos_logrados          151\n",
              "biologia                         317\n",
              "matematicas                      317\n",
              "filosofia                        317\n",
              "fisica                           317\n",
              "historia                         317\n",
              "quimica                         1019\n",
              "lenguaje                        1019\n",
              "geografia                       1019\n",
              "idiomas                         1744\n",
              "sociales                        2542\n",
              "lecturacritica                  4270\n",
              "ciencias                        4270\n",
              "razonamiento                    4270\n",
              "competenciaciud                 4270\n",
              "valor_matricula                 1186\n",
              "valor_servicios                 1186\n",
              "ingresos                        1186\n",
              "vive_familia                       0\n",
              "estrato                         2702\n",
              "estrato_vivira                  2702\n",
              "actualmente_trabaja             2428\n",
              "valor_matric_colegio            2428\n",
              "ano_pago_colegio                2687\n",
              "ingresos_familiares             2428\n",
              "ano_ingresos                    2687\n",
              "numero_aportantes               2690\n",
              "numero_hermanos                 2428\n",
              "numero_hermanos_est_superior    2428\n",
              "edad_reporte                      43\n",
              "anio_reporte                       0\n",
              "clase                              0\n",
              "dtype: int64"
            ]
          },
          "metadata": {
            "tags": []
          }
        }
      ]
    },
    {
      "cell_type": "code",
      "metadata": {
        "id": "2ighzkeSjfwh"
      },
      "source": [
        "#metodo fuera rango -99\r\n",
        "datos.fillna(value=-99,inplace=True)\r\n",
        "\r\n",
        "#metodo promedio\r\n",
        "#datos.fillna(datos.mean(),inplace=True)\r\n"
      ],
      "execution_count": null,
      "outputs": []
    },
    {
      "cell_type": "code",
      "metadata": {
        "colab": {
          "base_uri": "https://localhost:8080/",
          "height": 646
        },
        "id": "ypA2Q_Uykjk2",
        "outputId": "720e21ed-66bb-4e05-c1f9-28dd319982aa"
      },
      "source": [
        "display(datos.isnull().sum())"
      ],
      "execution_count": null,
      "outputs": [
        {
          "output_type": "display_data",
          "data": {
            "text/plain": [
              "cod_alumno                      0\n",
              "sexo_f                          0\n",
              "puntaje_ingreso                 0\n",
              "promedio_notas                  0\n",
              "total_creditos_logrados         0\n",
              "biologia                        0\n",
              "matematicas                     0\n",
              "filosofia                       0\n",
              "fisica                          0\n",
              "historia                        0\n",
              "quimica                         0\n",
              "lenguaje                        0\n",
              "geografia                       0\n",
              "idiomas                         0\n",
              "sociales                        0\n",
              "lecturacritica                  0\n",
              "ciencias                        0\n",
              "razonamiento                    0\n",
              "competenciaciud                 0\n",
              "valor_matricula                 0\n",
              "valor_servicios                 0\n",
              "ingresos                        0\n",
              "vive_familia                    0\n",
              "estrato                         0\n",
              "estrato_vivira                  0\n",
              "actualmente_trabaja             0\n",
              "valor_matric_colegio            0\n",
              "ano_pago_colegio                0\n",
              "ingresos_familiares             0\n",
              "ano_ingresos                    0\n",
              "numero_aportantes               0\n",
              "numero_hermanos                 0\n",
              "numero_hermanos_est_superior    0\n",
              "edad_reporte                    0\n",
              "anio_reporte                    0\n",
              "clase                           0\n",
              "dtype: int64"
            ]
          },
          "metadata": {
            "tags": []
          }
        }
      ]
    },
    {
      "cell_type": "code",
      "metadata": {
        "colab": {
          "base_uri": "https://localhost:8080/",
          "height": 317
        },
        "id": "jZFsIWKkkoyR",
        "outputId": "9e392371-de96-4c72-b852-0881bf8aa60c"
      },
      "source": [
        "datos.describe()"
      ],
      "execution_count": null,
      "outputs": [
        {
          "output_type": "execute_result",
          "data": {
            "text/html": [
              "<div>\n",
              "<style scoped>\n",
              "    .dataframe tbody tr th:only-of-type {\n",
              "        vertical-align: middle;\n",
              "    }\n",
              "\n",
              "    .dataframe tbody tr th {\n",
              "        vertical-align: top;\n",
              "    }\n",
              "\n",
              "    .dataframe thead th {\n",
              "        text-align: right;\n",
              "    }\n",
              "</style>\n",
              "<table border=\"1\" class=\"dataframe\">\n",
              "  <thead>\n",
              "    <tr style=\"text-align: right;\">\n",
              "      <th></th>\n",
              "      <th>cod_alumno</th>\n",
              "      <th>sexo_f</th>\n",
              "      <th>puntaje_ingreso</th>\n",
              "      <th>promedio_notas</th>\n",
              "      <th>total_creditos_logrados</th>\n",
              "      <th>biologia</th>\n",
              "      <th>matematicas</th>\n",
              "      <th>filosofia</th>\n",
              "      <th>fisica</th>\n",
              "      <th>historia</th>\n",
              "      <th>quimica</th>\n",
              "      <th>lenguaje</th>\n",
              "      <th>geografia</th>\n",
              "      <th>idiomas</th>\n",
              "      <th>sociales</th>\n",
              "      <th>lecturacritica</th>\n",
              "      <th>ciencias</th>\n",
              "      <th>razonamiento</th>\n",
              "      <th>competenciaciud</th>\n",
              "      <th>valor_matricula</th>\n",
              "      <th>valor_servicios</th>\n",
              "      <th>ingresos</th>\n",
              "      <th>vive_familia</th>\n",
              "      <th>estrato</th>\n",
              "      <th>estrato_vivira</th>\n",
              "      <th>actualmente_trabaja</th>\n",
              "      <th>valor_matric_colegio</th>\n",
              "      <th>ano_pago_colegio</th>\n",
              "      <th>ingresos_familiares</th>\n",
              "      <th>ano_ingresos</th>\n",
              "      <th>numero_aportantes</th>\n",
              "      <th>numero_hermanos</th>\n",
              "      <th>numero_hermanos_est_superior</th>\n",
              "      <th>edad_reporte</th>\n",
              "      <th>anio_reporte</th>\n",
              "      <th>clase</th>\n",
              "    </tr>\n",
              "  </thead>\n",
              "  <tbody>\n",
              "    <tr>\n",
              "      <th>count</th>\n",
              "      <td>4.555000e+03</td>\n",
              "      <td>4555.000000</td>\n",
              "      <td>4555.000000</td>\n",
              "      <td>4555.000000</td>\n",
              "      <td>4555.000000</td>\n",
              "      <td>4555.000000</td>\n",
              "      <td>4555.000000</td>\n",
              "      <td>4555.000000</td>\n",
              "      <td>4555.000000</td>\n",
              "      <td>4555.000000</td>\n",
              "      <td>4555.000000</td>\n",
              "      <td>4555.000000</td>\n",
              "      <td>4555.000000</td>\n",
              "      <td>4555.000000</td>\n",
              "      <td>4555.000000</td>\n",
              "      <td>4555.000000</td>\n",
              "      <td>4555.000000</td>\n",
              "      <td>4555.000000</td>\n",
              "      <td>4555.000000</td>\n",
              "      <td>4.555000e+03</td>\n",
              "      <td>4555.000000</td>\n",
              "      <td>4.555000e+03</td>\n",
              "      <td>4555.000000</td>\n",
              "      <td>4555.000000</td>\n",
              "      <td>4555.000000</td>\n",
              "      <td>4555.000000</td>\n",
              "      <td>4.555000e+03</td>\n",
              "      <td>4555.000000</td>\n",
              "      <td>4.555000e+03</td>\n",
              "      <td>4555.000000</td>\n",
              "      <td>4555.000000</td>\n",
              "      <td>4555.000000</td>\n",
              "      <td>4555.000000</td>\n",
              "      <td>4555.000000</td>\n",
              "      <td>4555.000000</td>\n",
              "      <td>4555.000000</td>\n",
              "    </tr>\n",
              "    <tr>\n",
              "      <th>mean</th>\n",
              "      <td>3.752023e+08</td>\n",
              "      <td>0.222393</td>\n",
              "      <td>49.965603</td>\n",
              "      <td>2.796488</td>\n",
              "      <td>29.882547</td>\n",
              "      <td>40.370509</td>\n",
              "      <td>45.835947</td>\n",
              "      <td>37.399322</td>\n",
              "      <td>41.508171</td>\n",
              "      <td>17.794595</td>\n",
              "      <td>14.887164</td>\n",
              "      <td>15.878176</td>\n",
              "      <td>-5.183462</td>\n",
              "      <td>-11.204472</td>\n",
              "      <td>-33.755919</td>\n",
              "      <td>-89.896158</td>\n",
              "      <td>-89.738749</td>\n",
              "      <td>-90.503183</td>\n",
              "      <td>-90.815587</td>\n",
              "      <td>2.236557e+04</td>\n",
              "      <td>5150.997805</td>\n",
              "      <td>6.484893e+04</td>\n",
              "      <td>0.322722</td>\n",
              "      <td>-57.665203</td>\n",
              "      <td>-58.054885</td>\n",
              "      <td>-52.698793</td>\n",
              "      <td>2.647706e+04</td>\n",
              "      <td>651.008782</td>\n",
              "      <td>5.030615e+06</td>\n",
              "      <td>634.202634</td>\n",
              "      <td>-57.893963</td>\n",
              "      <td>-51.947530</td>\n",
              "      <td>-52.589901</td>\n",
              "      <td>24.617344</td>\n",
              "      <td>2008.576509</td>\n",
              "      <td>0.529967</td>\n",
              "    </tr>\n",
              "    <tr>\n",
              "      <th>std</th>\n",
              "      <td>7.432311e+08</td>\n",
              "      <td>0.415899</td>\n",
              "      <td>29.801201</td>\n",
              "      <td>4.108968</td>\n",
              "      <td>63.104817</td>\n",
              "      <td>41.927617</td>\n",
              "      <td>42.743902</td>\n",
              "      <td>40.975739</td>\n",
              "      <td>42.427208</td>\n",
              "      <td>41.322905</td>\n",
              "      <td>63.371646</td>\n",
              "      <td>63.855723</td>\n",
              "      <td>54.985487</td>\n",
              "      <td>70.891699</td>\n",
              "      <td>74.403270</td>\n",
              "      <td>35.968970</td>\n",
              "      <td>36.661663</td>\n",
              "      <td>34.147793</td>\n",
              "      <td>32.618444</td>\n",
              "      <td>8.211458e+04</td>\n",
              "      <td>17634.527672</td>\n",
              "      <td>6.373667e+05</td>\n",
              "      <td>0.467569</td>\n",
              "      <td>49.944630</td>\n",
              "      <td>49.452808</td>\n",
              "      <td>49.475023</td>\n",
              "      <td>1.879959e+05</td>\n",
              "      <td>1002.986382</td>\n",
              "      <td>4.736621e+07</td>\n",
              "      <td>998.204197</td>\n",
              "      <td>49.376209</td>\n",
              "      <td>50.290811</td>\n",
              "      <td>49.594145</td>\n",
              "      <td>70.363124</td>\n",
              "      <td>4.937601</td>\n",
              "      <td>0.499156</td>\n",
              "    </tr>\n",
              "    <tr>\n",
              "      <th>min</th>\n",
              "      <td>4.430000e+02</td>\n",
              "      <td>0.000000</td>\n",
              "      <td>-99.000000</td>\n",
              "      <td>-99.000000</td>\n",
              "      <td>-99.000000</td>\n",
              "      <td>-99.000000</td>\n",
              "      <td>-99.000000</td>\n",
              "      <td>-99.000000</td>\n",
              "      <td>-99.000000</td>\n",
              "      <td>-99.000000</td>\n",
              "      <td>-99.000000</td>\n",
              "      <td>-99.000000</td>\n",
              "      <td>-99.000000</td>\n",
              "      <td>-99.000000</td>\n",
              "      <td>-99.000000</td>\n",
              "      <td>-99.000000</td>\n",
              "      <td>-99.000000</td>\n",
              "      <td>-99.000000</td>\n",
              "      <td>-99.000000</td>\n",
              "      <td>-9.900000e+01</td>\n",
              "      <td>-99.000000</td>\n",
              "      <td>-9.900000e+01</td>\n",
              "      <td>0.000000</td>\n",
              "      <td>-99.000000</td>\n",
              "      <td>-99.000000</td>\n",
              "      <td>-99.000000</td>\n",
              "      <td>-9.900000e+01</td>\n",
              "      <td>-99.000000</td>\n",
              "      <td>-9.900000e+01</td>\n",
              "      <td>-99.000000</td>\n",
              "      <td>-99.000000</td>\n",
              "      <td>-99.000000</td>\n",
              "      <td>-99.000000</td>\n",
              "      <td>-99.000000</td>\n",
              "      <td>2000.000000</td>\n",
              "      <td>0.000000</td>\n",
              "    </tr>\n",
              "    <tr>\n",
              "      <th>25%</th>\n",
              "      <td>2.403428e+07</td>\n",
              "      <td>0.000000</td>\n",
              "      <td>48.500000</td>\n",
              "      <td>2.527799</td>\n",
              "      <td>0.000000</td>\n",
              "      <td>44.660000</td>\n",
              "      <td>46.000000</td>\n",
              "      <td>41.000000</td>\n",
              "      <td>46.000000</td>\n",
              "      <td>0.000000</td>\n",
              "      <td>0.000000</td>\n",
              "      <td>0.000000</td>\n",
              "      <td>0.000000</td>\n",
              "      <td>-99.000000</td>\n",
              "      <td>-99.000000</td>\n",
              "      <td>-99.000000</td>\n",
              "      <td>-99.000000</td>\n",
              "      <td>-99.000000</td>\n",
              "      <td>-99.000000</td>\n",
              "      <td>-9.900000e+01</td>\n",
              "      <td>-99.000000</td>\n",
              "      <td>-9.900000e+01</td>\n",
              "      <td>0.000000</td>\n",
              "      <td>-99.000000</td>\n",
              "      <td>-99.000000</td>\n",
              "      <td>-99.000000</td>\n",
              "      <td>-9.900000e+01</td>\n",
              "      <td>-99.000000</td>\n",
              "      <td>-9.900000e+01</td>\n",
              "      <td>-99.000000</td>\n",
              "      <td>-99.000000</td>\n",
              "      <td>-99.000000</td>\n",
              "      <td>-99.000000</td>\n",
              "      <td>19.000000</td>\n",
              "      <td>2005.000000</td>\n",
              "      <td>0.000000</td>\n",
              "    </tr>\n",
              "    <tr>\n",
              "      <th>50%</th>\n",
              "      <td>2.816020e+07</td>\n",
              "      <td>0.000000</td>\n",
              "      <td>55.540000</td>\n",
              "      <td>3.188571</td>\n",
              "      <td>4.000000</td>\n",
              "      <td>52.580000</td>\n",
              "      <td>56.000000</td>\n",
              "      <td>49.570000</td>\n",
              "      <td>54.000000</td>\n",
              "      <td>0.000000</td>\n",
              "      <td>48.000000</td>\n",
              "      <td>50.000000</td>\n",
              "      <td>0.000000</td>\n",
              "      <td>36.700000</td>\n",
              "      <td>-99.000000</td>\n",
              "      <td>-99.000000</td>\n",
              "      <td>-99.000000</td>\n",
              "      <td>-99.000000</td>\n",
              "      <td>-99.000000</td>\n",
              "      <td>0.000000e+00</td>\n",
              "      <td>0.000000</td>\n",
              "      <td>0.000000e+00</td>\n",
              "      <td>0.000000</td>\n",
              "      <td>-99.000000</td>\n",
              "      <td>-99.000000</td>\n",
              "      <td>-99.000000</td>\n",
              "      <td>-9.900000e+01</td>\n",
              "      <td>-99.000000</td>\n",
              "      <td>-9.900000e+01</td>\n",
              "      <td>-99.000000</td>\n",
              "      <td>-99.000000</td>\n",
              "      <td>-99.000000</td>\n",
              "      <td>-99.000000</td>\n",
              "      <td>22.000000</td>\n",
              "      <td>2008.000000</td>\n",
              "      <td>1.000000</td>\n",
              "    </tr>\n",
              "    <tr>\n",
              "      <th>75%</th>\n",
              "      <td>9.915325e+07</td>\n",
              "      <td>0.000000</td>\n",
              "      <td>62.505000</td>\n",
              "      <td>3.633559</td>\n",
              "      <td>28.000000</td>\n",
              "      <td>60.000000</td>\n",
              "      <td>66.000000</td>\n",
              "      <td>56.950000</td>\n",
              "      <td>61.820000</td>\n",
              "      <td>50.000000</td>\n",
              "      <td>55.960000</td>\n",
              "      <td>57.000000</td>\n",
              "      <td>45.280000</td>\n",
              "      <td>48.425000</td>\n",
              "      <td>50.620000</td>\n",
              "      <td>-99.000000</td>\n",
              "      <td>-99.000000</td>\n",
              "      <td>-99.000000</td>\n",
              "      <td>-99.000000</td>\n",
              "      <td>0.000000e+00</td>\n",
              "      <td>0.000000</td>\n",
              "      <td>0.000000e+00</td>\n",
              "      <td>1.000000</td>\n",
              "      <td>2.000000</td>\n",
              "      <td>1.000000</td>\n",
              "      <td>0.000000</td>\n",
              "      <td>5.000000e+03</td>\n",
              "      <td>2006.000000</td>\n",
              "      <td>5.000000e+06</td>\n",
              "      <td>2008.000000</td>\n",
              "      <td>1.000000</td>\n",
              "      <td>1.000000</td>\n",
              "      <td>0.000000</td>\n",
              "      <td>25.000000</td>\n",
              "      <td>2013.000000</td>\n",
              "      <td>1.000000</td>\n",
              "    </tr>\n",
              "    <tr>\n",
              "      <th>max</th>\n",
              "      <td>2.141603e+09</td>\n",
              "      <td>1.000000</td>\n",
              "      <td>93.520000</td>\n",
              "      <td>5.000000</td>\n",
              "      <td>240.000000</td>\n",
              "      <td>99.000000</td>\n",
              "      <td>117.160000</td>\n",
              "      <td>88.000000</td>\n",
              "      <td>100.600000</td>\n",
              "      <td>78.000000</td>\n",
              "      <td>103.040000</td>\n",
              "      <td>94.520000</td>\n",
              "      <td>74.000000</td>\n",
              "      <td>116.950000</td>\n",
              "      <td>92.000000</td>\n",
              "      <td>84.000000</td>\n",
              "      <td>100.000000</td>\n",
              "      <td>100.000000</td>\n",
              "      <td>100.000000</td>\n",
              "      <td>1.498500e+06</td>\n",
              "      <td>299700.000000</td>\n",
              "      <td>2.642800e+07</td>\n",
              "      <td>1.000000</td>\n",
              "      <td>11.000000</td>\n",
              "      <td>5.000000</td>\n",
              "      <td>1.000000</td>\n",
              "      <td>7.800000e+06</td>\n",
              "      <td>2018.000000</td>\n",
              "      <td>2.147484e+09</td>\n",
              "      <td>2018.000000</td>\n",
              "      <td>17.000000</td>\n",
              "      <td>17.000000</td>\n",
              "      <td>13.000000</td>\n",
              "      <td>1999.000000</td>\n",
              "      <td>2017.000000</td>\n",
              "      <td>1.000000</td>\n",
              "    </tr>\n",
              "  </tbody>\n",
              "</table>\n",
              "</div>"
            ],
            "text/plain": [
              "         cod_alumno       sexo_f  ...  anio_reporte        clase\n",
              "count  4.555000e+03  4555.000000  ...   4555.000000  4555.000000\n",
              "mean   3.752023e+08     0.222393  ...   2008.576509     0.529967\n",
              "std    7.432311e+08     0.415899  ...      4.937601     0.499156\n",
              "min    4.430000e+02     0.000000  ...   2000.000000     0.000000\n",
              "25%    2.403428e+07     0.000000  ...   2005.000000     0.000000\n",
              "50%    2.816020e+07     0.000000  ...   2008.000000     1.000000\n",
              "75%    9.915325e+07     0.000000  ...   2013.000000     1.000000\n",
              "max    2.141603e+09     1.000000  ...   2017.000000     1.000000\n",
              "\n",
              "[8 rows x 36 columns]"
            ]
          },
          "metadata": {
            "tags": []
          },
          "execution_count": 52
        }
      ]
    },
    {
      "cell_type": "code",
      "metadata": {
        "colab": {
          "base_uri": "https://localhost:8080/",
          "height": 645
        },
        "id": "wCgrZxmXlc2o",
        "outputId": "e459f442-5671-4456-e846-9ac18abe94a8"
      },
      "source": [
        "datos.groupby('anio_reporte').count()[\"cod_alumno\"].plot(kind='bar')\r\n",
        "plt.show()\r\n",
        "datos.groupby('anio_reporte').count()['cod_alumno']"
      ],
      "execution_count": null,
      "outputs": [
        {
          "output_type": "display_data",
          "data": {
            "image/png": "[encoded data removed]",
            "text/plain": [
              "<Figure size 432x288 with 1 Axes>"
            ]
          },
          "metadata": {
            "tags": [],
            "needs_background": "light"
          }
        },
        {
          "output_type": "execute_result",
          "data": {
            "text/plain": [
              "anio_reporte\n",
              "2000.0    211\n",
              "2001.0    170\n",
              "2002.0    246\n",
              "2003.0    262\n",
              "2004.0    229\n",
              "2005.0    249\n",
              "2006.0    275\n",
              "2007.0    364\n",
              "2008.0    296\n",
              "2009.0    293\n",
              "2010.0    297\n",
              "2011.0    230\n",
              "2012.0    230\n",
              "2013.0    254\n",
              "2014.0    250\n",
              "2015.0    239\n",
              "2016.0    213\n",
              "2017.0    247\n",
              "Name: cod_alumno, dtype: int64"
            ]
          },
          "metadata": {
            "tags": []
          },
          "execution_count": 53
        }
      ]
    },
    {
      "cell_type": "code",
      "metadata": {
        "id": "yZkkBdmulSEL"
      },
      "source": [
        "entrenamiento=datos[datos.anio_reporte<2017]\r\n",
        "validacion=datos[datos.anio_reporte==2017]"
      ],
      "execution_count": null,
      "outputs": []
    },
    {
      "cell_type": "code",
      "metadata": {
        "colab": {
          "base_uri": "https://localhost:8080/",
          "height": 646
        },
        "id": "tzehD8dmqJv9",
        "outputId": "f5dbabb7-e75c-495e-80f5-1d4a0d4be450"
      },
      "source": [
        "display(entrenamiento.isnull().sum())"
      ],
      "execution_count": null,
      "outputs": [
        {
          "output_type": "display_data",
          "data": {
            "text/plain": [
              "cod_alumno                      0\n",
              "sexo_f                          0\n",
              "puntaje_ingreso                 0\n",
              "promedio_notas                  0\n",
              "total_creditos_logrados         0\n",
              "biologia                        0\n",
              "matematicas                     0\n",
              "filosofia                       0\n",
              "fisica                          0\n",
              "historia                        0\n",
              "quimica                         0\n",
              "lenguaje                        0\n",
              "geografia                       0\n",
              "idiomas                         0\n",
              "sociales                        0\n",
              "lecturacritica                  0\n",
              "ciencias                        0\n",
              "razonamiento                    0\n",
              "competenciaciud                 0\n",
              "valor_matricula                 0\n",
              "valor_servicios                 0\n",
              "ingresos                        0\n",
              "vive_familia                    0\n",
              "estrato                         0\n",
              "estrato_vivira                  0\n",
              "actualmente_trabaja             0\n",
              "valor_matric_colegio            0\n",
              "ano_pago_colegio                0\n",
              "ingresos_familiares             0\n",
              "ano_ingresos                    0\n",
              "numero_aportantes               0\n",
              "numero_hermanos                 0\n",
              "numero_hermanos_est_superior    0\n",
              "edad_reporte                    0\n",
              "anio_reporte                    0\n",
              "clase                           0\n",
              "dtype: int64"
            ]
          },
          "metadata": {
            "tags": []
          }
        }
      ]
    },
    {
      "cell_type": "code",
      "metadata": {
        "colab": {
          "base_uri": "https://localhost:8080/",
          "height": 344
        },
        "id": "sFHwJIfTm9U1",
        "outputId": "543c9bb6-de50-41b2-d8e6-e7e681ec2776"
      },
      "source": [
        "entrenamiento.groupby('clase').count()[\"cod_alumno\"].plot(kind='bar')\r\n",
        "plt.show()\r\n",
        "entrenamiento.groupby('clase').count()['cod_alumno']"
      ],
      "execution_count": null,
      "outputs": [
        {
          "output_type": "display_data",
          "data": {
            "image/png": "[encoded data removed]",
            "text/plain": [
              "<Figure size 432x288 with 1 Axes>"
            ]
          },
          "metadata": {
            "tags": [],
            "needs_background": "light"
          }
        },
        {
          "output_type": "execute_result",
          "data": {
            "text/plain": [
              "clase\n",
              "0    2035\n",
              "1    2273\n",
              "Name: cod_alumno, dtype: int64"
            ]
          },
          "metadata": {
            "tags": []
          },
          "execution_count": 72
        }
      ]
    },
    {
      "cell_type": "code",
      "metadata": {
        "colab": {
          "base_uri": "https://localhost:8080/",
          "height": 344
        },
        "id": "BI-YZEgonLbO",
        "outputId": "0ee9359c-1c67-4280-81cb-f8a5a9d2ff4e"
      },
      "source": [
        "validacion.groupby('clase').count()[\"cod_alumno\"].plot(kind='bar')\r\n",
        "plt.show()\r\n",
        "validacion.groupby('clase').count()['cod_alumno']"
      ],
      "execution_count": null,
      "outputs": [
        {
          "output_type": "display_data",
          "data": {
            "image/png": "[encoded data removed]",
            "text/plain": [
              "<Figure size 432x288 with 1 Axes>"
            ]
          },
          "metadata": {
            "tags": [],
            "needs_background": "light"
          }
        },
        {
          "output_type": "execute_result",
          "data": {
            "text/plain": [
              "clase\n",
              "0    106\n",
              "1    141\n",
              "Name: cod_alumno, dtype: int64"
            ]
          },
          "metadata": {
            "tags": []
          },
          "execution_count": 73
        }
      ]
    },
    {
      "cell_type": "code",
      "metadata": {
        "id": "1qlIQq_rncDx"
      },
      "source": [
        "Y=datos['clase']\r\n",
        "X = datos.drop(labels=['clase'],axis=1)\r\n",
        "\r\n",
        "\r\n",
        "y_train=entrenamiento['clase']\r\n",
        "X_train=entrenamiento.drop(columns=[\"clase\"])\r\n",
        "\r\n",
        "y_test =validacion['clase']\r\n",
        "X_test =validacion.drop(columns=[\"clase\"])\r\n",
        "\r\n"
      ],
      "execution_count": null,
      "outputs": []
    },
    {
      "cell_type": "code",
      "metadata": {
        "id": "h06vVFT3ooyo"
      },
      "source": [
        "\r\n",
        "#clase para iterar parámetros de un modelo\r\n",
        "from sklearn.metrics import confusion_matrix\r\n",
        "from sklearn.metrics import accuracy_score,precision_score, balanced_accuracy_score\r\n",
        "\r\n",
        "def _score_func(estimator, X, y):\r\n",
        "  y_pred_test = estimator.predict(X)\r\n",
        "  return balanced_accuracy_score(y, y_pred_test)\r\n",
        "\r\n",
        "class Class_Fit(object):\r\n",
        "    def __init__(self, clf, params=None):\r\n",
        "        if params:            \r\n",
        "            self.clf = clf(**params)\r\n",
        "        else:\r\n",
        "            self.clf = clf()\r\n",
        "\r\n",
        "    def train(self, x_train, y_train):\r\n",
        "        self.clf.fit(x_train, y_train)\r\n",
        "\r\n",
        "    def predict(self, x):\r\n",
        "        return self.clf.predict(x)\r\n",
        "    \r\n",
        "    def grid_search(self, parameters, Kfold):\r\n",
        "        self.grid = GridSearchCV(estimator = self.clf, param_grid = parameters, cv = Kfold,scoring=_score_func)\r\n",
        "        \r\n",
        "    def grid_fit(self, X, Y):\r\n",
        "        self.grid.fit(X, Y)\r\n",
        "        \r\n",
        "    def grid_predict(self, X, Y):\r\n",
        "        self.predictions = self.grid.predict(X)\r\n",
        "        print(\"Precision: {:.2f} % \".format(100*metrics.balanced_accuracy_score(Y, self.predictions)))\r\n",
        "from sklearn.model_selection import GridSearchCV"
      ],
      "execution_count": null,
      "outputs": []
    },
    {
      "cell_type": "code",
      "metadata": {
        "colab": {
          "base_uri": "https://localhost:8080/"
        },
        "id": "8NbPmE91o6p_",
        "outputId": "ead1426f-1a37-41a0-8b6e-865f71d49fdf"
      },
      "source": [
        "%%time\r\n",
        "from sklearn import tree\r\n",
        "busque_parametros = Class_Fit(clf = tree.DecisionTreeClassifier)\r\n",
        "param_grid = {\r\n",
        "             'criterion':['entropy','gini'],\r\n",
        "             'max_depth':[3,20,5,10],\r\n",
        "             'min_samples_leaf':[5,10,15]\r\n",
        "             }\r\n",
        "\r\n",
        "busque_parametros.grid_search(parameters = param_grid, Kfold = 4)\r\n",
        "busque_parametros.grid_fit(X = X_train, Y = y_train)\r\n",
        "\r\n",
        "print(\"Parámetros árbol:\",busque_parametros.grid.best_params_)\r\n",
        "mejor_arbol=busque_parametros.grid.best_estimator_"
      ],
      "execution_count": null,
      "outputs": [
        {
          "output_type": "stream",
          "text": [
            "Parámetros árbol: {'criterion': 'gini', 'max_depth': 3, 'min_samples_leaf': 5}\n",
            "CPU times: user 3.09 s, sys: 14.4 ms, total: 3.11 s\n",
            "Wall time: 3.14 s\n"
          ],
          "name": "stdout"
        }
      ]
    },
    {
      "cell_type": "code",
      "metadata": {
        "colab": {
          "base_uri": "https://localhost:8080/"
        },
        "id": "cgh-foz0rl6t",
        "outputId": "7ef12334-b37a-4275-ad6f-89632d2a0e80"
      },
      "source": [
        "parametros_arbol={'criterion': 'gini', 'max_depth': 3, 'min_samples_leaf': 5}\r\n",
        "modelo_arbol_mejores_parametros=tree.DecisionTreeClassifier(**parametros_arbol)\r\n",
        "modelo_arbol_mejores_parametros.fit(X_train, y_train)"
      ],
      "execution_count": null,
      "outputs": [
        {
          "output_type": "execute_result",
          "data": {
            "text/plain": [
              "DecisionTreeClassifier(ccp_alpha=0.0, class_weight=None, criterion='gini',\n",
              "                       max_depth=3, max_features=None, max_leaf_nodes=None,\n",
              "                       min_impurity_decrease=0.0, min_impurity_split=None,\n",
              "                       min_samples_leaf=5, min_samples_split=2,\n",
              "                       min_weight_fraction_leaf=0.0, presort='deprecated',\n",
              "                       random_state=None, splitter='best')"
            ]
          },
          "metadata": {
            "tags": []
          },
          "execution_count": 82
        }
      ]
    },
    {
      "cell_type": "code",
      "metadata": {
        "colab": {
          "base_uri": "https://localhost:8080/",
          "height": 565
        },
        "id": "5kS0QoLEsfAd",
        "outputId": "ad136c82-c539-432b-d6e1-693289c80064"
      },
      "source": [
        "from sklearn.externals.six import StringIO \r\n",
        "from sklearn.tree import export_graphviz\r\n",
        "import pydotplus\r\n",
        "from IPython.display import Image \r\n",
        "#pip install graphviz\r\n",
        "#pip install pydotplus\r\n",
        "dot_data = StringIO()\r\n",
        "\r\n",
        "feature_cols=X_train.columns\r\n",
        "export_graphviz(modelo_arbol_mejores_parametros, out_file=dot_data,  \r\n",
        "                filled=True, rounded=True,\r\n",
        "                special_characters=True,feature_names = feature_cols,class_names=['Continua','No Continua'])\r\n",
        "\r\n",
        "graph = pydotplus.graph_from_dot_data(dot_data.getvalue())  \r\n",
        "graph.write_png('arbol.png')\r\n",
        "Image(graph.create_png())"
      ],
      "execution_count": null,
      "outputs": [
        {
          "output_type": "stream",
          "text": [
            "/usr/local/lib/python3.6/dist-packages/sklearn/externals/six.py:31: FutureWarning: The module is deprecated in version 0.21 and will be removed in version 0.23 since we've dropped support for Python 2.7. Please rely on the official version of six (https://pypi.org/project/six/).\n",
            "  \"(https://pypi.org/project/six/).\", FutureWarning)\n"
          ],
          "name": "stderr"
        },
        {
          "output_type": "execute_result",
          "data": {
            "image/png": "[encoded data removed]",
            "text/plain": [
              "<IPython.core.display.Image object>"
            ]
          },
          "metadata": {
            "tags": []
          },
          "execution_count": 83
        }
      ]
    },
    {
      "cell_type": "code",
      "metadata": {
        "id": "U_Gr6p-Xtm7W"
      },
      "source": [
        "\r\n",
        "import matplotlib.pyplot as plt\r\n",
        "import itertools\r\n",
        "from sklearn.metrics import confusion_matrix\r\n",
        "# Función para plot de la matriz de confusión\r\n",
        "def plot_confusion_matrix(cm, classes, normalize=False, title='Confusion matrix', cmap=plt.cm.Blues):\r\n",
        "    if normalize:\r\n",
        "        cm = cm.astype('float') / cm.sum(axis=1)[:, np.newaxis]\r\n",
        "        print(\"Normalized confusion matrix\")\r\n",
        "    else:\r\n",
        "        print('Confusion matrix, without normalization')\r\n",
        "    #_________________________________________________\r\n",
        "    plt.imshow(cm, interpolation='nearest', cmap=cmap)\r\n",
        "    plt.title(title)\r\n",
        "    plt.colorbar()\r\n",
        "    tick_marks = np.arange(len(classes))\r\n",
        "    plt.xticks(tick_marks, classes, rotation=0)\r\n",
        "    plt.yticks(tick_marks, classes)\r\n",
        "    #_________________________________________________\r\n",
        "    fmt = '.5f' if normalize else 'd'\r\n",
        "    thresh = cm.max() / 2.\r\n",
        "    for i, j in itertools.product(range(cm.shape[0]), range(cm.shape[1])):\r\n",
        "        plt.text(j, i, format(cm[i, j], fmt),\r\n",
        "                 horizontalalignment=\"center\",\r\n",
        "                 color=\"white\" if cm[i, j] > thresh else \"black\")\r\n",
        "    #_________________________________________________\r\n",
        "    plt.tight_layout()\r\n",
        "    plt.ylabel('Etiqueta Real')\r\n",
        "    plt.xlabel('Etiqueta Predicha')"
      ],
      "execution_count": null,
      "outputs": []
    },
    {
      "cell_type": "code",
      "metadata": {
        "colab": {
          "base_uri": "https://localhost:8080/",
          "height": 735
        },
        "id": "vENIu5GLtrEi",
        "outputId": "20989a9f-df2f-4629-819a-26340637fd86"
      },
      "source": [
        "import numpy as np\r\n",
        "class_names = [i for i in range(2)]\r\n",
        "print(\"clases:\",class_names)\r\n",
        "\r\n",
        "y_pred=modelo_arbol_mejores_parametros.predict(X_test)\r\n",
        "\r\n",
        "\r\n",
        "cnf_matrix = confusion_matrix(y_test,y_pred ) \r\n",
        "np.set_printoptions(precision=2)\r\n",
        "plt.figure(figsize = (20,8))\r\n",
        "plot_confusion_matrix(cnf_matrix, classes=class_names, normalize = False, title='Matriz de Confusión test Ärbol')\r\n",
        "\r\n",
        "\r\n",
        "tn, fp, fn, tp = confusion_matrix(y_test,modelo_arbol_mejores_parametros.predict(X_test)).ravel()\r\n",
        "\r\n",
        "print(\"verdaderos positivos:\",tp)\r\n",
        "print(\"verdaderos negativos:\",tn)\r\n",
        "print(\"falsos positivos:\",fp)\r\n",
        "print(\"falsos negativos:\",fn)\r\n",
        "\r\n",
        "accuracy=(tp+tn)/(tp+tn+fp+fn)\r\n",
        "print(\"accuracy:\",accuracy)\r\n",
        "accuracy_balanced=((tn/(tn+fp))+(tp/(tp+fn)))/2\r\n",
        "print(\"accuracy balanced:\",accuracy_balanced)"
      ],
      "execution_count": null,
      "outputs": [
        {
          "output_type": "stream",
          "text": [
            "clases: [0, 1]\n",
            "Confusion matrix, without normalization\n",
            "verdaderos positivos: 107\n",
            "verdaderos negativos: 102\n",
            "falsos positivos: 4\n",
            "falsos negativos: 34\n",
            "accuracy: 0.8461538461538461\n",
            "accuracy balanced: 0.8605646995851732\n"
          ],
          "name": "stdout"
        },
        {
          "output_type": "display_data",
          "data": {
            "image/png": "[encoded data removed]",
            "text/plain": [
              "<Figure size 1440x576 with 2 Axes>"
            ]
          },
          "metadata": {
            "tags": [],
            "needs_background": "light"
          }
        }
      ]
    },
    {
      "cell_type": "code",
      "metadata": {
        "colab": {
          "base_uri": "https://localhost:8080/",
          "height": 735
        },
        "id": "mjrpzGrst8ia",
        "outputId": "bfa3cb6f-f46d-4b75-b7fa-49aca5367ac4"
      },
      "source": [
        "import numpy as np\r\n",
        "class_names = [i for i in range(2)]\r\n",
        "print(\"clases:\",class_names)\r\n",
        "\r\n",
        "y_pred=modelo_arbol_mejores_parametros.predict(X_train)\r\n",
        "\r\n",
        "\r\n",
        "cnf_matrix = confusion_matrix(y_train,y_pred ) \r\n",
        "np.set_printoptions(precision=2)\r\n",
        "plt.figure(figsize = (20,8))\r\n",
        "plot_confusion_matrix(cnf_matrix, classes=class_names, normalize = False, title='Matriz de Confusión train Ärbol')\r\n",
        "\r\n",
        "\r\n",
        "tn, fp, fn, tp = confusion_matrix(y_train,modelo_arbol_mejores_parametros.predict(X_train)).ravel()\r\n",
        "\r\n",
        "print(\"verdaderos positivos:\",tp)\r\n",
        "print(\"verdaderos negativos:\",tn)\r\n",
        "print(\"falsos positivos:\",fp)\r\n",
        "print(\"falsos negativos:\",fn)\r\n",
        "\r\n",
        "accuracy=(tp+tn)/(tp+tn+fp+fn)\r\n",
        "print(\"accuracy:\",accuracy)\r\n",
        "accuracy_balanced=((tn/(tn+fp))+(tp/(tp+fn)))/2\r\n",
        "print(\"accuracy balanced:\",accuracy_balanced)"
      ],
      "execution_count": null,
      "outputs": [
        {
          "output_type": "stream",
          "text": [
            "clases: [0, 1]\n",
            "Confusion matrix, without normalization\n",
            "verdaderos positivos: 1953\n",
            "verdaderos negativos: 1913\n",
            "falsos positivos: 122\n",
            "falsos negativos: 320\n",
            "accuracy: 0.8974001857010213\n",
            "accuracy balanced: 0.8996330170109317\n"
          ],
          "name": "stdout"
        },
        {
          "output_type": "display_data",
          "data": {
            "image/png": "[encoded data removed]",
            "text/plain": [
              "<Figure size 1440x576 with 2 Axes>"
            ]
          },
          "metadata": {
            "tags": [],
            "needs_background": "light"
          }
        }
      ]
    },
    {
      "cell_type": "code",
      "metadata": {
        "colab": {
          "base_uri": "https://localhost:8080/"
        },
        "id": "-U8IItJqu9vH",
        "outputId": "6d192b1b-d1fd-4550-fe45-94036b965818"
      },
      "source": [
        "from sklearn import metrics\r\n",
        "from sklearn.metrics import accuracy_score,precision_score,classification_report,balanced_accuracy_score\r\n",
        "\r\n",
        "\r\n",
        "def eval_model(testData,trainingData,y_test,y_train,model):\r\n",
        "    predictions_test = model.predict(testData)\r\n",
        "    predictions_train = model.predict(trainingData)\r\n",
        "    # Select (prediction, true label) and compute test error\r\n",
        "    print(\"accuracy test:\",accuracy_score(y_test, predictions_test))\r\n",
        "    print(\"accuracy train:\",accuracy_score(y_train, predictions_train))\r\n",
        "    \r\n",
        "    print(\"Balanced_accuracy test:\",balanced_accuracy_score(y_test, predictions_test))\r\n",
        "    print(\"Balanced_accuracy train:\",balanced_accuracy_score(y_train, predictions_train))\r\n",
        "      \r\n",
        "    return (balanced_accuracy_score(y_test, predictions_test))\r\n",
        "\r\n",
        "def eval_model_alt(testData,trainingData,y_test,y_train,model):\r\n",
        "    predictions_test = model.predict(testData)\r\n",
        "    predictions_train = model.predict(trainingData)\r\n",
        "    # Select (prediction, true label) and compute test error   \r\n",
        "    return (balanced_accuracy_score(y_test, predictions_test))\r\n",
        "\r\n",
        "\r\n",
        "eval_model(X_test,X_train,y_test,y_train,modelo_arbol_mejores_parametros)"
      ],
      "execution_count": null,
      "outputs": [
        {
          "output_type": "stream",
          "text": [
            "accuracy test: 0.8461538461538461\n",
            "accuracy train: 0.8974001857010213\n",
            "Balanced_accuracy test: 0.8605646995851732\n",
            "Balanced_accuracy train: 0.8996330170109317\n"
          ],
          "name": "stdout"
        },
        {
          "output_type": "execute_result",
          "data": {
            "text/plain": [
              "0.8605646995851732"
            ]
          },
          "metadata": {
            "tags": []
          },
          "execution_count": 88
        }
      ]
    },
    {
      "cell_type": "code",
      "metadata": {
        "colab": {
          "base_uri": "https://localhost:8080/"
        },
        "id": "1zbcherHvret",
        "outputId": "1063f9aa-94ca-45a6-f5f9-1f6942d1c132"
      },
      "source": [
        "parametros_arbol={'criterion': 'gini', 'max_depth': 3, 'min_samples_leaf': 5}\r\n",
        "modelo_final=tree.DecisionTreeClassifier(**parametros_arbol)\r\n",
        "modelo_final.fit(X, Y)"
      ],
      "execution_count": 98,
      "outputs": [
        {
          "output_type": "execute_result",
          "data": {
            "text/plain": [
              "DecisionTreeClassifier(ccp_alpha=0.0, class_weight=None, criterion='gini',\n",
              "                       max_depth=3, max_features=None, max_leaf_nodes=None,\n",
              "                       min_impurity_decrease=0.0, min_impurity_split=None,\n",
              "                       min_samples_leaf=5, min_samples_split=2,\n",
              "                       min_weight_fraction_leaf=0.0, presort='deprecated',\n",
              "                       random_state=None, splitter='best')"
            ]
          },
          "metadata": {
            "tags": []
          },
          "execution_count": 98
        }
      ]
    },
    {
      "cell_type": "code",
      "metadata": {
        "colab": {
          "base_uri": "https://localhost:8080/"
        },
        "id": "gEcxZCpuwU9A",
        "outputId": "533bdb64-8bd2-43ae-9eea-5f10e623bde4"
      },
      "source": [
        "import joblib \r\n",
        "\r\n",
        "\r\n",
        "joblib.dump(modelo_final,\"/content/drive/MyDrive/ELECTIVA 1/modelo_arbol.dat\")\r\n",
        "joblib.dump(X.columns,\"/content/drive/MyDrive/ELECTIVA 1/columnas.dat\")\r\n"
      ],
      "execution_count": 99,
      "outputs": [
        {
          "output_type": "execute_result",
          "data": {
            "text/plain": [
              "['/content/drive/MyDrive/ELECTIVA 1/columnas.dat']"
            ]
          },
          "metadata": {
            "tags": []
          },
          "execution_count": 99
        }
      ]
    }
  ]
}